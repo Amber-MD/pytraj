{
 "cells": [
  {
   "cell_type": "code",
   "execution_count": 19,
   "metadata": {
    "collapsed": true
   },
   "outputs": [],
   "source": [
    "import pytraj as pt"
   ]
  },
  {
   "cell_type": "code",
   "execution_count": 20,
   "metadata": {
    "collapsed": false,
    "scrolled": false
   },
   "outputs": [
    {
     "data": {
      "text/plain": [
       "pytraj.TrajectoryIterator, 10 frames: \n",
       "Size: 0.001183 (GB)\n",
       "<Topology: 5293 atoms, 1704 residues, 1692 mols, PBC with box type = ortho>\n",
       "           "
      ]
     },
     "execution_count": 20,
     "metadata": {},
     "output_type": "execute_result"
    }
   ],
   "source": [
    "traj = pt.datafiles.load_tz2_ortho()\n",
    "traj"
   ]
  },
  {
   "cell_type": "code",
   "execution_count": 27,
   "metadata": {
    "collapsed": false
   },
   "outputs": [
    {
     "data": {
      "text/html": [
       "\n",
       "<div id=\"bd58ba21-ba49-4cd9-96ad-0af9ef2fb4af\">0</div>\n",
       "<div style=\"border: 1px solid black; width:500px\">\n",
       "  <div id=\"7f575f2d-ba8d-413e-ab7f-a581b06edb19\" style=\"background-color:#0080FF; width:0%\">&nbsp;</div>\n",
       "</div>\n"
      ],
      "text/plain": [
       "<IPython.core.display.HTML object>"
      ]
     },
     "metadata": {},
     "output_type": "display_data"
    },
    {
     "data": {
      "application/javascript": [
       "$('div#bd58ba21-ba49-4cd9-96ad-0af9ef2fb4af').text(10.0);\n",
       "$('div#7f575f2d-ba8d-413e-ab7f-a581b06edb19').width('10.0%');"
      ],
      "text/plain": [
       "<IPython.core.display.Javascript object>"
      ]
     },
     "metadata": {},
     "output_type": "display_data"
    },
    {
     "data": {
      "application/javascript": [
       "$('div#bd58ba21-ba49-4cd9-96ad-0af9ef2fb4af').text(20.0);\n",
       "$('div#7f575f2d-ba8d-413e-ab7f-a581b06edb19').width('20.0%');"
      ],
      "text/plain": [
       "<IPython.core.display.Javascript object>"
      ]
     },
     "metadata": {},
     "output_type": "display_data"
    },
    {
     "data": {
      "application/javascript": [
       "$('div#bd58ba21-ba49-4cd9-96ad-0af9ef2fb4af').text(40.0);\n",
       "$('div#7f575f2d-ba8d-413e-ab7f-a581b06edb19').width('40.0%');"
      ],
      "text/plain": [
       "<IPython.core.display.Javascript object>"
      ]
     },
     "metadata": {},
     "output_type": "display_data"
    },
    {
     "data": {
      "application/javascript": [
       "$('div#bd58ba21-ba49-4cd9-96ad-0af9ef2fb4af').text(60.0);\n",
       "$('div#7f575f2d-ba8d-413e-ab7f-a581b06edb19').width('60.0%');"
      ],
      "text/plain": [
       "<IPython.core.display.Javascript object>"
      ]
     },
     "metadata": {},
     "output_type": "display_data"
    },
    {
     "data": {
      "application/javascript": [
       "$('div#bd58ba21-ba49-4cd9-96ad-0af9ef2fb4af').text(80.0);\n",
       "$('div#7f575f2d-ba8d-413e-ab7f-a581b06edb19').width('80.0%');"
      ],
      "text/plain": [
       "<IPython.core.display.Javascript object>"
      ]
     },
     "metadata": {},
     "output_type": "display_data"
    },
    {
     "data": {
      "application/javascript": [
       "$('div#bd58ba21-ba49-4cd9-96ad-0af9ef2fb4af').text(100.0);\n",
       "$('div#7f575f2d-ba8d-413e-ab7f-a581b06edb19').width('100.0%');"
      ],
      "text/plain": [
       "<IPython.core.display.Javascript object>"
      ]
     },
     "metadata": {},
     "output_type": "display_data"
    },
    {
     "data": {
      "text/plain": [
       "OrderedDict([('RMSD_00000',\n",
       "              array([  0.        ,   8.2839407 ,   9.84987632,  11.27066249,\n",
       "                      11.86574314,  12.52783682,  13.33113744,  13.53175196,\n",
       "                      13.80130549,  14.00609992])),\n",
       "             ('MSURF_00001',\n",
       "              array([  1.44871344e+04,   1.44680409e+04,  -1.00000000e+00,\n",
       "                       1.46994504e+04,   1.45454400e+04,   1.45853538e+04,\n",
       "                       1.51371403e+04,   1.49587529e+04,   1.41965523e+04,\n",
       "                       1.48448601e+04]))])"
      ]
     },
     "execution_count": 27,
     "metadata": {},
     "output_type": "execute_result"
    }
   ],
   "source": [
    "from pytraj.utils.progress import ProgressBarTrajectory\n",
    "\n",
    "t2 = ProgressBarTrajectory(traj, every=2)\n",
    "\n",
    "pt.compute(['rmsd', 'molsurf'], t2)"
   ]
  }
 ],
 "metadata": {
  "kernelspec": {
   "display_name": "Python 3",
   "language": "python",
   "name": "python3"
  },
  "language_info": {
   "codemirror_mode": {
    "name": "ipython",
    "version": 3
   },
   "file_extension": ".py",
   "mimetype": "text/x-python",
   "name": "python",
   "nbconvert_exporter": "python",
   "pygments_lexer": "ipython3",
   "version": "3.5.1"
  }
 },
 "nbformat": 4,
 "nbformat_minor": 0
}
