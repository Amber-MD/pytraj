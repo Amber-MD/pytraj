{
 "cells": [
  {
   "cell_type": "code",
   "execution_count": 17,
   "metadata": {
    "collapsed": true
   },
   "outputs": [],
   "source": [
    "import pytraj as pt\n",
    "from tqdm import tqdm_notebook"
   ]
  },
  {
   "cell_type": "code",
   "execution_count": 18,
   "metadata": {
    "collapsed": false,
    "scrolled": false
   },
   "outputs": [
    {
     "data": {
      "text/plain": [
       "pytraj.TrajectoryIterator, 10 frames: \n",
       "Size: 0.001183 (GB)\n",
       "<Topology: 5293 atoms, 1704 residues, 1692 mols, PBC with box type = ortho>\n",
       "           "
      ]
     },
     "execution_count": 18,
     "metadata": {},
     "output_type": "execute_result"
    }
   ],
   "source": [
    "traj = pt.datafiles.load_tz2_ortho()\n",
    "traj"
   ]
  },
  {
   "cell_type": "code",
   "execution_count": 22,
   "metadata": {
    "collapsed": false
   },
   "outputs": [
    {
     "name": "stdout",
     "output_type": "stream",
     "text": [
      "\n"
     ]
    },
    {
     "data": {
      "text/plain": [
       "OrderedDict([('RMSD_00000',\n",
       "              array([  0.        ,   8.2839407 ,   9.84987632,  11.27066249,\n",
       "                      11.86574314,  12.52783682,  13.33113744,  13.53175196,\n",
       "                      13.80130549,  14.00609992])),\n",
       "             ('MSURF_00001',\n",
       "              array([  1.44871344e+04,   1.44680409e+04,  -1.00000000e+00,\n",
       "                       1.46994504e+04,   1.45454400e+04,   1.45853538e+04,\n",
       "                       1.51371403e+04,   1.49587529e+04,   1.41965523e+04,\n",
       "                       1.48448601e+04]))])"
      ]
     },
     "execution_count": 22,
     "metadata": {},
     "output_type": "execute_result"
    }
   ],
   "source": [
    "from pytraj.utils.progress import ProgressBarTrajectory\n",
    "\n",
    "t2 = ProgressBarTrajectory(traj, style='tqdm')\n",
    "\n",
    "pt.compute(['rmsd', 'molsurf'], t2, every=10)"
   ]
  }
 ],
 "metadata": {
  "kernelspec": {
   "display_name": "Python 3",
   "language": "python",
   "name": "python3"
  },
  "language_info": {
   "codemirror_mode": {
    "name": "ipython",
    "version": 3
   },
   "file_extension": ".py",
   "mimetype": "text/x-python",
   "name": "python",
   "nbconvert_exporter": "python",
   "pygments_lexer": "ipython3",
   "version": "3.5.1"
  }
 },
 "nbformat": 4,
 "nbformat_minor": 0
}
