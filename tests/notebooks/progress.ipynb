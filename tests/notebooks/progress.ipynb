{
 "cells": [
  {
   "cell_type": "code",
   "execution_count": 1,
   "metadata": {
    "collapsed": true
   },
   "outputs": [],
   "source": [
    "import pytraj as pt"
   ]
  },
  {
   "cell_type": "code",
   "execution_count": 2,
   "metadata": {
    "collapsed": false,
    "scrolled": false
   },
   "outputs": [
    {
     "data": {
      "text/plain": [
       "pytraj.TrajectoryIterator, 10 frames: \n",
       "Size: 0.001183 (GB)\n",
       "<Topology: 5293 atoms, 1704 residues, 1692 mols, PBC with box type = ortho>\n",
       "           "
      ]
     },
     "execution_count": 2,
     "metadata": {},
     "output_type": "execute_result"
    }
   ],
   "source": [
    "traj = pt.datafiles.load_tz2_ortho()\n",
    "traj"
   ]
  },
  {
   "cell_type": "code",
   "execution_count": 3,
   "metadata": {
    "collapsed": false
   },
   "outputs": [
    {
     "data": {
      "text/html": [
       "<style>\n",
       "/****************************************************************\n",
       " *\n",
       " * CSS Percentage Circle\n",
       " * Based on CSS provided by Andre Firchow\n",
       " *\n",
       "*****************************************************************/\n",
       "\n",
       ".prog-circle .slice {\n",
       "  position : absolute;\n",
       "  width    : 1em;\n",
       "  height   : 1em;\n",
       "  clip     : rect(0em, 1em, 1em, 0.5em);\n",
       "}\n",
       ".prog-circle .slice.clipauto {\n",
       "  clip : rect(auto, auto, auto, auto);\n",
       "}\n",
       ".prog-circle .fill, .prog-circle .bar {\n",
       "  position              : absolute;\n",
       "  border                : 0.08em solid #90c844;\n",
       "  width                 : 0.84em;\n",
       "  height                : 0.84em;\n",
       "  clip                  : rect(0em, .5em, 1em, 0em);\n",
       "  -webkit-border-radius : 50%;\n",
       "  -moz-border-radius    : 50%;\n",
       "  -ms-border-radius     : 50%;\n",
       "  -o-border-radius      : 50%;\n",
       "  border-radius         : 50%;\n",
       "  -webkit-transform     : rotate(20deg);\n",
       "  -moz-transform        : rotate(20deg);\n",
       "  -ms-transform         : rotate(20deg);\n",
       "  -o-transform          : rotate(20deg);\n",
       "  transform             : rotate(20deg);\n",
       "}\n",
       ".prog-circle {\n",
       "  position              : relative;\n",
       "  font-size             : 120px;\n",
       "  width                 : 1em;\n",
       "  height                : 1em;\n",
       "  -webkit-border-radius : 50%;\n",
       "  -moz-border-radius    : 50%;\n",
       "  -ms-border-radius     : 50%;\n",
       "  -o-border-radius      : 50%;\n",
       "  border-radius         : 50%;\n",
       "  float                 : left;\n",
       "  margin                : 0 0.1em 0.1em 0;\n",
       "  background-color      : #e6f2b6;\n",
       "}\n",
       ".prog-circle .percenttext {\n",
       "  position                           : absolute;\n",
       "  width                              : 100%;\n",
       "  height                             : 1em;\n",
       "  z-index                            : 1;\n",
       "  margin                             : auto;\n",
       "  top                                : 0;\n",
       "  left                               : 0;\n",
       "  right                              : 0;\n",
       "  bottom                             : 0;\n",
       "  font-size                          : 0.3em;\n",
       "  color                              : #90c844;\n",
       "  display                            : block;\n",
       "  text-align                         : center;\n",
       "  white-space                        : nowrap;\n",
       "  line-height                        : 100%;\n",
       "  -webkit-transition-duration        : 0.2s;\n",
       "  -moz-transition-duration           : 0.2s;\n",
       "  -o-transition-duration             : 0.2s;\n",
       "  transition-duration                : 0.2s;\n",
       "  -webkit-transition-timing-function : ease-out;\n",
       "  -moz-transition-timing-function    : ease-out;\n",
       "  -o-transition-timing-function      : ease-out;\n",
       "  transition-timing-function         : ease-out;\n",
       "}\n",
       ".prog-circle .after {\n",
       "  position              : absolute;\n",
       "  top                   : 0.08em;\n",
       "  left                  : 0.08em;\n",
       "  display               : block;\n",
       "  content               : \" \";\n",
       "  -webkit-border-radius : 50%;\n",
       "  -moz-border-radius    : 50%;\n",
       "  -ms-border-radius     : 50%;\n",
       "  -o-border-radius      : 50%;\n",
       "  border-radius         : 50%;\n",
       "  background-color      : #FFFFFF;\n",
       "  width                 : 0.84em;\n",
       "  height                : 0.84em;\n",
       "}</style>\n",
       "<script>\n",
       "/**************************************************************\n",
       "*\n",
       "* Progress Circle 1.1.0\n",
       "* Updated support for bootstrap\n",
       "*\n",
       "**************************************************************/\n",
       "\n",
       "( function( $ ){\n",
       "\tvar ProgressCircle = function( element, options ){\n",
       "\n",
       "\t\tvar settings          = $.extend( {}, $.fn.progressCircle.defaults, options );\n",
       "\t\tvar thicknessConstant = 0.02;\n",
       "\t\tvar nRadian           = 0;\n",
       "\n",
       "\t\tcomputePercent();\n",
       "\t\tsetThickness();\n",
       "\n",
       "\t\tvar border      = ( settings.thickness * thicknessConstant ) + 'em';\n",
       "\t\tvar offset      = ( 1 - thicknessConstant * settings.thickness * 2 ) + 'em';\n",
       "\t\tvar circle      = $( element );\n",
       "\t\tvar progCirc    = circle.find( '.prog-circle' );\n",
       "\t\tvar circleDiv   = progCirc.find( '.bar' );\n",
       "\t\tvar circleSpan  = progCirc.children( '.percenttext' );\n",
       "\t\tvar circleFill  = progCirc.find( '.fill' );\n",
       "\t\tvar circleSlice = progCirc.find( '.slice' );\n",
       "\n",
       "\t\tif ( settings.nPercent == 0 ) {\n",
       "\t\t\tcircleSlice.hide();\n",
       "\t\t} else {\n",
       "\t\t\tresetCircle();\n",
       "\t\t\ttransformCircle( nRadians, circleDiv );\n",
       "\t\t}\n",
       "\t\tsetBorderThickness();\n",
       "\t\tupdatePercentage();\n",
       "\t\tsetCircleSize();\n",
       "\n",
       "\t\tfunction computePercent () {\n",
       "\t\t\tsettings.nPercent > 100 || settings.nPercent < 0 ? settings.nPercent = 0 : settings.nPercent;\n",
       "\t\t\tnRadians = ( 360 * settings.nPercent ) / 100;\n",
       "\t\t}\n",
       "\n",
       "\t\tfunction setThickness () {\n",
       "\t\t\tif ( settings.thickness > 10 ) {\n",
       "\t\t\t\tsettings.thickness = 10;\n",
       "\t\t\t} else if ( settings.thickness < 1 ) {\n",
       "\t\t\t\tsettings.thickness = 1;\n",
       "\t\t\t} else {\n",
       "\t\t\t\tsettings.thickness = Math.round( settings.thickness );\n",
       "\t\t\t}\n",
       "\t\t}\n",
       "\n",
       "\t\tfunction setCircleSize ( ) {\n",
       "\t\t\tprogCirc.css( 'font-size', settings.circleSize + 'px' );\n",
       "\t\t}\n",
       "\n",
       "\t\tfunction transformCircle ( nRadians, cDiv ) {\n",
       "\t\t\tvar rotate = \"rotate(\" + nRadians + \"deg)\";\n",
       "\t    cDiv.css({\n",
       "\t      \"-webkit-transform\" : rotate,\n",
       "\t      \"-moz-transform\"    : rotate,\n",
       "\t      \"-ms-transform\"     : rotate,\n",
       "\t      \"-o-transform\"      : rotate,\n",
       "\t      \"transform\"         : rotate\n",
       "\t    });\n",
       "\t    if( nRadians > 180 ) {\n",
       "\t\t    transformCircle( 180, circleFill );\n",
       "\t\t    circleSlice.addClass( ' clipauto ');\n",
       "\t\t\t}\n",
       "\t\t}\n",
       "\n",
       "\t\tfunction setBorderThickness () {\n",
       "\t\t\tprogCirc.find(' .slice > div ').css({\n",
       "\t\t\t\t'border-width' : border,\n",
       "\t\t\t\t'width'        : offset,\n",
       "\t\t\t\t'height'       : offset\n",
       "\t\t\t})\n",
       "\t\t\tif( settings.barOverride ) {\n",
       "\t\t\t\tprogCirc.find(' .slice > div.bar ').css({\n",
       "\t\t\t\t\t'width'        : '1em',\n",
       "\t\t\t\t\t'height'       : '1em'\n",
       "\t\t\t\t})\n",
       "\t\t\t}\n",
       "\t\t\tprogCirc.find('.after').css({\n",
       "\t\t\t\t'top'    : border,\n",
       "\t\t\t\t'left'   : border,\n",
       "\t\t\t\t'width'  : offset,\n",
       "\t\t\t\t'height' : offset\n",
       "\t\t\t})\n",
       "\t\t}\n",
       "\n",
       "\t\tfunction resetCircle () {\n",
       "\t\t\tcircleSlice.show();\n",
       "\t\t\tcircleSpan.text( '' );\n",
       "\t\t\tcircleSlice.removeClass( 'clipauto' )\n",
       "\t\t\ttransformCircle( 20, circleDiv );\n",
       "\t\t\ttransformCircle( 20, circleFill );\n",
       "\t\t\treturn this;\n",
       "\t\t}\n",
       "\n",
       "\t\tfunction updatePercentage () {\n",
       "\t\t\tsettings.showPercentText && circleSpan.text( settings.nPercent + '%' );\n",
       "\t\t}\n",
       "\t};\n",
       "\n",
       "\t$.fn.progressCircle = function( options ) {\n",
       "\t\treturn this.each( function( key, value ){\n",
       "      var element = $( this );\n",
       "      if ( element.data( 'progressCircle' ) ) {\n",
       "      \tvar progressCircle = new ProgressCircle( this, options );\n",
       "      \treturn element.data( 'progressCircle' );\n",
       "      }\n",
       "    \t$( this ).append( '<div class=\"prog-circle\">' +\n",
       "\t                 \t\t\t'\t<div class=\"percenttext\"> </div>' +\n",
       "\t                 \t\t\t'\t<div class=\"slice\">' +\n",
       "\t                 \t\t\t'\t\t<div class=\"bar\"> </div>' +\n",
       "\t                 \t\t\t'\t\t<div class=\"fill\"> </div>' +\n",
       "\t                 \t\t\t'\t</div>' +\n",
       "\t                 \t\t\t'\t<div class=\"after\"> </div>' +\n",
       "\t                 \t\t\t'</div>');\n",
       "      var progressCircle = new ProgressCircle( this, options );\n",
       "      element.data( 'progressCircle', progressCircle );\n",
       "  \t});\n",
       "\t};\n",
       "\n",
       "\t$.fn.progressCircle.defaults = {\n",
       "\t\tnPercent        : 50,\n",
       "\t\tshowPercentText : true,\n",
       "\t\tcircleSize      : 100,\n",
       "\t\tthickness       : 3,\n",
       "\t\tbarOverride     : true\n",
       "\t};\n",
       "\n",
       "})( jQuery );\n",
       "</script>\n",
       "\n",
       "<div id=\"a0fc6015-c40e-4665-99c0-3b8ba6f8c921\"></div>\n",
       "\n",
       "<script>\n",
       "    var ele = \"#a0fc6015-c40e-4665-99c0-3b8ba6f8c921\";\n",
       "    $(ele).progressCircle({\n",
       "        nPercent        : 0,\n",
       "        showPercentText : true,\n",
       "        thickness       : 5,\n",
       "        circleSize      : 60,\n",
       "    });\n",
       "</script>\n"
      ],
      "text/plain": [
       "<IPython.core.display.HTML object>"
      ]
     },
     "metadata": {},
     "output_type": "display_data"
    },
    {
     "data": {
      "application/javascript": [
       "\n",
       "$(\"#a0fc6015-c40e-4665-99c0-3b8ba6f8c921\").progressCircle({\n",
       "    nPercent        : 10.0,\n",
       "    showPercentText : true,\n",
       "    thickness       : 5,\n",
       "    circleSize      : 60,\n",
       "});\n"
      ],
      "text/plain": [
       "<IPython.core.display.Javascript object>"
      ]
     },
     "metadata": {},
     "output_type": "display_data"
    },
    {
     "data": {
      "application/javascript": [
       "\n",
       "$(\"#a0fc6015-c40e-4665-99c0-3b8ba6f8c921\").progressCircle({\n",
       "    nPercent        : 20.0,\n",
       "    showPercentText : true,\n",
       "    thickness       : 5,\n",
       "    circleSize      : 60,\n",
       "});\n"
      ],
      "text/plain": [
       "<IPython.core.display.Javascript object>"
      ]
     },
     "metadata": {},
     "output_type": "display_data"
    },
    {
     "data": {
      "application/javascript": [
       "\n",
       "$(\"#a0fc6015-c40e-4665-99c0-3b8ba6f8c921\").progressCircle({\n",
       "    nPercent        : 30.0,\n",
       "    showPercentText : true,\n",
       "    thickness       : 5,\n",
       "    circleSize      : 60,\n",
       "});\n"
      ],
      "text/plain": [
       "<IPython.core.display.Javascript object>"
      ]
     },
     "metadata": {},
     "output_type": "display_data"
    },
    {
     "data": {
      "application/javascript": [
       "\n",
       "$(\"#a0fc6015-c40e-4665-99c0-3b8ba6f8c921\").progressCircle({\n",
       "    nPercent        : 40.0,\n",
       "    showPercentText : true,\n",
       "    thickness       : 5,\n",
       "    circleSize      : 60,\n",
       "});\n"
      ],
      "text/plain": [
       "<IPython.core.display.Javascript object>"
      ]
     },
     "metadata": {},
     "output_type": "display_data"
    },
    {
     "data": {
      "application/javascript": [
       "\n",
       "$(\"#a0fc6015-c40e-4665-99c0-3b8ba6f8c921\").progressCircle({\n",
       "    nPercent        : 50.0,\n",
       "    showPercentText : true,\n",
       "    thickness       : 5,\n",
       "    circleSize      : 60,\n",
       "});\n"
      ],
      "text/plain": [
       "<IPython.core.display.Javascript object>"
      ]
     },
     "metadata": {},
     "output_type": "display_data"
    },
    {
     "data": {
      "application/javascript": [
       "\n",
       "$(\"#a0fc6015-c40e-4665-99c0-3b8ba6f8c921\").progressCircle({\n",
       "    nPercent        : 60.0,\n",
       "    showPercentText : true,\n",
       "    thickness       : 5,\n",
       "    circleSize      : 60,\n",
       "});\n"
      ],
      "text/plain": [
       "<IPython.core.display.Javascript object>"
      ]
     },
     "metadata": {},
     "output_type": "display_data"
    },
    {
     "data": {
      "application/javascript": [
       "\n",
       "$(\"#a0fc6015-c40e-4665-99c0-3b8ba6f8c921\").progressCircle({\n",
       "    nPercent        : 70.0,\n",
       "    showPercentText : true,\n",
       "    thickness       : 5,\n",
       "    circleSize      : 60,\n",
       "});\n"
      ],
      "text/plain": [
       "<IPython.core.display.Javascript object>"
      ]
     },
     "metadata": {},
     "output_type": "display_data"
    },
    {
     "data": {
      "application/javascript": [
       "\n",
       "$(\"#a0fc6015-c40e-4665-99c0-3b8ba6f8c921\").progressCircle({\n",
       "    nPercent        : 80.0,\n",
       "    showPercentText : true,\n",
       "    thickness       : 5,\n",
       "    circleSize      : 60,\n",
       "});\n"
      ],
      "text/plain": [
       "<IPython.core.display.Javascript object>"
      ]
     },
     "metadata": {},
     "output_type": "display_data"
    },
    {
     "data": {
      "application/javascript": [
       "\n",
       "$(\"#a0fc6015-c40e-4665-99c0-3b8ba6f8c921\").progressCircle({\n",
       "    nPercent        : 90.0,\n",
       "    showPercentText : true,\n",
       "    thickness       : 5,\n",
       "    circleSize      : 60,\n",
       "});\n"
      ],
      "text/plain": [
       "<IPython.core.display.Javascript object>"
      ]
     },
     "metadata": {},
     "output_type": "display_data"
    },
    {
     "data": {
      "application/javascript": [
       "\n",
       "$(\"#a0fc6015-c40e-4665-99c0-3b8ba6f8c921\").progressCircle({\n",
       "    nPercent        : 100.0,\n",
       "    showPercentText : true,\n",
       "    thickness       : 5,\n",
       "    circleSize      : 60,\n",
       "});\n"
      ],
      "text/plain": [
       "<IPython.core.display.Javascript object>"
      ]
     },
     "metadata": {},
     "output_type": "display_data"
    },
    {
     "data": {
      "text/plain": [
       "OrderedDict([('RMSD_00000',\n",
       "              array([  0.        ,   8.2839407 ,   9.84987632,  11.27066249,\n",
       "                      11.86574314,  12.52783682,  13.33113744,  13.53175196,\n",
       "                      13.80130549,  14.00609992])),\n",
       "             ('MSURF_00001',\n",
       "              array([  1.44871344e+04,   1.44680409e+04,  -1.00000000e+00,\n",
       "                       1.46994504e+04,   1.45454400e+04,   1.45853538e+04,\n",
       "                       1.51371403e+04,   1.49587529e+04,   1.41965523e+04,\n",
       "                       1.48448601e+04]))])"
      ]
     },
     "execution_count": 3,
     "metadata": {},
     "output_type": "execute_result"
    }
   ],
   "source": [
    "from pytraj.utils.progress import ProgressBarTrajectory\n",
    "\n",
    "t2 = ProgressBarTrajectory(traj, style='circle')\n",
    "\n",
    "pt.compute(['rmsd', 'molsurf'], t2)"
   ]
  }
 ],
 "metadata": {
  "kernelspec": {
   "display_name": "Python 3",
   "language": "python",
   "name": "python3"
  },
  "language_info": {
   "codemirror_mode": {
    "name": "ipython",
    "version": 3
   },
   "file_extension": ".py",
   "mimetype": "text/x-python",
   "name": "python",
   "nbconvert_exporter": "python",
   "pygments_lexer": "ipython3",
   "version": "3.5.1"
  }
 },
 "nbformat": 4,
 "nbformat_minor": 0
}
