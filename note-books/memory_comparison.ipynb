{
 "cells": [
  {
   "cell_type": "markdown",
   "metadata": {},
   "source": [
    "# Comparing memory usage for 3 packages: `pytraj`, `mdtraj`, `MDAnalysis`\n",
    "\n",
    "#### Hints: `pytraj` is 3 times less efficient in memory than `mdtraj`. `MDAnalysis` uses iterator all the time so it's very friendly with RAM"
   ]
  },
  {
   "cell_type": "code",
   "execution_count": 1,
   "metadata": {
    "collapsed": false
   },
   "outputs": [],
   "source": [
    "# require: ipython_memory_usage.py (https://github.com/ianozsvald/ipython_memory_usage) # to profile\n",
    "# every line of code in ipython and notebook\n",
    "# https://pypi.python.org/pypi/memory_profiler\n",
    "# https://pypi.python.org/pypi/psutil\n",
    "\n",
    "# Note: I turned off MDAnalysis since getting error about netcdf file when running this notebook several times."
   ]
  },
  {
   "cell_type": "code",
   "execution_count": 2,
   "metadata": {
    "collapsed": false,
    "scrolled": true
   },
   "outputs": [
    {
     "name": "stdout",
     "output_type": "stream",
     "text": [
      "In [2] used 39.2578 MiB RAM in 0.97s, peaked 0.00 MiB above current, total RAM usage 74.16 MiB\n"
     ]
    }
   ],
   "source": [
    "import netCDF4 as netcdf\n",
    "import ipython_memory_usage as imu\n",
    "import mdtraj as md\n",
    "import pytraj.io as io\n",
    "from MDAnalysis import Universe\n",
    "imu.start_watching_memory()"
   ]
  },
  {
   "cell_type": "markdown",
   "metadata": {},
   "source": [
    "## Loading"
   ]
  },
  {
   "cell_type": "code",
   "execution_count": 3,
   "metadata": {
    "collapsed": false
   },
   "outputs": [
    {
     "name": "stdout",
     "output_type": "stream",
     "text": [
      "200M\t../tests/data/nogit/remd/remd.000.ncdf\n",
      "In [3] used 0.0586 MiB RAM in 0.22s, peaked 0.00 MiB above current, total RAM usage 74.21 MiB\n"
     ]
    }
   ],
   "source": [
    "## loading to memory\n",
    "topname = \"../tests/data/nogit/remd/myparm.top\"\n",
    "fname = \"../tests/data/nogit/remd/remd.000.ncdf\"\n",
    "\n",
    "!du -sh $fname"
   ]
  },
  {
   "cell_type": "code",
   "execution_count": 4,
   "metadata": {
    "collapsed": false
   },
   "outputs": [
    {
     "name": "stdout",
     "output_type": "stream",
     "text": [
      "In [4] used 1080.5820 MiB RAM in 2.70s, peaked 0.00 MiB above current, total RAM usage 1154.80 MiB\n"
     ]
    }
   ],
   "source": [
    "from pytraj import Trajectory\n",
    "fa = Trajectory(fname, topname)"
   ]
  },
  {
   "cell_type": "code",
   "execution_count": 5,
   "metadata": {
    "collapsed": false
   },
   "outputs": [
    {
     "name": "stdout",
     "output_type": "stream",
     "text": [
      "In [5] used 219.1250 MiB RAM in 2.12s, peaked 199.68 MiB above current, total RAM usage 1373.92 MiB\n"
     ]
    }
   ],
   "source": [
    "# load mdtraj\n",
    "mtraj = md.load(fname, top=\"../tests/data/nogit/remd/myparm.parm7\")"
   ]
  },
  {
   "cell_type": "code",
   "execution_count": 6,
   "metadata": {
    "collapsed": false
   },
   "outputs": [
    {
     "name": "stdout",
     "output_type": "stream",
     "text": [
      "In [6] used 12.0430 MiB RAM in 1.06s, peaked 0.00 MiB above current, total RAM usage 1385.96 MiB\n"
     ]
    }
   ],
   "source": [
    "# load MDAnalysis\n",
    "u = Universe(topname, fname)"
   ]
  },
  {
   "cell_type": "code",
   "execution_count": 7,
   "metadata": {
    "collapsed": false
   },
   "outputs": [
    {
     "name": "stdout",
     "output_type": "stream",
     "text": [
      "In [7] used 12.0898 MiB RAM in 0.31s, peaked 0.00 MiB above current, total RAM usage 1398.05 MiB\n"
     ]
    }
   ],
   "source": [
    "# load pytraj: TrajReadOnly\n",
    "trajread = io.iterload(fname, topname)"
   ]
  },
  {
   "cell_type": "code",
   "execution_count": 8,
   "metadata": {
    "collapsed": false
   },
   "outputs": [
    {
     "name": "stdout",
     "output_type": "stream",
     "text": [
      "In [8] used 535.5664 MiB RAM in 2.08s, peaked 0.00 MiB above current, total RAM usage 1933.62 MiB\n"
     ]
    }
   ],
   "source": [
    "# load pytraj: Trajectory\n",
    "fa = io.load(fname, topname)[:]\n",
    "\n",
    "# Trajectory is 2 times heavier than mtraj (from mdtraj), both trajectories are in memory. The file size is ~200 MB.\n",
    "# Trajectory is too fat. :D"
   ]
  },
  {
   "cell_type": "code",
   "execution_count": 9,
   "metadata": {
    "collapsed": false
   },
   "outputs": [
    {
     "name": "stdout",
     "output_type": "stream",
     "text": [
      "In [9] used 535.4062 MiB RAM in 2.08s, peaked 0.00 MiB above current, total RAM usage 2469.03 MiB\n"
     ]
    }
   ],
   "source": [
    "# load pytraj: Trajectory\n",
    "traj = io.load(fname, topname)\n",
    "fa = traj[:]\n",
    "\n",
    "# Trajectory is 2 times heavier than mtraj (from mdtraj), both trajectories are in memory. The file size is ~200 MB.\n",
    "# Trajectory is too fat. :D"
   ]
  },
  {
   "cell_type": "markdown",
   "metadata": {},
   "source": [
    "## Slicing - single index"
   ]
  },
  {
   "cell_type": "code",
   "execution_count": 10,
   "metadata": {
    "collapsed": false
   },
   "outputs": [
    {
     "data": {
      "text/plain": [
       "< Timestep 101 with unit cell dimensions [  61.17625427   61.17625427   61.17625427  109.47122192  109.47122192\n",
       "  109.47122192] >"
      ]
     },
     "execution_count": 10,
     "metadata": {},
     "output_type": "execute_result"
    },
    {
     "name": "stdout",
     "output_type": "stream",
     "text": [
      "In [10] used 0.0703 MiB RAM in 0.12s, peaked 0.00 MiB above current, total RAM usage 2469.10 MiB\n"
     ]
    }
   ],
   "source": [
    "# MDAnalysis\n",
    "u.trajectory[100]"
   ]
  },
  {
   "cell_type": "code",
   "execution_count": 11,
   "metadata": {
    "collapsed": false
   },
   "outputs": [
    {
     "data": {
      "text/plain": [
       "<mdtraj.Trajectory with 1 frames, 17443 atoms, 5666 residues, and unitcells at 0x2aab284510d0>"
      ]
     },
     "execution_count": 11,
     "metadata": {},
     "output_type": "execute_result"
    },
    {
     "name": "stdout",
     "output_type": "stream",
     "text": [
      "In [11] used 9.7773 MiB RAM in 0.46s, peaked 0.00 MiB above current, total RAM usage 2478.88 MiB\n"
     ]
    }
   ],
   "source": [
    "# mdtraj\n",
    "mtraj[100]"
   ]
  },
  {
   "cell_type": "code",
   "execution_count": 12,
   "metadata": {
    "collapsed": false
   },
   "outputs": [
    {
     "data": {
      "text/plain": [
       "<Frame with 17443 atoms>"
      ]
     },
     "execution_count": 12,
     "metadata": {},
     "output_type": "execute_result"
    },
    {
     "name": "stdout",
     "output_type": "stream",
     "text": [
      "In [12] used 0.4258 MiB RAM in 0.11s, peaked 0.00 MiB above current, total RAM usage 2479.30 MiB\n"
     ]
    }
   ],
   "source": [
    "# pytraj\n",
    "trajread[100]"
   ]
  },
  {
   "cell_type": "code",
   "execution_count": 13,
   "metadata": {
    "collapsed": false
   },
   "outputs": [
    {
     "data": {
      "text/plain": [
       "<Frame with 17443 atoms>"
      ]
     },
     "execution_count": 13,
     "metadata": {},
     "output_type": "execute_result"
    },
    {
     "name": "stdout",
     "output_type": "stream",
     "text": [
      "In [13] used 0.1445 MiB RAM in 0.10s, peaked 0.00 MiB above current, total RAM usage 2479.45 MiB\n"
     ]
    }
   ],
   "source": [
    "# pytraj, Trajectory\n",
    "fa[100]"
   ]
  },
  {
   "cell_type": "markdown",
   "metadata": {},
   "source": [
    "## Slicing - a chunk"
   ]
  },
  {
   "cell_type": "code",
   "execution_count": 14,
   "metadata": {
    "collapsed": false
   },
   "outputs": [
    {
     "data": {
      "text/plain": [
       "<generator object iterNETCDF at 0x2aab1832b690>"
      ]
     },
     "execution_count": 14,
     "metadata": {},
     "output_type": "execute_result"
    },
    {
     "name": "stdout",
     "output_type": "stream",
     "text": [
      "In [14] used 0.0039 MiB RAM in 0.10s, peaked 0.00 MiB above current, total RAM usage 2479.45 MiB\n"
     ]
    }
   ],
   "source": [
    "# MDanalysis, they use iterator. memory is very small\n",
    "u.trajectory[200:500]"
   ]
  },
  {
   "cell_type": "code",
   "execution_count": 15,
   "metadata": {
    "collapsed": false
   },
   "outputs": [
    {
     "data": {
      "text/plain": [
       "<mdtraj.Trajectory with 300 frames, 17443 atoms, 5666 residues, and unitcells at 0x2aab188cc9d0>"
      ]
     },
     "execution_count": 15,
     "metadata": {},
     "output_type": "execute_result"
    },
    {
     "name": "stdout",
     "output_type": "stream",
     "text": [
      "In [15] used 70.2109 MiB RAM in 0.58s, peaked 0.00 MiB above current, total RAM usage 2549.66 MiB\n"
     ]
    }
   ],
   "source": [
    "# mdtraj\n",
    "mtraj[200:500]"
   ]
  },
  {
   "cell_type": "code",
   "execution_count": 16,
   "metadata": {
    "collapsed": false
   },
   "outputs": [
    {
     "data": {
      "text/plain": [
       "<pytraj.Trajectory with 300 frames: <Topology with 5634 mols, 5666 residues, 17443 atoms, 17452 bonds, PBC with box type = truncoct>>\n",
       "           "
      ]
     },
     "execution_count": 16,
     "metadata": {},
     "output_type": "execute_result"
    },
    {
     "name": "stdout",
     "output_type": "stream",
     "text": [
      "In [16] used 158.4531 MiB RAM in 0.64s, peaked 0.00 MiB above current, total RAM usage 2708.11 MiB\n"
     ]
    }
   ],
   "source": [
    "# pytraj, TrajReadOnly\n",
    "trajread[200:500]"
   ]
  },
  {
   "cell_type": "code",
   "execution_count": 17,
   "metadata": {
    "collapsed": false
   },
   "outputs": [
    {
     "data": {
      "text/plain": [
       "<pytraj.Trajectory with 300 frames: <Topology with 5634 mols, 5666 residues, 17443 atoms, 17452 bonds, PBC with box type = truncoct>>\n",
       "           "
      ]
     },
     "execution_count": 17,
     "metadata": {},
     "output_type": "execute_result"
    },
    {
     "name": "stdout",
     "output_type": "stream",
     "text": [
      "In [17] used 0.1250 MiB RAM in 0.11s, peaked 0.00 MiB above current, total RAM usage 2708.24 MiB\n"
     ]
    }
   ],
   "source": [
    "# pytraj, Trajectory, very little memory since we only created `view`\n",
    "fa[200:500]"
   ]
  },
  {
   "cell_type": "markdown",
   "metadata": {},
   "source": [
    "# Conclusion\n",
    "* MDanalysis is the best friend of RAM\n",
    "* mdtraj: 2nd\n",
    "* pytraj: Trajectory is too fat (is there anyway to have both supperfast iterating + less memory?). But we have TrajectoryIterator two"
   ]
  }
 ],
 "metadata": {
  "kernelspec": {
   "display_name": "Python 2",
   "language": "python",
   "name": "python2"
  },
  "language_info": {
   "codemirror_mode": {
    "name": "ipython",
    "version": 2
   },
   "file_extension": ".py",
   "mimetype": "text/x-python",
   "name": "python",
   "nbconvert_exporter": "python",
   "pygments_lexer": "ipython2",
   "version": "2.7.9"
  }
 },
 "nbformat": 4,
 "nbformat_minor": 0
}
