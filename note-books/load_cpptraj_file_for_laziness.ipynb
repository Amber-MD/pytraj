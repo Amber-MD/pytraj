{
 "cells": [
  {
   "cell_type": "markdown",
   "metadata": {},
   "source": [
    "### if you already have cpptraj input file and don't want to retype (loading traj, specify command, ...)? Use \"load_cpptraj_file\""
   ]
  },
  {
   "cell_type": "code",
   "execution_count": 1,
   "metadata": {
    "collapsed": false
   },
   "outputs": [
    {
     "name": "stdout",
     "output_type": "stream",
     "text": [
      "parm ../../../test/cpptraj/Test_Comprehensive/compound.prmtop\r\n",
      "# system: 7mer peptide in a box of\r\n",
      "# periodic water (1577 Waters)\r\n",
      "\r\n",
      "# Read in the trajectory file \r\n",
      "# starting at 1\r\n",
      "# 100 total snapshots\r\n",
      "# consider each one \r\n",
      "\r\n",
      "trajin ../../../test/cpptraj/Test_Comprehensive/trajectory.mdcrd 1 100 1\r\n",
      "\r\n",
      "#  first calculate some things that don't depend on\r\n",
      "#  the position of the solute in the box\r\n",
      "\r\n",
      "# do dihedral angles\r\n",
      "\r\n",
      "dihedral phi :1@C  :2@N  :2@CA :2@C out phi\r\n",
      "dihedral psi   :1@N  :1@CA :1@C  :2@N out psi\r\n",
      "dihedral omega   :1@CA :1@C  :2@N  :2@CA out omega\r\n",
      "\r\n",
      "# calculate the distance between two atoms \r\n",
      "# over the 10 snapshots\r\n",
      "# output to the file \"dist.list\"\r\n",
      "\r\n",
      "distance end_to_end :1@N :7@N out  dist_end_to_end.list\r\n",
      "\r\n",
      "#get the rms values for the whole system \r\n",
      "#referenced to the first snapshot\r\n",
      "\r\n",
      "rms first :1-1584\r\n",
      "\r\n",
      "#now deal with drift\r\n",
      "\r\n",
      "# the peptide (residues 1->7) has drifted around \r\n",
      "# the box during MD.  We'd like to view the system\r\n",
      "# with a \"constant\" solute.\r\n",
      "\r\n",
      "# note that this changes the coordinates you have in memory\r\n",
      "\r\n",
      "# first center the solute by itself\r\n",
      "\r\n",
      "center origin :1-7 \r\n",
      "\r\n",
      "# now image the whole system about the centered origin\r\n",
      "\r\n",
      "image origin center \r\n",
      "\r\n",
      "# calculate the waters in the first and second solvation shells\r\n",
      "# (0-3.5A and 3.5-5.0A) and output to watershell.list \r\n",
      " \r\n",
      "watershell :1-7 watershell.list ws \r\n",
      "\r\n",
      "# save only the peptide for easy graphics viewing\r\n",
      "\r\n",
      "strip :WAT\r\n",
      "\r\n",
      "trajout test.mdcrd\r\n",
      "\r\n"
     ]
    }
   ],
   "source": [
    "# test folder can be found here: https://github.com/mojyt/cpptraj/tree/master/test/Test_Comprehensive\n",
    "# I just add \"parm\" file to `ptraj.in` and updat relative path\n",
    "# TODO : more detail\n",
    "!cat ptraj.in"
   ]
  },
  {
   "cell_type": "markdown",
   "metadata": {},
   "source": [
    "## lazy loading"
   ]
  },
  {
   "cell_type": "code",
   "execution_count": 2,
   "metadata": {
    "collapsed": true
   },
   "outputs": [],
   "source": [
    "from __future__ import print_function # for python 2 and 3 compat\n",
    "\n",
    "# all I/O methods are controled in `io` module. You don't need to remmeber anything else\n",
    "from pytraj import io\n",
    "\n",
    "# load cpptraj file and return a `state`, which hold lots of information (TopologyList, DataSetList, TrajinList, ...).\n",
    "# you can take the raw data from this `state`"
   ]
  },
  {
   "cell_type": "code",
   "execution_count": 3,
   "metadata": {
    "collapsed": false
   },
   "outputs": [
    {
     "name": "stdout",
     "output_type": "stream",
     "text": [
      "<pytraj.CpptrajState.CpptrajState object at 0x2aaac88238b8>\n",
      "try to look for all methods/attributres in `state`\n",
      "['add_action', 'add_analysis', 'add_reference', 'add_trajin', 'add_trajout', 'clear_list', 'datafilelist', 'datasetlist', 'get_trajinlist', 'is_empty', 'list_all', 'remove_dataset', 'run', 'run_analyses', 'toplist', 'write_all_datafiles']\n"
     ]
    }
   ],
   "source": [
    "# load state from `ptraj.in`\n",
    "state = io.load_cpptraj_file(\"ptraj.in\")\n",
    "print (state)\n",
    "\n",
    "from pytraj.misc import get_atts\n",
    "\n",
    "print (\"try to look for all methods/attributres in `state`\")\n",
    "print (get_atts(state))"
   ]
  },
  {
   "cell_type": "code",
   "execution_count": 4,
   "metadata": {
    "collapsed": false
   },
   "outputs": [
    {
     "name": "stdout",
     "output_type": "stream",
     "text": [
      "<pytraj.TopologyList.TopologyList object at 0x2aaac851d7b0>\n",
      "<Topology with 1578 mols, 1584 residues, 4854 atoms, 4853 bonds, PBC with box type = ortho>\n",
      "['phi', 'psi', 'omega', 'end_to_end', 'RMSD_00004', 'ws[lower]', 'ws[upper]']\n"
     ]
    }
   ],
   "source": [
    "# see, we already load Topology file here\n",
    "print (state.toplist)\n",
    "print (state.toplist[0])\n",
    "\n",
    "# perform the analysis and store data in datasetlist\n",
    "state.run()\n",
    "\n",
    "# what's in state?\n",
    "# we specified \"phi\", \"psi\", \"omega\" dihedral calculation, end_to_end distance calculation, rmsd calculation,\n",
    "# find watershell\n",
    "# and even saving to file\n",
    "print (state.datasetlist.get_legends())\n",
    "\n",
    "# create alias for short-typing\n",
    "dslist = state.datasetlist"
   ]
  },
  {
   "cell_type": "code",
   "execution_count": 5,
   "metadata": {
    "collapsed": false
   },
   "outputs": [
    {
     "name": "stdout",
     "output_type": "stream",
     "text": [
      "test.mdcrd\r\n"
     ]
    }
   ],
   "source": [
    "# we did save traj to disk\n",
    "!ls test.mdcrd"
   ]
  },
  {
   "cell_type": "code",
   "execution_count": 6,
   "metadata": {
    "collapsed": false
   },
   "outputs": [
    {
     "name": "stdout",
     "output_type": "stream",
     "text": [
      "first 10 frames, dumpt data to python `list`?\n",
      "[41.28882154215048, 51.91785128926744, 49.05564944291124, 55.63710513338503, 41.95214268721428, 47.0439840698581, 55.475476203287556, 49.372007962996335, 51.891034018639395, 59.951548994065305]\n",
      "\n",
      "first 10 frames, dumpt data to numpy array?\n",
      "[ 41.28882154  51.91785129  49.05564944  55.63710513  41.95214269\n",
      "  47.04398407  55.4754762   49.37200796  51.89103402  59.95154899]\n"
     ]
    }
   ],
   "source": [
    "# want to take the raw data out from dataset?\n",
    "\n",
    "print (\"first 10 frames, dumpt data to python `list`?\")\n",
    "print (dslist['phi'].tolist()[:10])\n",
    "\n",
    "print (\"\")\n",
    "print (\"first 10 frames, dumpt data to numpy array?\")\n",
    "print (dslist['phi'].to_ndarray()[:10])"
   ]
  },
  {
   "cell_type": "code",
   "execution_count": 8,
   "metadata": {
    "collapsed": false,
    "scrolled": true
   },
   "outputs": [],
   "source": [
    "# want to use pandas's DataFrame?\n",
    "# pandas in python3 is broken. I turn off this demo\n",
    "# make a list first\n",
    "# table = [d0 for d0 in dslist if d0.legend in ['phi', 'psi', 'omega', 'end_to_end']]\n",
    "\n",
    "# from pytraj import to_dataframe\n",
    "\n",
    "# # display only first 11 rows\n",
    "# to_dataframe(table)[:10]"
   ]
  },
  {
   "cell_type": "code",
   "execution_count": 9,
   "metadata": {
    "collapsed": false
   },
   "outputs": [
    {
     "name": "stdout",
     "output_type": "stream",
     "text": [
      "['_add_copy_of_set', '_base_dataset_iter', 'add_existing_set', 'add_set', 'add_set_aspect', 'add_setidx', 'allocate_sets', 'clear', 'ensemble_num', 'find_coords_set', 'find_set_of_type', 'get_aspects', 'get_dataset', 'get_dtypes', 'get_legends', 'get_multiple_sets', 'get_reference_frame', 'get_scalar_modes', 'get_scalar_types', 'get_set', 'groupby', 'is_empty', 'keys', 'len', 'remove_set', 'set_ensemble_num', 'set_precision_of_data_sets', 'set_py_free_mem', 'size', 'to_dict', 'to_ndarray', 'tolist']\n"
     ]
    }
   ],
   "source": [
    "# bonus: `dslist` is a DataSetList object\n",
    "\n",
    "print (get_atts(dslist))"
   ]
  },
  {
   "cell_type": "code",
   "execution_count": 10,
   "metadata": {
    "collapsed": false
   },
   "outputs": [
    {
     "data": {
      "text/plain": [
       "dict_keys(['omega', 'ws[lower]', 'psi', 'phi', 'RMSD_00004', 'end_to_end', 'ws[upper]'])"
      ]
     },
     "execution_count": 10,
     "metadata": {},
     "output_type": "execute_result"
    }
   ],
   "source": [
    "# want to get raw data and group them in some object holder: list, ndarray, dict?\n",
    "dslist.tolist() # use tolist() for compat with `tolist` in numpy\n",
    "dslist.to_ndarray()\n",
    "dslist.to_dict().keys()"
   ]
  }
 ],
 "metadata": {
  "kernelspec": {
   "display_name": "Python 3",
   "language": "python",
   "name": "python3"
  },
  "language_info": {
   "codemirror_mode": {
    "name": "ipython",
    "version": 3
   },
   "file_extension": ".py",
   "mimetype": "text/x-python",
   "name": "python",
   "nbconvert_exporter": "python",
   "pygments_lexer": "ipython3",
   "version": "3.4.3"
  }
 },
 "nbformat": 4,
 "nbformat_minor": 0
}
