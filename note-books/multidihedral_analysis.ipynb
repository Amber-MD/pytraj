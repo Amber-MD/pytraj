{
 "cells": [
  {
   "cell_type": "code",
   "execution_count": 1,
   "metadata": {
    "collapsed": true
   },
   "outputs": [],
   "source": [
    "from pytraj import DataFileList, DataSetList\n",
    "from pytraj import io as mdio\n",
    "from pytraj import adict"
   ]
  },
  {
   "cell_type": "code",
   "execution_count": 2,
   "metadata": {
    "collapsed": false
   },
   "outputs": [
    {
     "data": {
      "text/plain": [
       "<pytraj.DataSetList.DataSetList at 0x2aaac87bf790>"
      ]
     },
     "execution_count": 2,
     "metadata": {},
     "output_type": "execute_result"
    }
   ],
   "source": [
    "traj = mdio.load(\"../tests/data/md1_prod.Tc5b.x\", \"../tests/data/Tc5b.top\")\n",
    "\n",
    "act = adict['multidihedral']\n",
    "dslist = DataSetList()\n",
    "\n",
    "act(\"phi psi resrange 6-9\", traj, dslist=dslist)"
   ]
  },
  {
   "cell_type": "code",
   "execution_count": 3,
   "metadata": {
    "collapsed": false
   },
   "outputs": [
    {
     "name": "stdout",
     "output_type": "stream",
     "text": [
      "['phi:6', 'psi:6', 'phi:7', 'psi:7', 'phi:8', 'psi:8', 'phi:9', 'psi:9']\n"
     ]
    }
   ],
   "source": [
    "print (dslist.get_legends())"
   ]
  },
  {
   "cell_type": "code",
   "execution_count": 4,
   "metadata": {
    "collapsed": false
   },
   "outputs": [
    {
     "name": "stdout",
     "output_type": "stream",
     "text": [
      "<pytraj.datasets.DataSet_double.DataSet_double object at 0x2ac9e123c8d0>\n"
     ]
    }
   ],
   "source": [
    "print (dslist['phi:6']) # return a list of DataSet with a given legend"
   ]
  },
  {
   "cell_type": "code",
   "execution_count": 6,
   "metadata": {
    "collapsed": false
   },
   "outputs": [
    {
     "name": "stdout",
     "output_type": "stream",
     "text": [
      "<MemoryView of 'array' object>\n"
     ]
    }
   ],
   "source": [
    "d0 = dslist['phi:6']\n",
    "print (d0[:])"
   ]
  },
  {
   "cell_type": "markdown",
   "metadata": {},
   "source": [
    "<span style=\"color:blue; font-size:2em;\">Combine with *panda*</span>"
   ]
  },
  {
   "cell_type": "code",
   "execution_count": 7,
   "metadata": {
    "collapsed": true
   },
   "outputs": [],
   "source": [
    "my_dict = {}\n",
    "for legend in dslist.get_legends():\n",
    "    my_dict[legend] = dslist[legend][0][:]"
   ]
  },
  {
   "cell_type": "code",
   "execution_count": 8,
   "metadata": {
    "collapsed": false
   },
   "outputs": [],
   "source": [
    "import pandas as pd"
   ]
  },
  {
   "cell_type": "code",
   "execution_count": 9,
   "metadata": {
    "collapsed": false
   },
   "outputs": [
    {
     "data": {
      "text/html": [
       "<div style=\"max-height:1000px;max-width:1500px;overflow:auto;\">\n",
       "<table border=\"1\" class=\"dataframe\">\n",
       "  <thead>\n",
       "    <tr style=\"text-align: right;\">\n",
       "      <th></th>\n",
       "      <th>phi:6</th>\n",
       "      <th>phi:7</th>\n",
       "      <th>phi:8</th>\n",
       "      <th>phi:9</th>\n",
       "      <th>psi:6</th>\n",
       "      <th>psi:7</th>\n",
       "      <th>psi:8</th>\n",
       "      <th>psi:9</th>\n",
       "    </tr>\n",
       "  </thead>\n",
       "  <tbody>\n",
       "    <tr>\n",
       "      <th>0</th>\n",
       "      <td>-154.423033</td>\n",
       "      <td>-163.567232</td>\n",
       "      <td>-133.717078</td>\n",
       "      <td>-100.551010</td>\n",
       "      <td>162.588120</td>\n",
       "      <td>128.339917</td>\n",
       "      <td>121.340265</td>\n",
       "      <td>128.262424</td>\n",
       "    </tr>\n",
       "    <tr>\n",
       "      <th>1</th>\n",
       "      <td>-148.644577</td>\n",
       "      <td>-146.442363</td>\n",
       "      <td>-60.871086</td>\n",
       "      <td>-132.690259</td>\n",
       "      <td>136.050908</td>\n",
       "      <td>123.314435</td>\n",
       "      <td>-53.651329</td>\n",
       "      <td>153.387455</td>\n",
       "    </tr>\n",
       "    <tr>\n",
       "      <th>2</th>\n",
       "      <td>-131.397346</td>\n",
       "      <td>-113.670871</td>\n",
       "      <td>-73.283777</td>\n",
       "      <td>-133.176740</td>\n",
       "      <td>133.965538</td>\n",
       "      <td>-168.485969</td>\n",
       "      <td>-26.986586</td>\n",
       "      <td>91.004519</td>\n",
       "    </tr>\n",
       "    <tr>\n",
       "      <th>3</th>\n",
       "      <td>-82.587715</td>\n",
       "      <td>-134.302057</td>\n",
       "      <td>-88.248108</td>\n",
       "      <td>-153.272530</td>\n",
       "      <td>101.067826</td>\n",
       "      <td>145.711891</td>\n",
       "      <td>-9.249274</td>\n",
       "      <td>142.954274</td>\n",
       "    </tr>\n",
       "    <tr>\n",
       "      <th>4</th>\n",
       "      <td>-74.328362</td>\n",
       "      <td>-108.616819</td>\n",
       "      <td>-76.731261</td>\n",
       "      <td>-63.374180</td>\n",
       "      <td>84.641645</td>\n",
       "      <td>-173.756802</td>\n",
       "      <td>-28.485641</td>\n",
       "      <td>117.768443</td>\n",
       "    </tr>\n",
       "    <tr>\n",
       "      <th>5</th>\n",
       "      <td>-110.533794</td>\n",
       "      <td>-127.960710</td>\n",
       "      <td>-84.926412</td>\n",
       "      <td>-108.524607</td>\n",
       "      <td>130.902308</td>\n",
       "      <td>150.359589</td>\n",
       "      <td>-34.661496</td>\n",
       "      <td>119.007343</td>\n",
       "    </tr>\n",
       "    <tr>\n",
       "      <th>6</th>\n",
       "      <td>-102.635203</td>\n",
       "      <td>-122.547268</td>\n",
       "      <td>-87.237770</td>\n",
       "      <td>-144.560471</td>\n",
       "      <td>131.667262</td>\n",
       "      <td>144.446367</td>\n",
       "      <td>61.438401</td>\n",
       "      <td>123.636594</td>\n",
       "    </tr>\n",
       "    <tr>\n",
       "      <th>7</th>\n",
       "      <td>-140.021842</td>\n",
       "      <td>-113.747233</td>\n",
       "      <td>-87.782517</td>\n",
       "      <td>-158.895751</td>\n",
       "      <td>122.808997</td>\n",
       "      <td>148.481959</td>\n",
       "      <td>85.557694</td>\n",
       "      <td>151.778559</td>\n",
       "    </tr>\n",
       "    <tr>\n",
       "      <th>8</th>\n",
       "      <td>-68.396096</td>\n",
       "      <td>-140.513607</td>\n",
       "      <td>-99.960576</td>\n",
       "      <td>-115.066020</td>\n",
       "      <td>135.502186</td>\n",
       "      <td>161.119154</td>\n",
       "      <td>48.606368</td>\n",
       "      <td>157.933513</td>\n",
       "    </tr>\n",
       "    <tr>\n",
       "      <th>9</th>\n",
       "      <td>-104.752889</td>\n",
       "      <td>-137.665533</td>\n",
       "      <td>-91.916563</td>\n",
       "      <td>-117.124923</td>\n",
       "      <td>136.489410</td>\n",
       "      <td>146.626011</td>\n",
       "      <td>57.842860</td>\n",
       "      <td>168.734964</td>\n",
       "    </tr>\n",
       "  </tbody>\n",
       "</table>\n",
       "</div>"
      ],
      "text/plain": [
       "        phi:6       phi:7       phi:8       phi:9       psi:6       psi:7  \\\n",
       "0 -154.423033 -163.567232 -133.717078 -100.551010  162.588120  128.339917   \n",
       "1 -148.644577 -146.442363  -60.871086 -132.690259  136.050908  123.314435   \n",
       "2 -131.397346 -113.670871  -73.283777 -133.176740  133.965538 -168.485969   \n",
       "3  -82.587715 -134.302057  -88.248108 -153.272530  101.067826  145.711891   \n",
       "4  -74.328362 -108.616819  -76.731261  -63.374180   84.641645 -173.756802   \n",
       "5 -110.533794 -127.960710  -84.926412 -108.524607  130.902308  150.359589   \n",
       "6 -102.635203 -122.547268  -87.237770 -144.560471  131.667262  144.446367   \n",
       "7 -140.021842 -113.747233  -87.782517 -158.895751  122.808997  148.481959   \n",
       "8  -68.396096 -140.513607  -99.960576 -115.066020  135.502186  161.119154   \n",
       "9 -104.752889 -137.665533  -91.916563 -117.124923  136.489410  146.626011   \n",
       "\n",
       "        psi:8       psi:9  \n",
       "0  121.340265  128.262424  \n",
       "1  -53.651329  153.387455  \n",
       "2  -26.986586   91.004519  \n",
       "3   -9.249274  142.954274  \n",
       "4  -28.485641  117.768443  \n",
       "5  -34.661496  119.007343  \n",
       "6   61.438401  123.636594  \n",
       "7   85.557694  151.778559  \n",
       "8   48.606368  157.933513  \n",
       "9   57.842860  168.734964  "
      ]
     },
     "execution_count": 9,
     "metadata": {},
     "output_type": "execute_result"
    }
   ],
   "source": [
    "pd.DataFrame(my_dict)"
   ]
  },
  {
   "cell_type": "code",
   "execution_count": 10,
   "metadata": {
    "collapsed": false
   },
   "outputs": [],
   "source": [
    "# pytraj has method to directly convert DataSetList object to DataFrame too\n",
    "from pytraj.dataframe import to_dataframe\n",
    "dframe = to_dataframe(dslist)"
   ]
  },
  {
   "cell_type": "code",
   "execution_count": 13,
   "metadata": {
    "collapsed": false
   },
   "outputs": [
    {
     "data": {
      "text/html": [
       "<div style=\"max-height:1000px;max-width:1500px;overflow:auto;\">\n",
       "<table border=\"1\" class=\"dataframe\">\n",
       "  <thead>\n",
       "    <tr style=\"text-align: right;\">\n",
       "      <th></th>\n",
       "      <th>phi:6</th>\n",
       "      <th>phi:7</th>\n",
       "      <th>phi:8</th>\n",
       "      <th>phi:9</th>\n",
       "      <th>psi:6</th>\n",
       "      <th>psi:7</th>\n",
       "      <th>psi:8</th>\n",
       "      <th>psi:9</th>\n",
       "    </tr>\n",
       "  </thead>\n",
       "  <tbody>\n",
       "    <tr>\n",
       "      <th>0</th>\n",
       "      <td>-154.423033</td>\n",
       "      <td>-163.567232</td>\n",
       "      <td>-133.717078</td>\n",
       "      <td>-100.551010</td>\n",
       "      <td>162.588120</td>\n",
       "      <td>128.339917</td>\n",
       "      <td>121.340265</td>\n",
       "      <td>128.262424</td>\n",
       "    </tr>\n",
       "    <tr>\n",
       "      <th>1</th>\n",
       "      <td>-148.644577</td>\n",
       "      <td>-146.442363</td>\n",
       "      <td>-60.871086</td>\n",
       "      <td>-132.690259</td>\n",
       "      <td>136.050908</td>\n",
       "      <td>123.314435</td>\n",
       "      <td>-53.651329</td>\n",
       "      <td>153.387455</td>\n",
       "    </tr>\n",
       "    <tr>\n",
       "      <th>2</th>\n",
       "      <td>-131.397346</td>\n",
       "      <td>-113.670871</td>\n",
       "      <td>-73.283777</td>\n",
       "      <td>-133.176740</td>\n",
       "      <td>133.965538</td>\n",
       "      <td>-168.485969</td>\n",
       "      <td>-26.986586</td>\n",
       "      <td>91.004519</td>\n",
       "    </tr>\n",
       "    <tr>\n",
       "      <th>3</th>\n",
       "      <td>-82.587715</td>\n",
       "      <td>-134.302057</td>\n",
       "      <td>-88.248108</td>\n",
       "      <td>-153.272530</td>\n",
       "      <td>101.067826</td>\n",
       "      <td>145.711891</td>\n",
       "      <td>-9.249274</td>\n",
       "      <td>142.954274</td>\n",
       "    </tr>\n",
       "    <tr>\n",
       "      <th>4</th>\n",
       "      <td>-74.328362</td>\n",
       "      <td>-108.616819</td>\n",
       "      <td>-76.731261</td>\n",
       "      <td>-63.374180</td>\n",
       "      <td>84.641645</td>\n",
       "      <td>-173.756802</td>\n",
       "      <td>-28.485641</td>\n",
       "      <td>117.768443</td>\n",
       "    </tr>\n",
       "    <tr>\n",
       "      <th>5</th>\n",
       "      <td>-110.533794</td>\n",
       "      <td>-127.960710</td>\n",
       "      <td>-84.926412</td>\n",
       "      <td>-108.524607</td>\n",
       "      <td>130.902308</td>\n",
       "      <td>150.359589</td>\n",
       "      <td>-34.661496</td>\n",
       "      <td>119.007343</td>\n",
       "    </tr>\n",
       "    <tr>\n",
       "      <th>6</th>\n",
       "      <td>-102.635203</td>\n",
       "      <td>-122.547268</td>\n",
       "      <td>-87.237770</td>\n",
       "      <td>-144.560471</td>\n",
       "      <td>131.667262</td>\n",
       "      <td>144.446367</td>\n",
       "      <td>61.438401</td>\n",
       "      <td>123.636594</td>\n",
       "    </tr>\n",
       "    <tr>\n",
       "      <th>7</th>\n",
       "      <td>-140.021842</td>\n",
       "      <td>-113.747233</td>\n",
       "      <td>-87.782517</td>\n",
       "      <td>-158.895751</td>\n",
       "      <td>122.808997</td>\n",
       "      <td>148.481959</td>\n",
       "      <td>85.557694</td>\n",
       "      <td>151.778559</td>\n",
       "    </tr>\n",
       "    <tr>\n",
       "      <th>8</th>\n",
       "      <td>-68.396096</td>\n",
       "      <td>-140.513607</td>\n",
       "      <td>-99.960576</td>\n",
       "      <td>-115.066020</td>\n",
       "      <td>135.502186</td>\n",
       "      <td>161.119154</td>\n",
       "      <td>48.606368</td>\n",
       "      <td>157.933513</td>\n",
       "    </tr>\n",
       "    <tr>\n",
       "      <th>9</th>\n",
       "      <td>-104.752889</td>\n",
       "      <td>-137.665533</td>\n",
       "      <td>-91.916563</td>\n",
       "      <td>-117.124923</td>\n",
       "      <td>136.489410</td>\n",
       "      <td>146.626011</td>\n",
       "      <td>57.842860</td>\n",
       "      <td>168.734964</td>\n",
       "    </tr>\n",
       "  </tbody>\n",
       "</table>\n",
       "</div>"
      ],
      "text/plain": [
       "        phi:6       phi:7       phi:8       phi:9       psi:6       psi:7  \\\n",
       "0 -154.423033 -163.567232 -133.717078 -100.551010  162.588120  128.339917   \n",
       "1 -148.644577 -146.442363  -60.871086 -132.690259  136.050908  123.314435   \n",
       "2 -131.397346 -113.670871  -73.283777 -133.176740  133.965538 -168.485969   \n",
       "3  -82.587715 -134.302057  -88.248108 -153.272530  101.067826  145.711891   \n",
       "4  -74.328362 -108.616819  -76.731261  -63.374180   84.641645 -173.756802   \n",
       "5 -110.533794 -127.960710  -84.926412 -108.524607  130.902308  150.359589   \n",
       "6 -102.635203 -122.547268  -87.237770 -144.560471  131.667262  144.446367   \n",
       "7 -140.021842 -113.747233  -87.782517 -158.895751  122.808997  148.481959   \n",
       "8  -68.396096 -140.513607  -99.960576 -115.066020  135.502186  161.119154   \n",
       "9 -104.752889 -137.665533  -91.916563 -117.124923  136.489410  146.626011   \n",
       "\n",
       "        psi:8       psi:9  \n",
       "0  121.340265  128.262424  \n",
       "1  -53.651329  153.387455  \n",
       "2  -26.986586   91.004519  \n",
       "3   -9.249274  142.954274  \n",
       "4  -28.485641  117.768443  \n",
       "5  -34.661496  119.007343  \n",
       "6   61.438401  123.636594  \n",
       "7   85.557694  151.778559  \n",
       "8   48.606368  157.933513  \n",
       "9   57.842860  168.734964  "
      ]
     },
     "execution_count": 13,
     "metadata": {},
     "output_type": "execute_result"
    }
   ],
   "source": [
    "dframe"
   ]
  }
 ],
 "metadata": {
  "kernelspec": {
   "display_name": "Python 3",
   "language": "python",
   "name": "python3"
  },
  "language_info": {
   "codemirror_mode": {
    "name": "ipython",
    "version": 3
   },
   "file_extension": ".py",
   "mimetype": "text/x-python",
   "name": "python",
   "nbconvert_exporter": "python",
   "pygments_lexer": "ipython3",
   "version": "3.4.3"
  }
 },
 "nbformat": 4,
 "nbformat_minor": 0
}
