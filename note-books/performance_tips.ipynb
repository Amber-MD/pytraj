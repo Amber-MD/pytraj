{
 "cells": [
  {
   "cell_type": "markdown",
   "metadata": {},
   "source": [
    "# Manipulate Frame coordinates"
   ]
  },
  {
   "cell_type": "raw",
   "metadata": {},
   "source": [
    "`pytraj` use memoryview for Frame's xyz coords so that both `cpptraj` and `numpy` can perform calculation with the same\n",
    "data. However care should be taken when playing this."
   ]
  },
  {
   "cell_type": "code",
   "execution_count": 1,
   "metadata": {
    "collapsed": false
   },
   "outputs": [
    {
     "name": "stdout",
     "output_type": "stream",
     "text": [
      "<Frame with 304 atoms>\n"
     ]
    }
   ],
   "source": [
    "### different ways to expose to `numpy`\n",
    "import numpy as np\n",
    "import pytraj.io as io\n",
    "\n",
    "traj = io.load(\"../tests/data/md1_prod.Tc5b.x\", \"../tests/data/Tc5b.top\") \n",
    "# extract only first frame\n",
    "frame = traj[0]\n",
    "print (frame)"
   ]
  },
  {
   "cell_type": "code",
   "execution_count": 2,
   "metadata": {
    "collapsed": false
   },
   "outputs": [
    {
     "name": "stdout",
     "output_type": "stream",
     "text": [
      "<class 'numpy.ndarray'> <class 'numpy.ndarray'> <class 'numpy.ndarray'>\n",
      "[ 1.  2.  3.] [ 1.  2.  3.] [ 1.  2.  3.] [ 1.  2.  3.] [ 1.  2.  3.]\n"
     ]
    }
   ],
   "source": [
    "arr0 = np.asarray(frame[:]) # need to use `[:]`\n",
    "arr1 = np.asarray(frame.buffer2d) # \n",
    "xyz = frame.xyz\n",
    "print (type(xyz), type(arr0), type(arr1))\n",
    "\n",
    "# try to change coors of 1st atom\n",
    "xyz[0] = [1.0, 2.0, 3.0]\n",
    "print (xyz[0], arr0[0], arr1[0], frame[0], frame.xyz[0])"
   ]
  },
  {
   "cell_type": "code",
   "execution_count": 9,
   "metadata": {
    "collapsed": false,
    "scrolled": true
   },
   "outputs": [
    {
     "name": "stdout",
     "output_type": "stream",
     "text": [
      "[ 0.0541192   0.65207231  0.40998237]\n",
      "[ 0.65099735  0.54863899  0.80845828]\n",
      "\n",
      "lets try again by using `[:]`. This mean 'please update coords that xyz points to'\n",
      "[ 0.93723133  0.76371033  0.570445  ]\n",
      "[ 0.93723133  0.76371033  0.570445  ]\n",
      "\n",
      "vector center of mass\n",
      "[[ 0.42094255  0.6064389   0.50495557]]\n"
     ]
    }
   ],
   "source": [
    "# make sure to use [:] if changing coords\n",
    "\n",
    "xyz = np.random.rand(frame.n_atoms*3).reshape((frame.n_atoms, 3))\n",
    "print (xyz[0])\n",
    "print (frame.xyz[0]) # updating `xyz` does not update frame.xyz because we just `point` xyz to different array location\n",
    "\n",
    "print (\"\")\n",
    "print (\"lets try again by using `[:]`. This mean 'please update coords that xyz points to'\")\n",
    "# need to create memory first\n",
    "xyz = frame.xyz\n",
    "xyz[:] = np.random.rand(frame.n_atoms*3).reshape((frame.n_atoms, 3))\n",
    "print (xyz[0])\n",
    "print (frame.xyz[0]) # updating `xyz` will upate frame.xyz too\n",
    "\n",
    "# then you're free to use pytraj/cpptraj' Actions \n",
    "import pytraj.common_actions as pyca\n",
    "vec = pyca.calc_COM(traj=frame, command=\"@CA @CB\", top=traj.top)\n",
    "# could use `pyca.calc_COM(frame, \"@CA @CB\", traj.top)\n",
    "print (\"\")\n",
    "print (\"vector center of mass\")\n",
    "print (vec.to_ndarray())"
   ]
  },
  {
   "cell_type": "markdown",
   "metadata": {},
   "source": [
    "#### what should I use, xyz or frame.xyz?"
   ]
  },
  {
   "cell_type": "code",
   "execution_count": 4,
   "metadata": {
    "collapsed": false
   },
   "outputs": [
    {
     "name": "stdout",
     "output_type": "stream",
     "text": [
      "The slowest run took 24.31 times longer than the fastest. This could mean that an intermediate result is being cached \n",
      "1000000 loops, best of 3: 411 ns per loop\n",
      "The slowest run took 5.43 times longer than the fastest. This could mean that an intermediate result is being cached \n",
      "100000 loops, best of 3: 14.6 µs per loop\n"
     ]
    }
   ],
   "source": [
    "# definitely you should use `xyz` if you want to use fast numpy calculation. Let's see the time\n",
    "\n",
    "%timeit xyz[:] \n",
    "%timeit frame.xyz[:] # is about 32 times slower calling xyz[:]"
   ]
  },
  {
   "cell_type": "code",
   "execution_count": 5,
   "metadata": {
    "collapsed": true
   },
   "outputs": [],
   "source": [
    "# this is the behind the scene: Whenever calling `frame.xyz`, there is one more casting step `np.asarray(frame.buffe2d[:]"
   ]
  }
 ],
 "metadata": {
  "kernelspec": {
   "display_name": "Python 3",
   "language": "python",
   "name": "python3"
  },
  "language_info": {
   "codemirror_mode": {
    "name": "ipython",
    "version": 3
   },
   "file_extension": ".py",
   "mimetype": "text/x-python",
   "name": "python",
   "nbconvert_exporter": "python",
   "pygments_lexer": "ipython3",
   "version": "3.4.3"
  }
 },
 "nbformat": 4,
 "nbformat_minor": 0
}
