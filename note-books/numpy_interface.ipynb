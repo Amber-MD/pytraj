{
 "cells": [
  {
   "cell_type": "markdown",
   "metadata": {},
   "source": [
    "pytraj (and cpptraj) does not depend on numpy/scipy library. However you are still able to fully use their computational power by using memoryview in Python"
   ]
  },
  {
   "cell_type": "code",
   "execution_count": 1,
   "metadata": {
    "collapsed": false
   },
   "outputs": [],
   "source": [
    "from __future__ import absolute_import\n",
    "from pytraj import load_sample_data"
   ]
  },
  {
   "cell_type": "code",
   "execution_count": 2,
   "metadata": {
    "collapsed": false
   },
   "outputs": [],
   "source": [
    "# load sample Ala3 trajectory \n",
    "traj = load_sample_data()\n",
    "\n",
    "# extract frame object\n",
    "frame = traj[0]"
   ]
  },
  {
   "cell_type": "code",
   "execution_count": 3,
   "metadata": {
    "collapsed": false
   },
   "outputs": [
    {
     "name": "stdout",
     "output_type": "stream",
     "text": [
      "(34, 3)\n",
      "(34, 3)\n"
     ]
    }
   ],
   "source": [
    "# using memoryview with numpy array (basically you can use numpy to change \n",
    "# frame object's internal data without doing extra copying)\n",
    "\n",
    "import numpy as np\n",
    "\n",
    "arr0 = np.asarray(frame[:])\n",
    "# or explicitly use frame.buffer3d\n",
    "# arr0 = np.asarray(frame.buffer3d[:])\n",
    "\n",
    "print (frame.shape)\n",
    "print (arr0.shape)"
   ]
  },
  {
   "cell_type": "code",
   "execution_count": 4,
   "metadata": {
    "collapsed": false
   },
   "outputs": [
    {
     "name": "stdout",
     "output_type": "stream",
     "text": [
      "before updating arr0\n",
      "[  3.32577000e+00   1.54790900e+00  -1.60000000e-06]\n",
      "[  3.32577000e+00   1.54790900e+00  -1.60000000e-06]\n",
      "\n",
      "after updating arr0\n",
      "[ 0.  1.  2.]\n",
      "[ 0.  1.  2.]\n"
     ]
    }
   ],
   "source": [
    "# update arr0 will update frame's coordinates too\n",
    "print (\"before updating arr0\")\n",
    "print (frame[0, :])\n",
    "print (arr0[0, :])\n",
    "\n",
    "arr0[0, :] = np.arange(3, dtype=np.float64)\n",
    "print ()\n",
    "print (\"after updating arr0\")\n",
    "print (frame[0, :])\n",
    "print (arr0[0, :])"
   ]
  },
  {
   "cell_type": "code",
   "execution_count": 5,
   "metadata": {
    "collapsed": false
   },
   "outputs": [],
   "source": [
    "# update all x-coords\n",
    "arr0[:, 0] = np.zeros(traj.n_atoms) # dummy test"
   ]
  },
  {
   "cell_type": "code",
   "execution_count": 6,
   "metadata": {
    "collapsed": false
   },
   "outputs": [
    {
     "data": {
      "text/plain": [
       "array([[  0.00000000e+00,   1.00000000e+00,   2.00000000e+00],\n",
       "       [  0.00000000e+00,   8.39991000e-01,  -2.90000000e-06],\n",
       "       [  0.00000000e+00,   1.49950800e+00,  -8.74687000e-01],\n",
       "       [  0.00000000e+00,   1.49950700e+00,   8.74685000e-01],\n",
       "       [  0.00000000e+00,   2.84579500e+00,  -1.00000000e-07],\n",
       "       [  0.00000000e+00,   3.40012900e+00,  -8.89820000e-01],\n",
       "       [  0.00000000e+00,   3.65383800e+00,   1.23214300e+00],\n",
       "       [  0.00000000e+00,   3.11579500e+00,   2.13119700e+00],\n",
       "       [  0.00000000e+00,   4.62301700e+00,   1.20578600e+00],\n",
       "       [  0.00000000e+00,   3.80107500e+00,   1.24137900e+00],\n",
       "       [  0.00000000e+00,   2.70520700e+00,  -4.40000000e-06],\n",
       "       [  0.00000000e+00,   1.59317500e+00,  -8.40000000e-06],\n",
       "       [  0.00000000e+00,   3.83858360e+00,  -5.10000000e-06],\n",
       "       [  0.00000000e+00,   4.72953230e+00,  -2.80000000e-06],\n",
       "       [  0.00000000e+00,   3.83858370e+00,  -7.40000000e-06],\n",
       "       [  0.00000000e+00,   3.32483910e+00,   8.89811800e-01],\n",
       "       [  0.00000000e+00,   3.12721090e+00,  -1.23215150e+00],\n",
       "       [  0.00000000e+00,   3.63562340e+00,  -2.13120480e+00],\n",
       "       [  0.00000000e+00,   3.14242730e+00,  -1.20579510e+00],\n",
       "       [  0.00000000e+00,   2.09440270e+00,  -1.24138830e+00],\n",
       "       [  0.00000000e+00,   5.25853840e+00,  -2.00000000e-06],\n",
       "       [  0.00000000e+00,   6.22169850e+00,   3.40000000e-06],\n",
       "       [  0.00000000e+00,   5.38649220e+00,  -2.00000000e-06],\n",
       "       [  0.00000000e+00,   4.56423620e+00,  -5.30000000e-06],\n",
       "       [  0.00000000e+00,   6.68437820e+00,   1.20000000e-06],\n",
       "       [  0.00000000e+00,   7.23871390e+00,  -8.89817200e-01],\n",
       "       [  0.00000000e+00,   7.49241890e+00,   1.23214640e+00],\n",
       "       [  0.00000000e+00,   6.95437420e+00,   2.13119900e+00],\n",
       "       [  0.00000000e+00,   8.46159790e+00,   1.20579060e+00],\n",
       "       [  0.00000000e+00,   7.63965590e+00,   1.24138390e+00],\n",
       "       [  0.00000000e+00,   6.54379020e+00,  -5.10000000e-06],\n",
       "       [  0.00000000e+00,   6.49095630e+00,  -1.12267550e+00],\n",
       "       [  0.00000000e+00,   6.49094410e+00,   1.12266050e+00],\n",
       "       [  0.00000000e+00,   6.40302930e+00,   9.97351300e-01]])"
      ]
     },
     "execution_count": 6,
     "metadata": {},
     "output_type": "execute_result"
    }
   ],
   "source": [
    "arr0"
   ]
  },
  {
   "cell_type": "code",
   "execution_count": 7,
   "metadata": {
    "collapsed": false
   },
   "outputs": [
    {
     "data": {
      "text/plain": [
       "array([ 0.,  0.,  0.,  0.,  0.,  0.,  0.,  0.,  0.,  0.,  0.,  0.,  0.,\n",
       "        0.,  0.,  0.,  0.,  0.,  0.,  0.,  0.,  0.,  0.,  0.,  0.,  0.,\n",
       "        0.,  0.,  0.,  0.,  0.,  0.,  0.,  0.])"
      ]
     },
     "execution_count": 7,
     "metadata": {},
     "output_type": "execute_result"
    }
   ],
   "source": [
    "frame[:, 0]"
   ]
  }
 ],
 "metadata": {
  "kernelspec": {
   "display_name": "Python 3",
   "language": "python",
   "name": "python3"
  },
  "language_info": {
   "codemirror_mode": {
    "name": "ipython",
    "version": 3
   },
   "file_extension": ".py",
   "mimetype": "text/x-python",
   "name": "python",
   "nbconvert_exporter": "python",
   "pygments_lexer": "ipython3",
   "version": "3.4.3"
  }
 },
 "nbformat": 4,
 "nbformat_minor": 0
}
