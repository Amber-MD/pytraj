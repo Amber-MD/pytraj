{
 "cells": [
  {
   "cell_type": "code",
   "execution_count": 1,
   "metadata": {
    "collapsed": false
   },
   "outputs": [],
   "source": [
    "\"\"\"This script shows how to extract frames having the same temperature\n",
    "from replica exchange MD run. You can do it with cpptraj but this shows how easily\n",
    "to write new script with pytraj\n",
    "# TODO : check typos for DOCo\n",
    "\"\"\"\n",
    "\n",
    "import unittest\n",
    "from array import array\n",
    "from glob import glob\n",
    "from pytraj.base import *\n",
    "from pytraj import io as mdio\n",
    "from pytraj.utils.check_and_assert import assert_almost_equal\n",
    "\n",
    "def get_frames_same_T():\n",
    "   # create a list of all remd trajs\n",
    "   flist = glob(\"../tests/data/Test_RemdTraj/rem.nc.*\") \n",
    "\n",
    "   # make a list of TrajReadOnly instances\n",
    "   trajlist = []\n",
    "   for fh in flist:\n",
    "       topfile = \"../tests/data/Test_RemdTraj/ala2.99sb.mbondi2.parm7\"\n",
    "\n",
    "       # load trajectory and append to trajlist\n",
    "       trajlist.append(mdio.load(fh, topfile))\n",
    "\n",
    "   # make FrameArray instance that holds 492.2 T frames\n",
    "   # we need to reserve n_frames to hold the data\n",
    "   f4922 = FrameArray(n_frames=trajlist[0].n_frames)\n",
    "\n",
    "   assert f4922.n_frames == trajlist[0].n_frames\n",
    "   f4922.top = trajlist[0].top.copy()\n",
    "\n",
    "   # extract frames having T = 492.2\n",
    "   # use iteration for nested loops\n",
    "   for traj in trajlist:\n",
    "       for idx, frame in enumerate(traj):\n",
    "           if frame.temperature == 492.2:\n",
    "               # we don't use `append` method since we want to make sure \n",
    "               # frames are in the order of simulation time\n",
    "               f4922[idx] = frame\n",
    "\n",
    "   # make sure f4922 only hold frames having T = 492.2 K\n",
    "   arr0 = array('d', [492.2, 492.2, 492.2, 492.2, 492.2, \n",
    "                     492.2, 492.2, 492.2, 492.2, 492.2])\n",
    "   assert f4922.temperatures == arr0\n",
    "\n",
    "   # make sure we reproduce cpptraj output\n",
    "   cpptraj = mdio.load(\"../tests/data/Test_RemdTraj/temp0.crd.492.20\", topfile)\n",
    "   for idx, framepy in enumerate(f4922):\n",
    "       assert_almost_equal(framepy.coords, cpptraj[idx].coords)\n",
    "       print(\"rmsd between pytraj Frame and cpptraj Frame = %s \" % framepy.rmsd(cpptraj[idx]))\n",
    "\n",
    "   print(f4922[5].coords[:10])\n",
    "   print(cpptraj[5].coords[:10])\n",
    "\n",
    "   print(\"YES, we can reproduce cpptraj output\")\n",
    "\n",
    "\n",
    "        "
   ]
  },
  {
   "cell_type": "code",
   "execution_count": 2,
   "metadata": {
    "collapsed": false
   },
   "outputs": [
    {
     "name": "stdout",
     "output_type": "stream",
     "text": [
      "rmsd between pytraj Frame and cpptraj Frame = 0.0004537857325777221 \n",
      "rmsd between pytraj Frame and cpptraj Frame = 0.00040011085473567147 \n",
      "rmsd between pytraj Frame and cpptraj Frame = 0.0004965490165713683 \n",
      "rmsd between pytraj Frame and cpptraj Frame = 0.0004901392777290847 \n",
      "rmsd between pytraj Frame and cpptraj Frame = 0.00048039576004936676 \n",
      "rmsd between pytraj Frame and cpptraj Frame = 0.0004474136708874317 \n",
      "rmsd between pytraj Frame and cpptraj Frame = 0.0004878846620305841 \n",
      "rmsd between pytraj Frame and cpptraj Frame = 0.0005227524683447184 \n",
      "rmsd between pytraj Frame and cpptraj Frame = 0.00046504114463576655 \n",
      "rmsd between pytraj Frame and cpptraj Frame = 0.0004950090575904039 \n",
      "array('d', [8.037311553955078, 5.207451820373535, 1.3513193130493164, 7.069351673126221, 5.673007011413574, 1.1658153533935547, 7.176811695098877, 6.072388648986816, 0.15732811391353607, 6.865853786468506])\n",
      "array('d', [8.037, 5.207, 1.351, 7.069, 5.673, 1.166, 7.177, 6.072, 0.157, 6.866])\n",
      "YES, we can reproduce cpptraj output\n"
     ]
    }
   ],
   "source": [
    "get_frames_same_T()"
   ]
  }
 ],
 "metadata": {
  "kernelspec": {
   "display_name": "Python 3",
   "language": "python",
   "name": "python3"
  },
  "language_info": {
   "codemirror_mode": {
    "name": "ipython",
    "version": 3
   },
   "file_extension": ".py",
   "mimetype": "text/x-python",
   "name": "python",
   "nbconvert_exporter": "python",
   "pygments_lexer": "ipython3",
   "version": "3.4.3"
  }
 },
 "nbformat": 4,
 "nbformat_minor": 0
}
