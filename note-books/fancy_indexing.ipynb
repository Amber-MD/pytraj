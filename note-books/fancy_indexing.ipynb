{
 "cells": [
  {
   "cell_type": "markdown",
   "metadata": {},
   "source": [
    "# Example for fancy indexing Topology and Trajectory"
   ]
  },
  {
   "cell_type": "code",
   "execution_count": 1,
   "metadata": {
    "collapsed": false
   },
   "outputs": [
    {
     "name": "stdout",
     "output_type": "stream",
     "text": [
      "<Trajectory with 10 frames, 304 atoms/frame>\n",
      "           \n",
      "<Topology with 1 mols, 20 residues, 304 atoms, 310 bonds, non-PBC>\n"
     ]
    }
   ],
   "source": [
    "from pytraj import io\n",
    "\n",
    "traj = io.load(\"../tests/data/md1_prod.Tc5b.x\", \"../tests/data/Tc5b.prmtop\")\n",
    "top = traj.top\n",
    "\n",
    "print (traj)\n",
    "print (top)"
   ]
  },
  {
   "cell_type": "markdown",
   "metadata": {},
   "source": [
    "## Topology"
   ]
  },
  {
   "cell_type": "code",
   "execution_count": 2,
   "metadata": {
    "collapsed": false
   },
   "outputs": [
    {
     "data": {
      "text/plain": [
       "<N-atom, resnum=0, n_bonds=4>"
      ]
     },
     "execution_count": 2,
     "metadata": {},
     "output_type": "execute_result"
    }
   ],
   "source": [
    "top[0]"
   ]
  },
  {
   "cell_type": "code",
   "execution_count": 3,
   "metadata": {
    "collapsed": false
   },
   "outputs": [
    {
     "data": {
      "text/plain": [
       "[<CA-atom, resnum=0, n_bonds=4>, <CA-atom, resnum=1, n_bonds=4>]"
      ]
     },
     "execution_count": 3,
     "metadata": {},
     "output_type": "execute_result"
    }
   ],
   "source": [
    "top['@CA'][:2]"
   ]
  },
  {
   "cell_type": "code",
   "execution_count": 4,
   "metadata": {
    "collapsed": false
   },
   "outputs": [
    {
     "data": {
      "text/plain": [
       "[<H1-atom, resnum=0, n_bonds=1>, <CA-atom, resnum=0, n_bonds=4>]"
      ]
     },
     "execution_count": 4,
     "metadata": {},
     "output_type": "execute_result"
    }
   ],
   "source": [
    "top[[1, 4]]"
   ]
  },
  {
   "cell_type": "code",
   "execution_count": 5,
   "metadata": {
    "collapsed": false,
    "scrolled": true
   },
   "outputs": [
    {
     "data": {
      "text/plain": [
       "[<N-atom, resnum=2, n_bonds=3>,\n",
       " <C-atom, resnum=2, n_bonds=3>,\n",
       " <N-atom, resnum=3, n_bonds=3>,\n",
       " <C-atom, resnum=3, n_bonds=3>,\n",
       " <N-atom, resnum=4, n_bonds=3>,\n",
       " <C-atom, resnum=4, n_bonds=3>,\n",
       " <N-atom, resnum=5, n_bonds=3>,\n",
       " <C-atom, resnum=5, n_bonds=3>,\n",
       " <N-atom, resnum=6, n_bonds=3>,\n",
       " <C-atom, resnum=6, n_bonds=3>]"
      ]
     },
     "execution_count": 5,
     "metadata": {},
     "output_type": "execute_result"
    }
   ],
   "source": [
    "top[':3-7@C, N']"
   ]
  },
  {
   "cell_type": "code",
   "execution_count": 6,
   "metadata": {
    "collapsed": false
   },
   "outputs": [
    {
     "name": "stdout",
     "output_type": "stream",
     "text": [
      "[15 14 16 18]\n"
     ]
    },
    {
     "data": {
      "text/plain": [
       "[<O-atom, resnum=0, n_bonds=1>,\n",
       " <C-atom, resnum=0, n_bonds=3>,\n",
       " <N-atom, resnum=1, n_bonds=3>,\n",
       " <CA-atom, resnum=1, n_bonds=4>]"
      ]
     },
     "execution_count": 6,
     "metadata": {},
     "output_type": "execute_result"
    }
   ],
   "source": [
    "# get dihedral\n",
    "\n",
    "arr0 = top._dihedrals_ndarray[0]\n",
    "print (arr0)\n",
    "\n",
    "# get 4 atoms\n",
    "top[arr0]"
   ]
  },
  {
   "cell_type": "markdown",
   "metadata": {},
   "source": [
    "## Trajectory"
   ]
  },
  {
   "cell_type": "code",
   "execution_count": 7,
   "metadata": {
    "collapsed": false
   },
   "outputs": [
    {
     "data": {
      "text/plain": [
       "<Frame with 304 atoms>"
      ]
     },
     "execution_count": 7,
     "metadata": {},
     "output_type": "execute_result"
    }
   ],
   "source": [
    "traj[0]"
   ]
  },
  {
   "cell_type": "code",
   "execution_count": 8,
   "metadata": {
    "collapsed": false
   },
   "outputs": [
    {
     "data": {
      "text/plain": [
       "<Trajectory with 3 frames, 304 atoms/frame>\n",
       "           "
      ]
     },
     "execution_count": 8,
     "metadata": {},
     "output_type": "execute_result"
    }
   ],
   "source": [
    "traj[2: 8: 2]"
   ]
  },
  {
   "cell_type": "code",
   "execution_count": 9,
   "metadata": {
    "collapsed": false
   },
   "outputs": [
    {
     "data": {
      "text/plain": [
       "<Trajectory with 10 frames, 20 atoms/frame>\n",
       "           "
      ]
     },
     "execution_count": 9,
     "metadata": {},
     "output_type": "execute_result"
    }
   ],
   "source": [
    "traj['@CA']"
   ]
  },
  {
   "cell_type": "code",
   "execution_count": 10,
   "metadata": {
    "collapsed": false
   },
   "outputs": [
    {
     "data": {
      "text/plain": [
       "<Trajectory with 3 frames, 304 atoms/frame>\n",
       "           "
      ]
     },
     "execution_count": 10,
     "metadata": {},
     "output_type": "execute_result"
    }
   ],
   "source": [
    "traj[[1, 3, 5]]"
   ]
  },
  {
   "cell_type": "code",
   "execution_count": 11,
   "metadata": {
    "collapsed": false
   },
   "outputs": [
    {
     "data": {
      "text/plain": [
       "<Trajectory with 10 frames, 40 atoms/frame>\n",
       "           "
      ]
     },
     "execution_count": 11,
     "metadata": {},
     "output_type": "execute_result"
    }
   ],
   "source": [
    "atommask = top(\"@C,N\")\n",
    "traj[atommask]"
   ]
  }
 ],
 "metadata": {
  "kernelspec": {
   "display_name": "Python 3",
   "language": "python",
   "name": "python3"
  },
  "language_info": {
   "codemirror_mode": {
    "name": "ipython",
    "version": 3
   },
   "file_extension": ".py",
   "mimetype": "text/x-python",
   "name": "python",
   "nbconvert_exporter": "python",
   "pygments_lexer": "ipython3",
   "version": "3.4.3"
  }
 },
 "nbformat": 4,
 "nbformat_minor": 0
}
