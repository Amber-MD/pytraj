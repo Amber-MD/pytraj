{
 "cells": [
  {
   "cell_type": "markdown",
   "metadata": {},
   "source": [
    "This example shows how to use pytraj (wrapper of cpptraj) and pysander (wrapper of sander) to extract useful (energy) information (energy) for post-processing MD data.\n",
    "\n",
    "Aim: load traj and calculate solvation energy for 10 frames of Trp-cage MD simulation using igb=8 model"
   ]
  },
  {
   "cell_type": "code",
   "execution_count": 1,
   "metadata": {
    "collapsed": true
   },
   "outputs": [],
   "source": [
    "from __future__ import print_function"
   ]
  },
  {
   "cell_type": "code",
   "execution_count": 2,
   "metadata": {
    "collapsed": true
   },
   "outputs": [],
   "source": [
    "# require: pytraj, pysander and chemistry packages (pysander and `chemistry` are in AmberTools 15)"
   ]
  },
  {
   "cell_type": "code",
   "execution_count": 3,
   "metadata": {
    "collapsed": true
   },
   "outputs": [],
   "source": [
    "# load `pytraj.io` method to load trajectory\n",
    "from pytraj import io as mdio"
   ]
  },
  {
   "cell_type": "code",
   "execution_count": 4,
   "metadata": {
    "collapsed": false
   },
   "outputs": [],
   "source": [
    "# load sander from pysander\n",
    "import sander"
   ]
  },
  {
   "cell_type": "code",
   "execution_count": 5,
   "metadata": {
    "collapsed": true
   },
   "outputs": [],
   "source": [
    "# load AmberParm class\n",
    "from chemistry.amber.readparm import AmberParm"
   ]
  },
  {
   "cell_type": "code",
   "execution_count": 6,
   "metadata": {
    "collapsed": false
   },
   "outputs": [],
   "source": [
    "traj_fn = \"../tests/data/md1_prod.Tc5b.x\"\n",
    "top_fn = \"../tests/data/Tc5b.top\""
   ]
  },
  {
   "cell_type": "code",
   "execution_count": 7,
   "metadata": {
    "collapsed": false
   },
   "outputs": [
    {
     "name": "stdout",
     "output_type": "stream",
     "text": [
      "<pytraj.Trajectory with 10 frames: <Topology with 1 mols, 20 residues, 304 atoms, 310 bonds, non-PBC>>\n",
      "           \n",
      "<Topology with 1 mols, 20 residues, 304 atoms, 310 bonds, non-PBC>\n"
     ]
    }
   ],
   "source": [
    "# load traj\n",
    "traj = mdio.load(traj_fn, top_fn)\n",
    "print (traj)\n",
    "print (traj.top)"
   ]
  },
  {
   "cell_type": "code",
   "execution_count": 8,
   "metadata": {
    "collapsed": true
   },
   "outputs": [],
   "source": [
    "# currently `chemistry` and pytraj packges use different Topology objects so we need to load parm file again\n",
    "#\n",
    "parm = AmberParm(top_fn)"
   ]
  },
  {
   "cell_type": "code",
   "execution_count": 9,
   "metadata": {
    "collapsed": false
   },
   "outputs": [
    {
     "name": "stdout",
     "output_type": "stream",
     "text": [
      "../tests/data/Tc5b.top\n"
     ]
    }
   ],
   "source": [
    "print (parm)"
   ]
  },
  {
   "cell_type": "code",
   "execution_count": 10,
   "metadata": {
    "collapsed": true
   },
   "outputs": [],
   "source": [
    "# create input for igb=8 model\n",
    "inp = sander.gas_input(8)"
   ]
  },
  {
   "cell_type": "code",
   "execution_count": 11,
   "metadata": {
    "collapsed": true
   },
   "outputs": [],
   "source": [
    "# initialize parm\n",
    "parm.load_coordinates(traj[0].coords)"
   ]
  },
  {
   "cell_type": "code",
   "execution_count": 12,
   "metadata": {
    "collapsed": false
   },
   "outputs": [
    {
     "name": "stdout",
     "output_type": "stream",
     "text": [
      "Solvation energy =  -466.10420332687943\n",
      "Solvation energy =  -455.76754993695613\n",
      "Solvation energy =  -455.5976464241175\n",
      "Solvation energy =  -478.5433764963464\n",
      "Solvation energy =  -448.8931420795517\n",
      "Solvation energy =  -404.6002687139827\n",
      "Solvation energy =  -450.3030628951594\n",
      "Solvation energy =  -414.40620305552153\n",
      "Solvation energy =  -443.75073691232376\n",
      "Solvation energy =  -429.7327396323983\n"
     ]
    }
   ],
   "source": [
    "# it's time to do calcuation\n",
    "with sander.setup(parm, parm.coords, None, inp):\n",
    "    # iterate all frames\n",
    "    # use traj(0, 8, 2) to read the traj from 0-th frame to 8-th frame but skiping every 2 frames\n",
    "    for frame in traj:\n",
    "        sander.set_positions(frame.coords)\n",
    "        ene, forces = sander.energy_forces()\n",
    "        # atomic force (x, y, z)\n",
    "        #print (len(frc))\n",
    "        print (\"Solvation energy = \", ene.gb)"
   ]
  },
  {
   "cell_type": "markdown",
   "metadata": {},
   "source": [
    "## shorten"
   ]
  },
  {
   "cell_type": "code",
   "execution_count": 13,
   "metadata": {
    "collapsed": false,
    "scrolled": false
   },
   "outputs": [
    {
     "data": {
      "text/plain": [
       "   amd_boost       angle  angle_ub       bond  cmap  constraint  ct  \\\n",
       "0          0  162.344881         0  69.750852     0           0   0   \n",
       "1          0  171.913530         0  67.323230     0           0   0   \n",
       "2          0  160.140173         0  54.356569     0           0   0   \n",
       "3          0  175.304762         0  58.912320     0           0   0   \n",
       "4          0  179.411735         0  80.720256     0           0   0   \n",
       "5          0  170.047861         0  66.271355     0           0   0   \n",
       "6          0  178.860154         0  81.916833     0           0   0   \n",
       "7          0  157.791251         0  77.624779     0           0   0   \n",
       "8          0  176.649974         0  74.490781     0           0   0   \n",
       "9          0  160.988947         0  76.494733     0           0   0   \n",
       "\n",
       "     dihedral  disp  dvdl    ...      les  noe  pb  polar  rism  scf  surf  \\\n",
       "0  233.003209     0     0    ...        0    0   0      0     0    0     0   \n",
       "1  244.214391     0     0    ...        0    0   0      0     0    0     0   \n",
       "2  255.441798     0     0    ...        0    0   0      0     0    0     0   \n",
       "3  236.116012     0     0    ...        0    0   0      0     0    0     0   \n",
       "4  248.271116     0     0    ...        0    0   0      0     0    0     0   \n",
       "5  241.952192     0     0    ...        0    0   0      0     0    0     0   \n",
       "6  244.148374     0     0    ...        0    0   0      0     0    0     0   \n",
       "7  247.066556     0     0    ...        0    0   0      0     0    0     0   \n",
       "8  245.516936     0     0    ...        0    0   0      0     0    0     0   \n",
       "9  258.293820     0     0    ...        0    0   0      0     0    0     0   \n",
       "\n",
       "          tot        vdw     vdw_14  \n",
       "0 -386.855858 -58.671906  62.263806  \n",
       "1 -382.909194 -68.973716  63.252375  \n",
       "2 -399.192386 -68.442246  62.560746  \n",
       "3 -404.064231 -74.750939  63.991006  \n",
       "4 -370.239771 -76.872530  58.150682  \n",
       "5 -390.839152 -72.030720  65.096352  \n",
       "6 -375.029568 -83.587096  67.497467  \n",
       "7 -394.649356 -80.938055  64.693389  \n",
       "8 -392.685578 -83.083487  62.736656  \n",
       "9 -384.199356 -87.500849  66.212805  \n",
       "\n",
       "[10 rows x 26 columns]"
      ]
     },
     "execution_count": 13,
     "metadata": {},
     "output_type": "execute_result"
    }
   ],
   "source": [
    "import pytraj.common_actions as pyca\n",
    "\n",
    "# calculate energy with default value (igb=8)\n",
    "energies = pyca.energy_decomposition (traj, dtype='dataset')\n",
    "energies"
   ]
  },
  {
   "cell_type": "code",
   "execution_count": 14,
   "metadata": {
    "collapsed": false
   },
   "outputs": [
    {
     "name": "stdout",
     "output_type": "stream",
     "text": [
      "Help on function get_pysander_energies in module pytraj.externals.get_pysander_energies:\n",
      "\n",
      "get_pysander_energies(traj=None, parm=None, igb=8, input_options=None, qmmm_options=None, mode=None, top=None, dtype='dict')\n",
      "    \"\n",
      "    Parameters\n",
      "    ---------\n",
      "    traj : {Traj-like object, frame, list of trajs, list of frames} from pytraj\n",
      "        if `traj` does not hold Topology information, `top` must be provided\n",
      "    parm : {str, Topology object from ParmEd}, default=None, optional\n",
      "    igb : GB model, default=8 (GB-Neck2)\n",
      "        Note: this `igb` input will be ignored if `input_options` is not None\n",
      "    input_options : InputOptions object from `sander`, default=None, optional\n",
      "        if `input_options` is None, use `gas_input` with `igb = 8`\n",
      "        If `input_options` is not None, use this\n",
      "    qmmm_options : InputOptions object from `sander` for QMMM, optional\n",
      "    mode : str, default=None, optional\n",
      "        if mode='minimal', get only 'bond', 'angle', 'dihedral' and 'total' energies\n",
      "    top : {Topology, str}, default=None, optional\n",
      "    dtype : str, {'dict', 'dataset', 'ndarray', 'dataframe'}, default='dict'\n",
      "    \n",
      "    Returns:\n",
      "    Dict of energies (to be used with DataFrame)\n",
      "    \n",
      "    Examples\n",
      "    --------\n",
      "        # minimal input\n",
      "        energy_decomposition = get_pysander_energies\n",
      "        energy_decomposition(traj)\n",
      "    \n",
      "        # with option\n",
      "        import sander\n",
      "        inp = sander.gas_input(igb=6)\n",
      "        energy_decomposition(traj, input_options=inp)\n",
      "    \n",
      "        # with list of frames, must provide Topology object\n",
      "        energy_decomposition([frame0, frame1], top=my_topology_object)\n",
      "    \n",
      "        # with provided ParmEd object\n",
      "        import chemistry as chem\n",
      "        parm = chem.load_file(\"myfile.prmtop\")\n",
      "        energy_decomposition(traj, parm=parm, igb=5)\n",
      "\n"
     ]
    }
   ],
   "source": [
    "# full options\n",
    "help(pyca.energy_decomposition)"
   ]
  },
  {
   "cell_type": "code",
   "execution_count": 15,
   "metadata": {
    "collapsed": false
   },
   "outputs": [
    {
     "data": {
      "text/plain": [
       "        angle       bond    dihedral         tot\n",
       "0  162.344881  69.750852  233.003209 -386.855858\n",
       "1  171.913530  67.323230  244.214391 -382.909194\n",
       "2  160.140173  54.356569  255.441798 -399.192386\n",
       "3  175.304762  58.912320  236.116012 -404.064231\n",
       "4  179.411735  80.720256  248.271116 -370.239771\n",
       "5  170.047861  66.271355  241.952192 -390.839152\n",
       "6  178.860154  81.916833  244.148374 -375.029568\n",
       "7  157.791251  77.624779  247.066556 -394.649356\n",
       "8  176.649974  74.490781  245.516936 -392.685578\n",
       "9  160.988947  76.494733  258.293820 -384.199356"
      ]
     },
     "execution_count": 15,
     "metadata": {},
     "output_type": "execute_result"
    }
   ],
   "source": [
    "# just care about some 'minimal' output?\n",
    "energies = pyca.energy_decomposition (traj, dtype='dataset', mode='minimal')\n",
    "energies # require pandas to have pretty print (but don't need pandas for getting raw data at all)"
   ]
  },
  {
   "cell_type": "code",
   "execution_count": 16,
   "metadata": {
    "collapsed": false,
    "scrolled": true
   },
   "outputs": [
    {
     "name": "stdout",
     "output_type": "stream",
     "text": [
      "[[ 162.344881    171.91353045  160.1401726   175.30476242  179.41173458\n",
      "   170.04786071  178.86015408  157.7912515   176.64997445  160.98894657]\n",
      " [-386.85585763 -382.90919447 -399.1923861  -404.06423108 -370.23977142\n",
      "  -390.83915224 -375.02956799 -394.64935554 -392.68557807 -384.19935564]\n",
      " [ 233.00320908  244.21439112  255.44179787  236.11601154  248.27111562\n",
      "   241.95219203  244.14837443  247.06655637  245.51693608  258.29382019]\n",
      " [  69.75085151   67.32323037   54.35656918   58.91231967   80.72025559\n",
      "    66.27135516   81.91683307   77.62477894   74.4907812    76.49473283]]\n"
     ]
    }
   ],
   "source": [
    "print (energies.values) # to ndarray"
   ]
  },
  {
   "cell_type": "code",
   "execution_count": 17,
   "metadata": {
    "collapsed": false
   },
   "outputs": [
    {
     "data": {
      "text/plain": [
       "array('d', [-466.10420332687943, -455.76754993695613, -455.5976464241175, -478.5433764963464, -448.8931420795517, -404.6002687139827, -450.3030628951594, -414.40620305552153, -443.75073691232376, -429.7327396323983])"
      ]
     },
     "execution_count": 17,
     "metadata": {},
     "output_type": "execute_result"
    }
   ],
   "source": [
    "# full output with return type as a dictionary\n",
    "energies = pyca.energy_decomposition (traj, dtype='dict')\n",
    "energies['gb'] # get GB energies"
   ]
  },
  {
   "cell_type": "code",
   "execution_count": 18,
   "metadata": {
    "collapsed": false
   },
   "outputs": [
    {
     "name": "stdout",
     "output_type": "stream",
     "text": [
      "dict_keys(['elec', 'scf', 'angle_ub', 'rism', 'dvdl', 'imp', 'gb', 'cmap', 'surf', 'pb', 'polar', 'disp', 'vdw', 'emap', 'les', 'amd_boost', 'bond', 'ct', 'hbond', 'noe', 'angle', 'elec_14', 'constraint', 'vdw_14', 'tot', 'dihedral'])\n"
     ]
    }
   ],
   "source": [
    "# all supported keys\n",
    "print (energies.keys())"
   ]
  }
 ],
 "metadata": {
  "kernelspec": {
   "display_name": "Python 3",
   "language": "python",
   "name": "python3"
  },
  "language_info": {
   "codemirror_mode": {
    "name": "ipython",
    "version": 3
   },
   "file_extension": ".py",
   "mimetype": "text/x-python",
   "name": "python",
   "nbconvert_exporter": "python",
   "pygments_lexer": "ipython3",
   "version": "3.4.3"
  }
 },
 "nbformat": 4,
 "nbformat_minor": 0
}
