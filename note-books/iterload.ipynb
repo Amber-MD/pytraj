{
 "cells": [
  {
   "cell_type": "markdown",
   "metadata": {},
   "source": [
    "### iterload"
   ]
  },
  {
   "cell_type": "markdown",
   "metadata": {},
   "source": [
    "```pytraj barely used explicit calling `iterload` keyword (you will know why later). However, for the sake of clearness, we have \"io.iterload\" too\n",
    "```"
   ]
  },
  {
   "cell_type": "code",
   "execution_count": 9,
   "metadata": {
    "collapsed": true
   },
   "outputs": [],
   "source": [
    "from pytraj import io\n",
    "from pytraj.misc import show_code"
   ]
  },
  {
   "cell_type": "code",
   "execution_count": 10,
   "metadata": {
    "collapsed": false,
    "scrolled": true
   },
   "outputs": [
    {
     "name": "stdout",
     "output_type": "stream",
     "text": [
      "def iterload(*args, **kwd):\n",
      "    \"\"\"return TrajectoryIterator object\n",
      "    \"\"\"\n",
      "    if kwd and 'indices' in kwd.keys():\n",
      "        raise ValueError(\"do not support indices for TrajectoryIterator loading\")\n",
      "    return loadtraj(*args, **kwd)\n",
      "\n"
     ]
    }
   ],
   "source": [
    "show_code(io.iterload) # that's it"
   ]
  },
  {
   "cell_type": "markdown",
   "metadata": {},
   "source": [
    "### Method 1: `io.iterload`"
   ]
  },
  {
   "cell_type": "code",
   "execution_count": 11,
   "metadata": {
    "collapsed": true
   },
   "outputs": [],
   "source": [
    "# let's try something big to be worth using iterload\n",
    "\n",
    "top_name = \"../tests/data/nogit/remd/myparm.parm7\"\n",
    "filename = \"../tests/data/nogit/remd/remd.x.000\""
   ]
  },
  {
   "cell_type": "code",
   "execution_count": 12,
   "metadata": {
    "collapsed": false,
    "scrolled": true
   },
   "outputs": [
    {
     "name": "stdout",
     "output_type": "stream",
     "text": [
      "iterload and strip atoms at the same  time\n",
      "<Frame with 33 atoms>\n",
      "<Frame with 33 atoms>\n",
      "<Frame with 33 atoms>\n",
      "<Frame with 33 atoms>\n",
      "<Frame with 33 atoms>\n",
      "<Frame with 33 atoms>\n",
      "<Frame with 33 atoms>\n",
      "<Frame with 33 atoms>\n",
      "<Frame with 33 atoms>\n",
      "<Frame with 33 atoms>\n",
      "\n",
      "iterload full atoms\n",
      "<Frame with 17443 atoms>\n",
      "<Frame with 17443 atoms>\n",
      "<Frame with 17443 atoms>\n",
      "<Frame with 17443 atoms>\n",
      "<Frame with 17443 atoms>\n",
      "<Frame with 17443 atoms>\n",
      "<Frame with 17443 atoms>\n",
      "<Frame with 17443 atoms>\n",
      "<Frame with 17443 atoms>\n",
      "<Frame with 17443 atoms>\n"
     ]
    }
   ],
   "source": [
    "print (\"iterload and strip atoms at the same  time\")\n",
    "for frame in io.iterload(filename, top_name)(start=10, stop=500, stride=50, mask=\"@CA\"):\n",
    "    print (frame)\n",
    "    \n",
    "print (\"\")\n",
    "print (\"iterload full atoms\")\n",
    "for frame in io.iterload(filename, top_name)( start=10, stop=500, stride=50):\n",
    "    print (frame)"
   ]
  },
  {
   "cell_type": "markdown",
   "metadata": {},
   "source": [
    "### Method 2: `frame_iter` method for Trajectorly-like object"
   ]
  },
  {
   "cell_type": "code",
   "execution_count": 13,
   "metadata": {
    "collapsed": false
   },
   "outputs": [
    {
     "name": "stdout",
     "output_type": "stream",
     "text": [
      "<TrajectoryIterator with 1000 frames, 17443 atoms/frame>\n",
      "           \n",
      "\n",
      "start iterating\n",
      "<Frame with 17443 atoms>\n",
      "<Frame with 17443 atoms>\n",
      "<Frame with 17443 atoms>\n",
      "<Frame with 17443 atoms>\n",
      "<Frame with 17443 atoms>\n",
      "<Frame with 17443 atoms>\n",
      "<Frame with 17443 atoms>\n",
      "<Frame with 17443 atoms>\n",
      "<Frame with 17443 atoms>\n",
      "<Frame with 17443 atoms>\n",
      "\n",
      "start iterating: shorter and commmly used (at least for me)\n",
      "<Frame with 17443 atoms>\n",
      "<Frame with 17443 atoms>\n",
      "<Frame with 17443 atoms>\n",
      "<Frame with 17443 atoms>\n",
      "<Frame with 17443 atoms>\n",
      "<Frame with 17443 atoms>\n",
      "<Frame with 17443 atoms>\n",
      "<Frame with 17443 atoms>\n",
      "<Frame with 17443 atoms>\n",
      "<Frame with 17443 atoms>\n"
     ]
    }
   ],
   "source": [
    "# TrajReadOnly, we call `io.load` but none of Frame is loaded to memory, we only do the general checking like n_atoms, n_frames\n",
    "# ...\n",
    "trajread = io.iterload(filename, top_name)\n",
    "print (trajread)\n",
    "print (\"\")\n",
    "print (\"start iterating\")\n",
    "for frame in trajread.frame_iter(start=10, stop=500, stride=50):\n",
    "    print (frame)\n",
    "    \n",
    "print (\"\")\n",
    "print (\"start iterating: shorter and commmly used (at least for me)\")\n",
    "for frame in trajread(start=10, stop=500, stride=50): # trajread.__call__ method\n",
    "    print (frame)"
   ]
  },
  {
   "cell_type": "code",
   "execution_count": 14,
   "metadata": {
    "collapsed": false
   },
   "outputs": [
    {
     "name": "stdout",
     "output_type": "stream",
     "text": [
      "\n",
      "start iterating: shorter and commmly used (at least for me)\n",
      "<Frame with 17443 atoms>\n",
      "<Frame with 17443 atoms>\n",
      "<Frame with 17443 atoms>\n",
      "<Frame with 17443 atoms>\n",
      "<Frame with 17443 atoms>\n",
      "<Frame with 17443 atoms>\n",
      "<Frame with 17443 atoms>\n",
      "<Frame with 17443 atoms>\n",
      "<Frame with 17443 atoms>\n",
      "<Frame with 17443 atoms>\n"
     ]
    }
   ],
   "source": [
    "# or even much shorter\n",
    "print (\"\")\n",
    "print (\"start iterating: shorter and commmly used (at least for me)\")\n",
    "for frame in trajread(10, 500, 50): # trajread.__call__ method\n",
    "    print (frame)"
   ]
  },
  {
   "cell_type": "code",
   "execution_count": 15,
   "metadata": {
    "collapsed": false
   },
   "outputs": [
    {
     "name": "stdout",
     "output_type": "stream",
     "text": [
      "<Trajectory with 49 frames, 17443 atoms/frame>\n",
      "           \n",
      "start do frame_iter\n",
      "<Frame with 17443 atoms>\n",
      "<Frame with 17443 atoms>\n",
      "<Frame with 17443 atoms>\n",
      "<Frame with 17443 atoms>\n",
      "<Frame with 17443 atoms>\n",
      "<Frame with 17443 atoms>\n",
      "<Frame with 17443 atoms>\n",
      "<Frame with 17443 atoms>\n",
      "<Frame with 17443 atoms>\n",
      "<Frame with 17443 atoms>\n",
      "<Frame with 17443 atoms>\n",
      "<Frame with 17443 atoms>\n",
      "<Frame with 17443 atoms>\n",
      "<Frame with 17443 atoms>\n",
      "<Frame with 17443 atoms>\n",
      "<Frame with 17443 atoms>\n",
      "\n",
      "Trajectory with 49 frames, 17443 atoms\n",
      "start do frame_iter\n",
      "<Frame with 17443 atoms>\n",
      "<Frame with 17443 atoms>\n",
      "<Frame with 17443 atoms>\n",
      "<Frame with 17443 atoms>\n",
      "<Frame with 17443 atoms>\n",
      "<Frame with 17443 atoms>\n",
      "<Frame with 17443 atoms>\n",
      "<Frame with 17443 atoms>\n",
      "<Frame with 17443 atoms>\n",
      "<Frame with 17443 atoms>\n",
      "<Frame with 17443 atoms>\n",
      "<Frame with 17443 atoms>\n",
      "<Frame with 17443 atoms>\n",
      "<Frame with 17443 atoms>\n",
      "<Frame with 17443 atoms>\n",
      "<Frame with 17443 atoms>\n"
     ]
    }
   ],
   "source": [
    "# FrameArray and api.Trajector have the same method too\n",
    "farray = trajread[10:500:10] # use slicing to load to memory\n",
    "print (farray)\n",
    "\n",
    "print (\"start do frame_iter\")\n",
    "for frame in farray(10, 40, 2): # trajread.__call__ method\n",
    "    print (frame)\n",
    "    \n",
    "import pytraj.api as api\n",
    "\n",
    "print (\"\")\n",
    "trajnumpy = api.Trajectory(farray)\n",
    "print (trajnumpy)\n",
    "print (\"start do frame_iter\")\n",
    "for frame in trajnumpy.frame_iter(10, 40, 2): # trajread.__call__ method\n",
    "    print (frame)"
   ]
  },
  {
   "cell_type": "markdown",
   "metadata": {},
   "source": [
    "#### wonder why `pytraj` has 3 types of Trajectories?\n",
    "[Trajectory.ipynb](Trajectory.ipynb)\n",
    "\n",
    "[speed_test_2_trajs.ipynb](speed_test_2_trajs.ipynb)"
   ]
  },
  {
   "cell_type": "markdown",
   "metadata": {},
   "source": [
    "### Method 3: `chunk_iter` method for Trajectorly-like object"
   ]
  },
  {
   "cell_type": "code",
   "execution_count": 16,
   "metadata": {
    "collapsed": false
   },
   "outputs": [
    {
     "name": "stdout",
     "output_type": "stream",
     "text": [
      "<Trajectory with 200 frames, 17443 atoms/frame>\n",
      "           \n",
      "<Trajectory with 200 frames, 17443 atoms/frame>\n",
      "           \n",
      "<Trajectory with 200 frames, 17443 atoms/frame>\n",
      "           \n",
      "<Trajectory with 200 frames, 17443 atoms/frame>\n",
      "           \n",
      "<Trajectory with 100 frames, 17443 atoms/frame>\n",
      "           \n"
     ]
    }
   ],
   "source": [
    "for chunk in trajread.chunk_iter(start=100, stop=4000, chunk=200):\n",
    "    # has not supported api.Trajectory yet\n",
    "    print (chunk) # always return in-memory FrameArray object (same as chunk_iter for TrajRead and FrameArray)"
   ]
  }
 ],
 "metadata": {
  "kernelspec": {
   "display_name": "Python 3",
   "language": "python",
   "name": "python3"
  },
  "language_info": {
   "codemirror_mode": {
    "name": "ipython",
    "version": 3
   },
   "file_extension": ".py",
   "mimetype": "text/x-python",
   "name": "python",
   "nbconvert_exporter": "python",
   "pygments_lexer": "ipython3",
   "version": "3.4.3"
  }
 },
 "nbformat": 4,
 "nbformat_minor": 0
}
