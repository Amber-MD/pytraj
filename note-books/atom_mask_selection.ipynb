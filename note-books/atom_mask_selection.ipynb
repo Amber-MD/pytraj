{
 "cells": [
  {
   "cell_type": "markdown",
   "metadata": {},
   "source": [
    "#Note\n",
    "* pytraj/cpptraj use Amber mask for atom selection\n",
    "* To compat with cpptraj output, pytraj use two types of indexing, 0-based and 1-based. Whenever using an integer, pytraj used 0-based index and whenever using a `string`, pytraj used 1-based index"
   ]
  },
  {
   "cell_type": "code",
   "execution_count": 1,
   "metadata": {
    "collapsed": false
   },
   "outputs": [],
   "source": [
    "from pytraj import io\n",
    "\n",
    "# load Topology file for demonstraction.\n",
    "# if you download `pytraj` from github, you can find the below top file in $PYTRAJHOME/tests/data/\n",
    "top = io.load(\"../tests/data/Tc5b.top\")\n",
    "traj = io.load(\"../tests/data/md1_prod.Tc5b.x\", top)"
   ]
  },
  {
   "cell_type": "markdown",
   "metadata": {},
   "source": [
    "### Two types of indexing in pytraj"
   ]
  },
  {
   "cell_type": "code",
   "execution_count": 2,
   "metadata": {
    "collapsed": false
   },
   "outputs": [
    {
     "data": {
      "text/plain": [
       "<N-atom, resnum=0, n_bonds=4>"
      ]
     },
     "execution_count": 2,
     "metadata": {},
     "output_type": "execute_result"
    }
   ],
   "source": [
    "# 0-based indexing whenever using integer\n",
    "top[0]"
   ]
  },
  {
   "cell_type": "code",
   "execution_count": 3,
   "metadata": {
    "collapsed": false
   },
   "outputs": [
    {
     "data": {
      "text/plain": [
       "<N-atom, resnum=0, n_bonds=4>"
      ]
     },
     "execution_count": 3,
     "metadata": {},
     "output_type": "execute_result"
    }
   ],
   "source": [
    "# 1-based indexing whenever using `string` for atom mask\n",
    "top['@1']"
   ]
  },
  {
   "cell_type": "markdown",
   "metadata": {},
   "source": [
    "## Atom Mask Selection in AMBER"
   ]
  },
  {
   "cell_type": "markdown",
   "metadata": {},
   "source": [
    "(from Amber14 manual: http://ambermd.org/doc12/Amber14.pdf)\n",
    "\n",
    "#### Amber Masks\n",
    "A \"mask\" is a notation which selects atoms or residues for special treatment. A frequent usage is ﬁxing or\n",
    "tethering selected atoms or residues during minimization or molecular dynamics.\n",
    "The following lines are partially copied from the original AMBER documentation. For more details, refer to the\n",
    "entire section of that documentation describing the ambmask utility.\n",
    "The \"mask\" selection expression is composed of \"elementary selections\". *These start with \":\" to select by\n",
    "residues, or \"@\" to select by atoms.* Residues can be selected by numbers (given as numbers separated by commas,\n",
    "or as ranges separated by a dash) or by names (given as a list of residue names separated by commas). The same\n",
    "holds true for atom selections by atom numbers or atom names. In addition, atoms can be selected by AMBER\n",
    "atom type, in which case \"@\" must be immediately followed by \"%\". The notation \":*\" means all residues and\n",
    "\"@*\" means all atoms. The following examples show the usage of this syntax.\n",
    "\n",
    "Residue Number List Examples\n",
    "```\n",
    ":1-10 = \"residues 1 to 10\"\n",
    ":1,3,5 = \"residues 1, 3, and 5\"\n",
    ":1-3,5,7-9 = \"residues 1 to 3 and residue 5 and residues 7 to 9\"\n",
    "```\n",
    "Residue Name List Examples\n",
    "````\n",
    ":LYS = \"all lysine residues\"\n",
    ":ARG,ALA,GLY = \"all arginine and alanine and glycine residues\"\n",
    "```\n",
    "Atom Number List Examples Note that these masks use the actual sequential numbers of atoms in the ﬁle.\n",
    "This is tricky and a serious source of error. You must know these numbers correctly. Using the atom numbers of\n",
    "a PDB ﬁle written out by an AMBER tool is an appropriate way to avoid pitfalls. Do not use the original atom\n",
    "numbers from the raw PDB ﬁle you started with.\n",
    "\u0007 \u0004\n",
    "@12,17 = \"atoms 12 and 17\"\n",
    "@54-85 = \"all atoms from 54 to 85\"\n",
    "@12,54-85,90 = \"atom 12 and all atoms from 54 to 85 and atom 90\"\n",
    "\u0006 \u0005\n",
    "Atom Name List Examples \u0007 \u0004\n",
    "@CA = all atoms with the name CA (i.e., all C-alpha atoms)\n",
    "@CA,C,O,N,H = all atoms with names CA or C or O or N or H\n",
    "(i.e., the entire protein backbone)\n",
    "\u0006 \u0005"
   ]
  },
  {
   "cell_type": "markdown",
   "metadata": {},
   "source": [
    "### let's try some example\n",
    "\n",
    "``` python\n",
    "    >>> top[':1-10'] # a list of atoms from residue 1 to 10\n",
    "    >>> top[':1,3,5'] # a list of atoms in residue 1, 3, 5 (index starts from 1 when using string index)\n",
    "    >>> top[[0, 2, 4]] # a list of atoms with indcies 0, 2, 4 (index starts from 0 when using integer index)\n",
    "    >>> top['@CA'] # a list of CA atoms\n",
    "    >>> top[':2-10@CA'] # a list of CA atoms from residue 2 to 10 (index starts from 1)\n",
    "```"
   ]
  },
  {
   "cell_type": "code",
   "execution_count": 4,
   "metadata": {
    "collapsed": false
   },
   "outputs": [
    {
     "data": {
      "text/plain": [
       "[<N-atom, resnum=0, n_bonds=4>,\n",
       " <H2-atom, resnum=0, n_bonds=1>,\n",
       " <CA-atom, resnum=0, n_bonds=4>]"
      ]
     },
     "execution_count": 4,
     "metadata": {},
     "output_type": "execute_result"
    }
   ],
   "source": [
    "top[[0, 2, 4]]"
   ]
  },
  {
   "cell_type": "code",
   "execution_count": 5,
   "metadata": {
    "collapsed": false
   },
   "outputs": [
    {
     "name": "stdout",
     "output_type": "stream",
     "text": [
      "<pytraj.Trajectory with 10 frames: <Topology with 1 mols, 20 residues, 304 atoms, 310 bonds, non-PBC>>\n",
      "           \n",
      "<pytraj.Trajectory with 10 frames: <Topology with 3 mols, 7 residues, 126 atoms, 124 bonds, non-PBC>>\n",
      "           \n",
      "{'ASP ', 'ASN ', 'LEU ', 'LYS ', 'TYR ', 'GLN '}\n"
     ]
    }
   ],
   "source": [
    "print (traj)\n",
    "# get new Trajectory, keep only coords of residues 1 to 3, 5, 7 to 9 (index starts from 1)\n",
    "t = traj[':1-3,5,7-9']\n",
    "print (t)\n",
    "print (t.top.residue_names)"
   ]
  },
  {
   "cell_type": "code",
   "execution_count": 6,
   "metadata": {
    "collapsed": false
   },
   "outputs": [
    {
     "data": {
      "text/plain": [
       "[<CB-atom, resnum=0, n_bonds=4>,\n",
       " <CG-atom, resnum=0, n_bonds=3>,\n",
       " <CB-atom, resnum=1, n_bonds=4>,\n",
       " <CG-atom, resnum=1, n_bonds=4>,\n",
       " <CD1-atom, resnum=1, n_bonds=4>]"
      ]
     },
     "execution_count": 6,
     "metadata": {},
     "output_type": "execute_result"
    }
   ],
   "source": [
    "# all carbons except backbone alpha and carbonyl carbon\n",
    "top['@C= & !@CA,C'][:5] # print only first 5 atoms"
   ]
  },
  {
   "cell_type": "code",
   "execution_count": 7,
   "metadata": {
    "collapsed": false
   },
   "outputs": [
    {
     "data": {
      "text/plain": [
       "[<N-atom, resnum=12, n_bonds=3>,\n",
       " <H-atom, resnum=12, n_bonds=1>,\n",
       " <HA-atom, resnum=12, n_bonds=1>,\n",
       " <HB2-atom, resnum=12, n_bonds=1>,\n",
       " <HB3-atom, resnum=12, n_bonds=1>]"
      ]
     },
     "execution_count": 7,
     "metadata": {},
     "output_type": "execute_result"
    }
   ],
   "source": [
    "# all SER and ARG atoms except those which are in residues 1-10 and which are CA or CB\n",
    "top[':SER,ARG & !(:1-10 | @CA,CB)'][:5] # print only first 5 atoms"
   ]
  },
  {
   "cell_type": "code",
   "execution_count": 8,
   "metadata": {
    "collapsed": false
   },
   "outputs": [
    {
     "name": "stdout",
     "output_type": "stream",
     "text": [
      "{'NE  ', 'O   ', 'CA  ', 'OE1 ', 'CD  ', 'ND2 ', 'CZ  ', 'NZ  ', 'CG  ', 'CG2 ', 'CE1 ', 'CE2 ', 'CE3 ', 'CG1 ', 'CD2 ', 'N   ', 'C   ', 'OH  ', 'NH2 ', 'CZ2 ', 'OD1 ', 'NH1 ', 'CD1 ', 'OD2 ', 'NE2 ', 'OXT ', 'OG  ', 'CE  ', 'NE1 ', 'CZ3 ', 'CB  ', 'CH2 '}\n"
     ]
    }
   ],
   "source": [
    "# all heavy atoms\n",
    "new_top = top.strip_atoms('@H=', copy=True)\n",
    "print (new_top.atom_names)"
   ]
  },
  {
   "cell_type": "code",
   "execution_count": 9,
   "metadata": {
    "collapsed": false
   },
   "outputs": [
    {
     "name": "stdout",
     "output_type": "stream",
     "text": [
      "{'HA  ', 'HB2 ', 'HE3 ', 'H   ', 'HD3 ', 'HZ2 ', 'HG3 ', 'HD2 ', 'HB3 ', 'HG2 ', 'HE2 ', 'HZ1 ', 'HZ3 '}\n",
      "{'LYS '}\n",
      "<Topology with 13 mols, 1 residues, 13 atoms, 0 bonds, non-PBC>\n"
     ]
    }
   ],
   "source": [
    "# all H in LYS\n",
    "new_top = top.strip_atoms('!(:LYS@H=)', copy=True)\n",
    "print (new_top.atom_names)\n",
    "print (new_top.residue_names)\n",
    "print (new_top)"
   ]
  },
  {
   "cell_type": "code",
   "execution_count": 16,
   "metadata": {
    "collapsed": false
   },
   "outputs": [
    {
     "name": "stdout",
     "output_type": "stream",
     "text": [
      "{'NE  ', 'O   ', 'CA  ', 'OE1 ', 'CD  ', 'ND2 ', 'CZ  ', 'NZ  ', 'CG  ', 'CG2 ', 'CE1 ', 'CE2 ', 'CE3 ', 'CG1 ', 'CD2 ', 'N   ', 'C   ', 'OH  ', 'NH2 ', 'CZ2 ', 'OD1 ', 'NH1 ', 'CD1 ', 'OD2 ', 'NE2 ', 'OXT ', 'OG  ', 'CE  ', 'NE1 ', 'CZ3 ', 'CB  ', 'CH2 '}\n"
     ]
    }
   ],
   "source": [
    "# inplace-strip all H atoms\n",
    "top.strip_atoms('@H=')\n",
    "print (top.atom_names)"
   ]
  },
  {
   "cell_type": "markdown",
   "metadata": {},
   "source": [
    "### what's about being interested only in atom indices?"
   ]
  },
  {
   "cell_type": "code",
   "execution_count": 10,
   "metadata": {
    "collapsed": false,
    "scrolled": true
   },
   "outputs": [
    {
     "data": {
      "text/plain": [
       "array('i', [4, 18, 37, 58, 77, 94, 118, 137, 159, 171, 178, 193, 199, 210, 221, 228, 260, 274, 288, 294])"
      ]
     },
     "execution_count": 10,
     "metadata": {},
     "output_type": "execute_result"
    }
   ],
   "source": [
    "# use () instead of []. [] is normally used for list, dictionary while () is used for callable function\n",
    "top('@CA').indices"
   ]
  },
  {
   "cell_type": "code",
   "execution_count": 11,
   "metadata": {
    "collapsed": false
   },
   "outputs": [
    {
     "data": {
      "text/plain": [
       "<pytraj.AtomMask.AtomMask at 0x2aaac918f048>"
      ]
     },
     "execution_count": 11,
     "metadata": {},
     "output_type": "execute_result"
    }
   ],
   "source": [
    "top('@CA') # return an AtomMask object to pass around."
   ]
  },
  {
   "cell_type": "markdown",
   "metadata": {},
   "source": [
    "### pytraj/cpptraj support distance-based mask selection too\n",
    "```\n",
    "    we need to load Frame object (as trajectory snapshot with xyz coords and other methods come with)\n",
    "```"
   ]
  },
  {
   "cell_type": "code",
   "execution_count": 12,
   "metadata": {
    "collapsed": false
   },
   "outputs": [
    {
     "data": {
      "text/plain": [
       "<pytraj.Trajectory with 10 frames: <Topology with 1 mols, 20 residues, 304 atoms, 310 bonds, non-PBC>>\n",
       "           "
      ]
     },
     "execution_count": 12,
     "metadata": {},
     "output_type": "execute_result"
    }
   ],
   "source": [
    "# load traj with trajectory filename and preloaded Topology\n",
    "traj = io.load(\"../tests/data/md1_prod.Tc5b.x\", top)\n",
    "traj"
   ]
  },
  {
   "cell_type": "code",
   "execution_count": 13,
   "metadata": {
    "collapsed": false
   },
   "outputs": [
    {
     "data": {
      "text/plain": [
       "array('i', [0, 1, 2, 3, 4, 5, 6, 7, 8, 9, 10, 11, 12, 13, 14, 15, 16, 17, 18, 19, 20, 21, 22, 23, 24, 25, 26, 27, 28, 29, 30, 31, 32, 33, 34, 226, 227, 228, 229, 230, 231, 232, 233, 234, 235, 236, 237, 238, 239, 240, 241, 242, 243, 244, 245, 246, 247, 248, 249])"
      ]
     },
     "execution_count": 13,
     "metadata": {},
     "output_type": "execute_result"
    }
   ],
   "source": [
    "# to use distance-based mask selction, we need to set_reference_frame\n",
    "# example: set_reference_frame for the last frame\n",
    "top.set_reference_frame(traj[-1])\n",
    "\n",
    "# do the mask selection. Pick up all atoms within 5.0 Angstrom from given atom 1 (or 0 if using integer as indexing)\n",
    "\n",
    "top(\"@1 <:5.0\").indices"
   ]
  },
  {
   "cell_type": "code",
   "execution_count": 14,
   "metadata": {
    "collapsed": false
   },
   "outputs": [
    {
     "name": "stdout",
     "output_type": "stream",
     "text": [
      "before\n",
      "<pytraj.Trajectory with 10 frames: <Topology with 1 mols, 20 residues, 304 atoms, 310 bonds, non-PBC>>\n",
      "           \n",
      "after\n",
      "<pytraj.Trajectory with 10 frames: <Topology with 2 mols, 3 residues, 59 atoms, 57 bonds, non-PBC>>\n",
      "           \n"
     ]
    }
   ],
   "source": [
    "# what can we do with atom mask?\n",
    "# we can use AtomMask object to save new traj having only selected atoms\n",
    "\n",
    "# save to AtomMask object to pass around\n",
    "atm = top(\"@1 <:5.0\")\n",
    "\n",
    "# getting new Trajectory object having only selected atoms\n",
    "\n",
    "print (\"before\")\n",
    "print (traj)\n",
    "print (\"after\")\n",
    "new_traj = traj[atm]\n",
    "print (new_traj)"
   ]
  },
  {
   "cell_type": "code",
   "execution_count": 15,
   "metadata": {
    "collapsed": false
   },
   "outputs": [
    {
     "name": "stdout",
     "output_type": "stream",
     "text": [
      "[-16.492000000000001, 12.433999999999999, -11.018000000000001]\n"
     ]
    }
   ],
   "source": [
    "# wanna get coords from new_traj?\n",
    "\n",
    "# tolist(), coords of first atom of first frames\n",
    "print (new_traj.tolist()[0][0])"
   ]
  },
  {
   "cell_type": "markdown",
   "metadata": {},
   "source": [
    "``` python\n",
    "    >>> # try those too\n",
    "    >>> print (new_traj.to_ndarray())\n",
    "    >>> print (new_traj.tolist())\n",
    "    >>> print (new_traj.xyz)\n",
    "    >>> print (new_traj[0, :])\n",
    "```"
   ]
  }
 ],
 "metadata": {
  "kernelspec": {
   "display_name": "Python 3",
   "language": "python",
   "name": "python3"
  },
  "language_info": {
   "codemirror_mode": {
    "name": "ipython",
    "version": 3
   },
   "file_extension": ".py",
   "mimetype": "text/x-python",
   "name": "python",
   "nbconvert_exporter": "python",
   "pygments_lexer": "ipython3",
   "version": "3.4.3"
  }
 },
 "nbformat": 4,
 "nbformat_minor": 0
}
