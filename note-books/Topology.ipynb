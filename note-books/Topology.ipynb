{
 "cells": [
  {
   "cell_type": "markdown",
   "metadata": {},
   "source": [
    "# TODO : write introduction"
   ]
  },
  {
   "cell_type": "code",
   "execution_count": 1,
   "metadata": {
    "collapsed": false
   },
   "outputs": [],
   "source": [
    "from __future__ import print_function\n",
    "from pytraj import Topology\n",
    "from pytraj import load_sample_data"
   ]
  },
  {
   "cell_type": "code",
   "execution_count": 2,
   "metadata": {
    "collapsed": false
   },
   "outputs": [
    {
     "name": "stdout",
     "output_type": "stream",
     "text": [
      "<Topology with 1 mols, 20 residues, 304 atoms, 310 bonds, non-PBC>\n"
     ]
    }
   ],
   "source": [
    "top = Topology(\"../tests/data/Tc5b.top\")\n",
    "print (top)"
   ]
  },
  {
   "cell_type": "code",
   "execution_count": 3,
   "metadata": {
    "collapsed": false
   },
   "outputs": [
    {
     "data": {
      "text/plain": [
       "<N-atom, resnum=0, n_bonds=4>"
      ]
     },
     "execution_count": 3,
     "metadata": {},
     "output_type": "execute_result"
    }
   ],
   "source": [
    "# get first atom in Topology\n",
    "top[0]"
   ]
  },
  {
   "cell_type": "code",
   "execution_count": 4,
   "metadata": {
    "collapsed": false
   },
   "outputs": [
    {
     "data": {
      "text/plain": [
       "[<CA-atom, resnum=0, n_bonds=4>,\n",
       " <CA-atom, resnum=1, n_bonds=4>,\n",
       " <CA-atom, resnum=2, n_bonds=4>,\n",
       " <CA-atom, resnum=3, n_bonds=4>,\n",
       " <CA-atom, resnum=4, n_bonds=4>,\n",
       " <CA-atom, resnum=5, n_bonds=4>,\n",
       " <CA-atom, resnum=6, n_bonds=4>,\n",
       " <CA-atom, resnum=7, n_bonds=4>,\n",
       " <CA-atom, resnum=8, n_bonds=4>,\n",
       " <CA-atom, resnum=9, n_bonds=4>,\n",
       " <CA-atom, resnum=10, n_bonds=4>,\n",
       " <CA-atom, resnum=11, n_bonds=4>,\n",
       " <CA-atom, resnum=12, n_bonds=4>,\n",
       " <CA-atom, resnum=13, n_bonds=4>,\n",
       " <CA-atom, resnum=14, n_bonds=4>,\n",
       " <CA-atom, resnum=15, n_bonds=4>,\n",
       " <CA-atom, resnum=16, n_bonds=4>,\n",
       " <CA-atom, resnum=17, n_bonds=4>,\n",
       " <CA-atom, resnum=18, n_bonds=4>,\n",
       " <CA-atom, resnum=19, n_bonds=4>]"
      ]
     },
     "execution_count": 4,
     "metadata": {},
     "output_type": "execute_result"
    }
   ],
   "source": [
    "# get all atoms with mask CA\n",
    "top['@CA']"
   ]
  },
  {
   "cell_type": "code",
   "execution_count": 5,
   "metadata": {
    "collapsed": false
   },
   "outputs": [
    {
     "name": "stdout",
     "output_type": "stream",
     "text": [
      "CA   0\n",
      "CA   1\n",
      "CA   2\n",
      "CA   3\n",
      "CA   4\n",
      "CA   5\n",
      "CA   6\n",
      "CA   7\n",
      "CA   8\n",
      "CA   9\n",
      "CA   10\n",
      "CA   11\n",
      "CA   12\n",
      "CA   13\n",
      "CA   14\n",
      "CA   15\n",
      "CA   16\n",
      "CA   17\n",
      "CA   18\n",
      "CA   19\n"
     ]
    }
   ],
   "source": [
    "# loop all CA to get information\n",
    "for atom in top['@CA']:\n",
    "    print (atom.name, atom.resnum)"
   ]
  },
  {
   "cell_type": "code",
   "execution_count": 6,
   "metadata": {
    "collapsed": false
   },
   "outputs": [],
   "source": [
    "# make a new copy\n",
    "top2 = top.copy()"
   ]
  },
  {
   "cell_type": "code",
   "execution_count": 7,
   "metadata": {
    "collapsed": false
   },
   "outputs": [
    {
     "data": {
      "text/plain": [
       "False"
      ]
     },
     "execution_count": 7,
     "metadata": {},
     "output_type": "execute_result"
    }
   ],
   "source": [
    "top2 == top"
   ]
  },
  {
   "cell_type": "code",
   "execution_count": 8,
   "metadata": {
    "collapsed": false
   },
   "outputs": [
    {
     "data": {
      "text/plain": [
       "['CZ2 ',\n",
       " 'CZ3 ',\n",
       " 'HD22',\n",
       " 'C   ',\n",
       " 'NH2 ',\n",
       " 'HE22',\n",
       " 'OD2 ',\n",
       " 'HH2 ',\n",
       " 'CE1 ',\n",
       " 'HE2 ']"
      ]
     },
     "execution_count": 8,
     "metadata": {},
     "output_type": "execute_result"
    }
   ],
   "source": [
    "# get unique atom names\n",
    "list(top.atom_names)[:10]"
   ]
  },
  {
   "cell_type": "code",
   "execution_count": 9,
   "metadata": {
    "collapsed": false
   },
   "outputs": [
    {
     "data": {
      "text/plain": [
       "{'ARG ',\n",
       " 'ASN ',\n",
       " 'ASP ',\n",
       " 'GLN ',\n",
       " 'GLY ',\n",
       " 'ILE ',\n",
       " 'LEU ',\n",
       " 'LYS ',\n",
       " 'PRO ',\n",
       " 'SER ',\n",
       " 'TRP ',\n",
       " 'TYR '}"
      ]
     },
     "execution_count": 9,
     "metadata": {},
     "output_type": "execute_result"
    }
   ],
   "source": [
    "# get unique residue name\n",
    "top.residue_names"
   ]
  },
  {
   "cell_type": "code",
   "execution_count": 10,
   "metadata": {
    "collapsed": false
   },
   "outputs": [],
   "source": [
    "res0 = next(top.residue_iter())"
   ]
  },
  {
   "cell_type": "code",
   "execution_count": 11,
   "metadata": {
    "collapsed": false
   },
   "outputs": [
    {
     "name": "stdout",
     "output_type": "stream",
     "text": [
      "ASN \n",
      "LEU \n",
      "TYR \n",
      "ILE \n",
      "GLN \n",
      "TRP \n",
      "LEU \n",
      "LYS \n",
      "ASP \n",
      "GLY \n",
      "GLY \n",
      "PRO \n",
      "SER \n",
      "SER \n",
      "GLY \n",
      "ARG \n",
      "PRO \n",
      "PRO \n",
      "PRO \n",
      "SER \n"
     ]
    }
   ],
   "source": [
    "for res0 in top.residue_iter():\n",
    "    print (res0.name)"
   ]
  },
  {
   "cell_type": "code",
   "execution_count": 12,
   "metadata": {
    "collapsed": false
   },
   "outputs": [],
   "source": [
    "# get atom mask object\n",
    "atommask = top(\"@CA\")"
   ]
  },
  {
   "cell_type": "code",
   "execution_count": 13,
   "metadata": {
    "collapsed": false
   },
   "outputs": [
    {
     "name": "stdout",
     "output_type": "stream",
     "text": [
      "array('i', [4, 18, 37, 58, 77, 94, 118, 137, 159, 171, 178, 193, 199, 210, 221, 228, 260, 274, 288, 294])\n"
     ]
    }
   ],
   "source": [
    "# get incides of atoms having mask \"@CA\"\n",
    "print (atommask.selected_indices())"
   ]
  },
  {
   "cell_type": "code",
   "execution_count": 14,
   "metadata": {
    "collapsed": false
   },
   "outputs": [
    {
     "name": "stdout",
     "output_type": "stream",
     "text": [
      "[<CA-atom, resnum=0, n_bonds=4>, <CA-atom, resnum=1, n_bonds=4>, <CA-atom, resnum=2, n_bonds=4>, <CA-atom, resnum=3, n_bonds=4>, <CA-atom, resnum=4, n_bonds=4>, <CA-atom, resnum=5, n_bonds=4>, <CA-atom, resnum=6, n_bonds=4>, <CA-atom, resnum=7, n_bonds=4>, <CA-atom, resnum=8, n_bonds=4>, <CA-atom, resnum=9, n_bonds=4>, <CA-atom, resnum=10, n_bonds=4>, <CA-atom, resnum=11, n_bonds=4>, <CA-atom, resnum=12, n_bonds=4>, <CA-atom, resnum=13, n_bonds=4>, <CA-atom, resnum=14, n_bonds=4>, <CA-atom, resnum=15, n_bonds=4>, <CA-atom, resnum=16, n_bonds=4>, <CA-atom, resnum=17, n_bonds=4>, <CA-atom, resnum=18, n_bonds=4>, <CA-atom, resnum=19, n_bonds=4>]\n"
     ]
    }
   ],
   "source": [
    "# but you can get atom objects having mask @CA too\n",
    "# In this case, we use [] rather using ()\n",
    "print (top[\"@CA\"])"
   ]
  },
  {
   "cell_type": "code",
   "execution_count": 15,
   "metadata": {
    "collapsed": false
   },
   "outputs": [
    {
     "data": {
      "text/plain": [
       "array('i', [183, 184, 185, 186, 187, 188, 189, 190, 191, 192, 193, 194, 195, 196, 250, 251, 252, 253, 254, 255, 256, 257, 258, 259, 260, 261, 262, 263, 264, 265, 266, 267, 268, 269, 270, 271, 272, 273, 274, 275, 276, 277, 278, 279, 280, 281, 282, 283, 284, 285, 286, 287, 288, 289, 290, 291])"
      ]
     },
     "execution_count": 15,
     "metadata": {},
     "output_type": "execute_result"
    }
   ],
   "source": [
    "# get indices of residues having mask :PRO\n",
    "# TODO : return residue indices too?\n",
    "top(\":PRO\").selected_indices()"
   ]
  },
  {
   "cell_type": "code",
   "execution_count": 16,
   "metadata": {
    "collapsed": false
   },
   "outputs": [
    {
     "data": {
      "text/plain": [
       "[11, 16, 17, 18]"
      ]
     },
     "execution_count": 16,
     "metadata": {},
     "output_type": "execute_result"
    }
   ],
   "source": [
    "# get residues indies having mask :PRO\n",
    "from pytraj.six_2 import set\n",
    "resid = set()\n",
    "\n",
    "for atom in top[\":PRO\"]:\n",
    "    resid.add(atom.resnum)\n",
    "    \n",
    "sorted(resid)"
   ]
  },
  {
   "cell_type": "code",
   "execution_count": 17,
   "metadata": {
    "collapsed": false
   },
   "outputs": [],
   "source": [
    "# how's about creating new Topology from new atoms?\n",
    "\n",
    "from pytraj.core import Atom\n",
    "pseudotop = Topology()\n",
    "\n"
   ]
  },
  {
   "cell_type": "code",
   "execution_count": 18,
   "metadata": {
    "collapsed": false
   },
   "outputs": [],
   "source": [
    "# create atom with name \"CA\" and nametype \"CX\"\n",
    "# dummy example\n",
    "\n",
    "for name, ntype in zip([\"CA\", \"CA\", \"CB\"], [\"CX\", \"CY\", \"CZ\"]):\n",
    "    atom = Atom(\"CA\", \"CX\")\n",
    "    pseudotop.add_atom(atom, resid=20, resname=\"TEST\")"
   ]
  },
  {
   "cell_type": "code",
   "execution_count": 19,
   "metadata": {
    "collapsed": false
   },
   "outputs": [
    {
     "data": {
      "text/plain": [
       "<Topology with 0 mols, 1 residues, 3 atoms, 0 bonds, non-PBC>"
      ]
     },
     "execution_count": 19,
     "metadata": {},
     "output_type": "execute_result"
    }
   ],
   "source": [
    "pseudotop"
   ]
  },
  {
   "cell_type": "code",
   "execution_count": 20,
   "metadata": {
    "collapsed": false
   },
   "outputs": [
    {
     "data": {
      "text/plain": [
       "3"
      ]
     },
     "execution_count": 20,
     "metadata": {},
     "output_type": "execute_result"
    }
   ],
   "source": [
    "pseudotop.n_atoms"
   ]
  },
  {
   "cell_type": "code",
   "execution_count": 21,
   "metadata": {
    "collapsed": false
   },
   "outputs": [
    {
     "data": {
      "text/plain": [
       "{'TEST'}"
      ]
     },
     "execution_count": 21,
     "metadata": {},
     "output_type": "execute_result"
    }
   ],
   "source": [
    "pseudotop.atom_names\n",
    "pseudotop.residue_names"
   ]
  }
 ],
 "metadata": {
  "kernelspec": {
   "display_name": "Python 3",
   "language": "python",
   "name": "python3"
  },
  "language_info": {
   "codemirror_mode": {
    "name": "ipython",
    "version": 3
   },
   "file_extension": ".py",
   "mimetype": "text/x-python",
   "name": "python",
   "nbconvert_exporter": "python",
   "pygments_lexer": "ipython3",
   "version": "3.4.3"
  }
 },
 "nbformat": 4,
 "nbformat_minor": 0
}
