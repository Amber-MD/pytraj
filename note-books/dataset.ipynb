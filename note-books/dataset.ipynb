{
 "cells": [
  {
   "cell_type": "markdown",
   "metadata": {},
   "source": [
    "# DataSetList\n",
    "\n",
    "This is an important class in pytraj/cpptraj. It holds data from calculation. Such as\n",
    "```python\n",
    "    calc_radgyr(traj, \"@CA\", dslist=dslist)\n",
    "```"
   ]
  },
  {
   "cell_type": "markdown",
   "metadata": {},
   "source": [
    "There are few methods and attributres of DataSetList make anlyzing data easier.\n",
    "```pytraj\n",
    "      dslist.tolist() # try to cast to Python list\n",
    "      dslist.to_ndarray() # try to cast to numpy array\n",
    "      dslist.to_dict() # try to cast to Python Dict\n",
    "      dslist.groupby(key, mode='legend') # try to group datasets having `key` in `mode`. (example will be shown later)\n",
    "\n",
    "Note: this notebook is not final version and methods can be changed. :D"
   ]
  },
  {
   "cell_type": "markdown",
   "metadata": {},
   "source": [
    "## 1. Perform dihedral search"
   ]
  },
  {
   "cell_type": "code",
   "execution_count": 1,
   "metadata": {
    "collapsed": false
   },
   "outputs": [
    {
     "name": "stdout",
     "output_type": "stream",
     "text": [
      "<pytraj.TrajectoryIterator with 1 frames: <Topology with 1 mols, 3 residues, 34 atoms, 33 bonds, non-PBC>>\n",
      "           \n",
      "<Topology with 1 mols, 3 residues, 34 atoms, 33 bonds, non-PBC>\n",
      "{'ALA ', 'ALH '}\n"
     ]
    }
   ],
   "source": [
    "# load sample data from pytraj\n",
    "\n",
    "from pytraj import load_sample_data\n",
    "\n",
    "traj = load_sample_data()\n",
    "print (traj)\n",
    "print (traj.top)\n",
    "print (traj.top.residue_names)"
   ]
  },
  {
   "cell_type": "code",
   "execution_count": 2,
   "metadata": {
    "collapsed": false,
    "scrolled": true
   },
   "outputs": [
    {
     "name": "stdout",
     "output_type": "stream",
     "text": [
      "<pytraj.DataSetList.DataSetList object at 0x2aaac7323d10>\n",
      "['psi:1', 'phi:2', 'psi:2', 'omega:2', 'phi:3', 'omega:3']\n",
      "<pytraj.datasets.DataSet_double.DataSet_double object at 0x2b1d945c48a0>\n"
     ]
    }
   ],
   "source": [
    "# let's do dihedral search and hold data in DataSetList object\n",
    "from pytraj import calculate\n",
    "# from pytraj.misc import show_code as show\n",
    "\n",
    "#show(calculate)\n",
    "dslist = calculate('multidihedral', traj, \"\", top=traj.top) # search all possible dihedrals\n",
    "print (dslist)\n",
    "\n",
    "# dlist be haves similiar to Python dict and list\n",
    "print (dslist.keys()) # get `key` for indexing like a dictionary\n",
    "print (dslist['phi:2']) # print phi for residue 2 (when using string for indexing, the index starts from 1)"
   ]
  },
  {
   "cell_type": "code",
   "execution_count": 3,
   "metadata": {
    "collapsed": false
   },
   "outputs": [
    {
     "name": "stdout",
     "output_type": "stream",
     "text": [
      "<pytraj.datasets.DataSet_double.DataSet_double object at 0x2b1d945c4900>\n",
      "[179.99992142498905]\n",
      "{'phi:3': [-179.99977572713476], 'psi:2': [179.99992587395795], 'phi:2': [-179.99976823544196], 'omega:3': [179.99992169448015], 'psi:1': [179.99992142498905], 'omega:2': [179.99992243336035]}\n"
     ]
    }
   ],
   "source": [
    "# behave like a python list\n",
    "print (dslist[0])\n",
    "\n",
    "# want to get raw data?\n",
    "print (dslist[0].tolist())\n",
    "\n",
    "# convert to real Python dict?\n",
    "print (dslist.to_dict())"
   ]
  },
  {
   "cell_type": "code",
   "execution_count": 4,
   "metadata": {
    "collapsed": false
   },
   "outputs": [
    {
     "name": "stdout",
     "output_type": "stream",
     "text": [
      "{'phi:2': [-179.99976823544196], 'phi:3': [-179.99977572713476]}\n"
     ]
    }
   ],
   "source": [
    "# group by keyword?\n",
    "print (dslist.groupby(\"phi\").to_dict())"
   ]
  },
  {
   "cell_type": "code",
   "execution_count": 5,
   "metadata": {
    "collapsed": false
   },
   "outputs": [
    {
     "name": "stdout",
     "output_type": "stream",
     "text": [
      "[[ 179.99992142]\n",
      " [-179.99976824]\n",
      " [ 179.99992587]\n",
      " [ 179.99992243]\n",
      " [-179.99977573]\n",
      " [ 179.99992169]]\n"
     ]
    }
   ],
   "source": [
    "# gete ndarray?\n",
    "print (dslist.to_ndarray())"
   ]
  },
  {
   "cell_type": "code",
   "execution_count": 6,
   "metadata": {
    "collapsed": false
   },
   "outputs": [
    {
     "name": "stdout",
     "output_type": "stream",
     "text": [
      "6\n",
      "5\n",
      "['psi:1', 'phi:2', 'omega:2', 'phi:3', 'omega:3']\n"
     ]
    }
   ],
   "source": [
    "# remove dataset?\n",
    "# size before\n",
    "print (dslist.size)\n",
    "dslist.remove_set(dslist['psi:2'])\n",
    "\n",
    "# after\n",
    "print (dslist.size)\n",
    "print (dslist.keys())"
   ]
  },
  {
   "cell_type": "markdown",
   "metadata": {},
   "source": [
    "## 2. Perform DSSP analysis"
   ]
  },
  {
   "cell_type": "code",
   "execution_count": 7,
   "metadata": {
    "collapsed": false
   },
   "outputs": [
    {
     "name": "stdout",
     "output_type": "stream",
     "text": [
      "<pytraj.Trajectory with 100 frames: <Topology with 1 mols, 22 residues, 332 atoms, 335 bonds, non-PBC>>\n",
      "           \n",
      "{'O   ', 'HE2 ', 'CH3 ', 'HG22', 'HZ3 ', 'N   ', 'CE2 ', 'HG12', 'HB3 ', 'HG3 ', 'HN1 ', 'HD21', 'HG21', 'HG1 ', 'HZ1 ', 'OE2 ', 'HD12', 'HA2 ', 'HD23', 'HE1 ', 'HG  ', 'HD3 ', 'HE21', 'HD11', 'CA  ', 'CZ  ', 'HA  ', 'HG23', 'CD  ', 'OE1 ', 'NE2 ', 'HH33', 'HE22', 'OG1 ', 'CE  ', 'HH  ', 'HD22', 'CG2 ', 'HD2 ', 'HH31', 'C   ', 'HB  ', 'HZ  ', 'CD1 ', 'OG  ', 'HD1 ', 'HG2 ', 'HG13', 'HA3 ', 'HZ2 ', 'HN2 ', 'NZ  ', 'CG1 ', 'OH  ', 'CB  ', 'CG  ', 'HH32', 'HE3 ', 'CE1 ', 'HB2 ', 'HD13', 'H   ', 'HG11', 'CD2 '}\n",
      "{'GLU ', 'GLY ', 'VAL ', 'TYR ', 'GLN ', 'NHE ', 'THR ', 'PRO ', 'ILE ', 'LYS ', 'SER ', 'ACE ', 'LEU ', 'PHE '}\n",
      "22\n"
     ]
    }
   ],
   "source": [
    "# let's load DPDP peptide simulation from cpptraj test\n",
    "# you can find the traj with topology files in either\n",
    "# \n",
    "# $AMBERHOME/AmberTools/test/cpptraj/\n",
    "\n",
    "# or from cpptraj-dev version in github\n",
    "# https://github.com/mojyt/cpptraj/tree/master/test/DPDP.*\n",
    "\n",
    "from pytraj import io\n",
    "traj = io.load(\"../tests/data/DPDP.nc\", \"../tests/data/DPDP.parm7\")\n",
    "print (traj)\n",
    "print (traj.top.atom_names)\n",
    "print (traj.top.residue_names)\n",
    "print (traj.top.n_residues)"
   ]
  },
  {
   "cell_type": "code",
   "execution_count": 8,
   "metadata": {
    "collapsed": false
   },
   "outputs": [
    {
     "name": "stdout",
     "output_type": "stream",
     "text": [
      "<pytraj.DataSetList.DataSetList object at 0x2aaac7323d50>\n",
      "['DSSP_00000[None]', 'DSSP_00000[Para]', 'DSSP_00000[Anti]', 'DSSP_00000[3-10]', 'DSSP_00000[Alpha]', 'DSSP_00000[Pi]', 'DSSP_00000[Turn]', 'DSSP_00000[Bend]', 'VAL:2', 'PHE:3', 'ILE:4', 'THR:5', 'SER:6', 'PRO:7', 'GLY:8', 'LYS:9', 'THR:10', 'TYR:11', 'THR:12', 'GLU:13', 'VAL:14', 'PRO:15']\n",
      "[ 0.5714286   0.5714286   0.5714286   0.71428573  0.5714286   0.42857143\n",
      "  0.5714286   0.5714286   0.5714286   0.5714286 ]\n"
     ]
    }
   ],
   "source": [
    "# let do dssp analysis\n",
    "\n",
    "dslist = traj.calc_dssp(\":2-15\", dtype='dataset') # perform analysis for residue 2 to 15 (index starts from 1)\n",
    "# dtype = 'str' | 'int' | 'dataset'\n",
    "print (dslist)\n",
    "print (dslist.keys())\n",
    "\n",
    "# print average beta content for first 10 frames\n",
    "print (dslist.groupby(\"Anti\").to_ndarray()[:10])"
   ]
  },
  {
   "cell_type": "code",
   "execution_count": 9,
   "metadata": {
    "collapsed": false
   },
   "outputs": [],
   "source": [
    "# what's about specific residue?\n",
    "arr = (dslist.groupby(\"PHE\").to_ndarray())"
   ]
  },
  {
   "cell_type": "code",
   "execution_count": 10,
   "metadata": {
    "collapsed": false,
    "scrolled": true
   },
   "outputs": [
    {
     "name": "stdout",
     "output_type": "stream",
     "text": [
      "PHE\n",
      "['B', 'B', 'B', 'B', 'B', 'B', 'B', 'B', 'B', 'B', 'B', 'B', 'B', 'B', 'B', 'B', 'B', 'B', 'B', 'B', 'B', 'B', 'B', 'B', 'B', 'B', 'B', 'B', 'B', 'B', 'B', 'B', 'B', 'B', 'B', 'B', 'B', 'B', 'B', 'B', 'B', 'B', 'B', 'B', 'B', 'B', 'B', 'B', 'B', 'B', 'B', 'B', 'B', 'B', 'B', 'B', 'B', 'B', 'B', 'B', 'B', 'B', 'B', 'B', 'B', 'B', 'B', 'B', 'B', 'B', 'B', 'B', 'B', 'B', 'B', 'B', 'B', 'B', 'B', 'B', 'B', 'B', 'B', 'B', 'B', 'B', 'B', 'B', '0', 'B', 'B', 'B', 'B', 'B', 'B', 'B', 'B', 'B', 'B', 'B']\n",
      "\n",
      "SER\n",
      "['S', 'S', '0', 'B', 'T', 'G', '0', 'S', 'S', 'S', 'S', 'S', '0', 'B', 'B', '0', 'S', 'B', 'S', 'S', '0', 'B', '0', 'B', 'B', 'B', '0', 'B', 'B', 'B', 'S', 'S', 'B', 'B', 'B', 'B', 'B', 'B', 'B', 'B', 'B', '0', 'B', 'B', 'S', 'B', 'B', 'B', '0', 'B', '0', '0', '0', '0', '0', '0', '0', 'B', 'T', 'G', 'G', 'T', 'G', 'T', 'S', '0', 'G', 'T', '0', '0', 'T', 'G', 'G', 'T', '0', '0', 'S', '0', 'B', 'S', 'G', 'G', 'T', 'T', '0', 'B', '0', '0', 'B', '0', 'T', 'T', 'B', 'B', 'G', 'T', 'B', 'B', 'B', 'B']\n"
     ]
    }
   ],
   "source": [
    "# we need to convert to meaningful thing \n",
    "from pytraj.common_actions import to_string_ss\n",
    "\n",
    "print (\"PHE\")\n",
    "print (to_string_ss(arr))\n",
    "\n",
    "print (\"\")\n",
    "print (\"SER\")\n",
    "print (to_string_ss(dslist.groupby(\"SER\").to_ndarray()))"
   ]
  },
  {
   "cell_type": "code",
   "execution_count": 11,
   "metadata": {
    "collapsed": false
   },
   "outputs": [
    {
     "name": "stdout",
     "output_type": "stream",
     "text": [
      "[['0' 'B' 'B' ..., 'B' '0' '0']\n",
      " ['0' 'B' 'B' ..., 'B' 'B' '0']\n",
      " ['0' 'B' 'B' ..., 'B' '0' '0']\n",
      " ..., \n",
      " ['0' 'B' 'B' ..., 'B' '0' '0']\n",
      " ['0' 'B' 'B' ..., 'B' '0' '0']\n",
      " ['0' 'B' 'B' ..., 'B' '0' '0']]\n"
     ]
    }
   ],
   "source": [
    "# in case you're not patient to use \"to_string_ss\" method, you can follow below\n",
    "\n",
    "ss_dict = traj.calc_dssp(dtype='ndarray')\n",
    "print (ss_dict)"
   ]
  },
  {
   "cell_type": "markdown",
   "metadata": {},
   "source": [
    "## 3. Perform hbonds analysis"
   ]
  },
  {
   "cell_type": "code",
   "execution_count": 12,
   "metadata": {
    "collapsed": false
   },
   "outputs": [
    {
     "name": "stdout",
     "output_type": "stream",
     "text": [
      "<pytraj.Trajectory with 10 frames: <Topology with 1692 mols, 1704 residues, 5293 atoms, 5300 bonds, PBC with box type = ortho>>\n",
      "           \n"
     ]
    }
   ],
   "source": [
    "import pytraj.io as io\n",
    "\n",
    "traj = io.load(\"../tests/data/tz2.ortho.nc\", \"../tests/data/tz2.ortho.parm7\")\n",
    "print (traj)"
   ]
  },
  {
   "cell_type": "code",
   "execution_count": 13,
   "metadata": {
    "collapsed": true
   },
   "outputs": [],
   "source": [
    "# need to do autoimage first\n",
    "traj.autoimage()"
   ]
  },
  {
   "cell_type": "code",
   "execution_count": 14,
   "metadata": {
    "collapsed": true
   },
   "outputs": [],
   "source": [
    "# search all hbonds\n",
    "dslist = traj.search_hbonds()"
   ]
  },
  {
   "cell_type": "code",
   "execution_count": 15,
   "metadata": {
    "collapsed": false
   },
   "outputs": [
    {
     "data": {
      "text/plain": [
       "['HB_00000[UU]',\n",
       " 'LYS_12@O-SER_1@N-H3',\n",
       " 'LYS_8@O-GLU_5@N-H',\n",
       " 'GLU_5@O-LYS_8@N-H',\n",
       " 'SER_1@O-LYS_12@N-H',\n",
       " 'GLU_5@OE2-LYS_12@NZ-HZ1',\n",
       " 'GLU_5@OE1-LYS_12@NZ-HZ1',\n",
       " 'THR_10@O-THR_3@N-H',\n",
       " 'TRP_2@O-THR_3@OG1-HG1',\n",
       " 'THR_3@O-THR_10@N-H']"
      ]
     },
     "execution_count": 15,
     "metadata": {},
     "output_type": "execute_result"
    }
   ],
   "source": [
    "dslist.keys()"
   ]
  },
  {
   "cell_type": "code",
   "execution_count": 16,
   "metadata": {
    "collapsed": false
   },
   "outputs": [
    {
     "name": "stdout",
     "output_type": "stream",
     "text": [
      "[5, 5, 5, 4, 4, 5, 6, 5, 5, 4]\n"
     ]
    }
   ],
   "source": [
    "# total hbonds for each frames\n",
    "print (dslist[0].tolist())\n",
    "# equal to dslist['HB_00000[UU]']"
   ]
  },
  {
   "cell_type": "code",
   "execution_count": 17,
   "metadata": {
    "collapsed": false
   },
   "outputs": [
    {
     "name": "stdout",
     "output_type": "stream",
     "text": [
      "[48  7  8  3 10  9  2  2  3  4]\n"
     ]
    }
   ],
   "source": [
    "# do basic math\n",
    "print (dslist.sum())"
   ]
  },
  {
   "cell_type": "code",
   "execution_count": 18,
   "metadata": {
    "collapsed": false
   },
   "outputs": [
    {
     "data": {
      "text/plain": [
       "array([ 7,  8,  3, 10,  9,  2,  2,  3,  4])"
      ]
     },
     "execution_count": 18,
     "metadata": {},
     "output_type": "execute_result"
    }
   ],
   "source": [
    "# do basic math: exclude first dataset (HB_0000[UU])\n",
    "dslist[1:].sum()"
   ]
  },
  {
   "cell_type": "code",
   "execution_count": 19,
   "metadata": {
    "collapsed": false
   },
   "outputs": [
    {
     "data": {
      "text/plain": [
       "array([ 0.7,  0.8,  0.3,  1. ,  0.9,  0.2,  0.2,  0.3,  0.4])"
      ]
     },
     "execution_count": 19,
     "metadata": {},
     "output_type": "execute_result"
    }
   ],
   "source": [
    "dslist[1:].mean()"
   ]
  },
  {
   "cell_type": "code",
   "execution_count": 20,
   "metadata": {
    "collapsed": false
   },
   "outputs": [
    {
     "data": {
      "text/plain": [
       "array([ 0.2,  0.3,  0.4])"
      ]
     },
     "execution_count": 20,
     "metadata": {},
     "output_type": "execute_result"
    }
   ],
   "source": [
    "# only care about THR residue?\n",
    "dslist.groupby(\"THR\").mean()"
   ]
  }
 ],
 "metadata": {
  "kernelspec": {
   "display_name": "Python 3",
   "language": "python",
   "name": "python3"
  },
  "language_info": {
   "codemirror_mode": {
    "name": "ipython",
    "version": 3
   },
   "file_extension": ".py",
   "mimetype": "text/x-python",
   "name": "python",
   "nbconvert_exporter": "python",
   "pygments_lexer": "ipython3",
   "version": "3.4.3"
  }
 },
 "nbformat": 4,
 "nbformat_minor": 0
}
