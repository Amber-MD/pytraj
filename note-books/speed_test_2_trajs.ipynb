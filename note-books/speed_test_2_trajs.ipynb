{
 "cells": [
  {
   "cell_type": "markdown",
   "metadata": {},
   "source": [
    "## Speed for three Trajectory classes in `pytraj`\n",
    "\n",
    "What are they?\n",
    "    * TrajReadOnly: a thin wrapper for cpptraj Trajin classes. Data will only be loaded if iterating it\n",
    "    * FrameArray: a wrapper of C++ vector of Frame object. Data will be fully loaded to memory. This class was originally designed to hold in-memory Frames for TrajReadOnly and for faster iterating\n",
    "    * api.Trajectory: new class using numpy\n",
    "        * why this class: it's very fast to iterate FrameArray but it's a bit slow to convert to numpy array. I created this class as an interface to numpy/scipy/mdtraj ....\n",
    "        * Note: FrameArray might be deprecated, depending on how I (we) really need. For technical diffculty in manage lifetime of C++ vector in Python, I can not subclass FrameArray in Python level. "
   ]
  },
  {
   "cell_type": "code",
   "execution_count": 1,
   "metadata": {
    "collapsed": false
   },
   "outputs": [
    {
     "name": "stdout",
     "output_type": "stream",
     "text": [
      "0.1.2.dev4\n"
     ]
    }
   ],
   "source": [
    "from pytraj.__version__ import __version__ as p_version\n",
    "import numpy as np\n",
    "import mdtraj as md\n",
    "print (p_version)"
   ]
  },
  {
   "cell_type": "markdown",
   "metadata": {},
   "source": [
    "## loading data"
   ]
  },
  {
   "cell_type": "code",
   "execution_count": 2,
   "metadata": {
    "collapsed": false
   },
   "outputs": [],
   "source": [
    "# data is stored in local disk, generated from TIP3P REMD, netcdf, 200 Mb, 17443 atoms, 1000 frames\n",
    "\n",
    "from pytraj import io\n",
    "import mdtraj as md\n",
    "\n",
    "top_name = \"../tests/data/nogit/remd/myparm.parm7\"\n",
    "filename = \"../tests/data/nogit/remd/remd.x.000\"\n",
    "file_and_top_names = (filename, top_name)"
   ]
  },
  {
   "cell_type": "code",
   "execution_count": 3,
   "metadata": {
    "collapsed": false
   },
   "outputs": [],
   "source": [
    "# load classes\n",
    "from pytraj import FrameArray\n",
    "from pytraj.api import Trajectory\n",
    "from pytraj import TrajReadOnly"
   ]
  },
  {
   "cell_type": "code",
   "execution_count": 4,
   "metadata": {
    "collapsed": false,
    "scrolled": true
   },
   "outputs": [
    {
     "name": "stdout",
     "output_type": "stream",
     "text": [
      "CPU times: user 2.43 s, sys: 839 ms, total: 3.26 s\n",
      "Wall time: 4.18 s\n",
      "CPU times: user 2.24 s, sys: 428 ms, total: 2.66 s\n",
      "Wall time: 2.68 s\n",
      "CPU times: user 207 ms, sys: 12 ms, total: 219 ms\n",
      "Wall time: 219 ms\n"
     ]
    }
   ],
   "source": [
    "%time fa = FrameArray(*file_and_top_names)\n",
    "%time traj = Trajectory(*file_and_top_names)\n",
    "%time trajread = TrajReadOnly(*file_and_top_names)"
   ]
  },
  {
   "cell_type": "code",
   "execution_count": 5,
   "metadata": {
    "collapsed": true
   },
   "outputs": [],
   "source": [
    "# reload since we used \"%timeit\".\n",
    "\n",
    "fa = FrameArray(*file_and_top_names)\n",
    "traj = Trajectory(*file_and_top_names)\n",
    "trajread = TrajReadOnly(*file_and_top_names)"
   ]
  },
  {
   "cell_type": "markdown",
   "metadata": {},
   "source": [
    "## iterate frames"
   ]
  },
  {
   "cell_type": "code",
   "execution_count": 6,
   "metadata": {
    "collapsed": false
   },
   "outputs": [
    {
     "name": "stdout",
     "output_type": "stream",
     "text": [
      "1000 loops, best of 3: 844 µs per loop\n",
      "1 loops, best of 3: 248 ms per loop\n",
      "1 loops, best of 3: 1.02 s per loop\n"
     ]
    }
   ],
   "source": [
    "%timeit for frame in fa: pass\n",
    "%timeit for frame in traj: pass\n",
    "%timeit for frame in trajread: pass\n",
    "\n",
    "# iterate FrameArray is extremely fast since it is a wrapper of C++ vector class"
   ]
  },
  {
   "cell_type": "code",
   "execution_count": 7,
   "metadata": {
    "collapsed": false
   },
   "outputs": [
    {
     "name": "stdout",
     "output_type": "stream",
     "text": [
      "iter FrameArray\n",
      "1000 loops, best of 3: 836 µs per loop\n",
      "iter FrameArray and create numpy memoryview for Frame coords: use `asarray`\n",
      "10 loops, best of 3: 31.4 ms per loop\n",
      "iter FrameArray and create numpy array without memoryview for Frame coords: use `array`\n",
      "1 loops, best of 3: 218 ms per loop\n",
      "\n",
      "iter Traj (numpy version)\n",
      "1 loops, best of 3: 247 ms per loop\n",
      "iter Traj (numpy) and create numpy memoryview for Frame coords\n",
      "1 loops, best of 3: 289 ms per loop\n",
      "\n",
      "iter TrajReadOnly\n",
      "1 loops, best of 3: 1.02 s per loop\n",
      "iter TrajReadOnly and create numpy memoryview for Frame coords\n",
      "1 loops, best of 3: 1.1 s per loop\n"
     ]
    }
   ],
   "source": [
    "print (\"iter FrameArray\")\n",
    "%timeit for frame in fa: pass\n",
    "print (\"iter FrameArray and create numpy memoryview for Frame coords: use `asarray`\")\n",
    "%timeit for frame in fa: xyz = np.asarray(frame[:])\n",
    "print (\"iter FrameArray and create numpy array without memoryview for Frame coords: use `array`\")\n",
    "%timeit for frame in fa: xyz = np.array(frame[:])\n",
    "\n",
    "print (\"\")\n",
    "print (\"iter Traj (numpy version)\")\n",
    "%timeit for frame in traj: pass\n",
    "print (\"iter Traj (numpy) and create numpy memoryview for Frame coords\")\n",
    "%timeit for frame in traj: xyz = np.asarray(frame[:])\n",
    "\n",
    "print (\"\")\n",
    "print (\"iter TrajReadOnly\")\n",
    "%timeit for frame in trajread: pass\n",
    "print (\"iter TrajReadOnly and create numpy memoryview for Frame coords\")\n",
    "%timeit for frame in trajread: xyz = np.asarray(frame[:])\n",
    "\n",
    "# iterate FrameArray is extremely fast since it is a wrapper of C++ vector class"
   ]
  },
  {
   "cell_type": "markdown",
   "metadata": {},
   "source": [
    "## frame_iter"
   ]
  },
  {
   "cell_type": "code",
   "execution_count": 8,
   "metadata": {
    "collapsed": false
   },
   "outputs": [
    {
     "name": "stdout",
     "output_type": "stream",
     "text": [
      "1000 loops, best of 3: 1.38 ms per loop\n",
      "100 loops, best of 3: 2.98 ms per loop\n",
      "100 loops, best of 3: 15.4 ms per loop\n"
     ]
    }
   ],
   "source": [
    "start, stop, stride = 10, 999, 100\n",
    "\n",
    "%timeit for frame in fa.frame_iter(start, stop, stride): pass\n",
    "%timeit for frame in traj.frame_iter(start, stop, stride): pass\n",
    "%timeit for frame in trajread.frame_iter(start, stop, stride): pass\n",
    "\n",
    "# we need to redesign frame_iter of Trajectory"
   ]
  },
  {
   "cell_type": "markdown",
   "metadata": {},
   "source": [
    "## convert to numpy array by calling `xyz` attribute"
   ]
  },
  {
   "cell_type": "code",
   "execution_count": 9,
   "metadata": {
    "collapsed": false,
    "scrolled": true
   },
   "outputs": [
    {
     "name": "stdout",
     "output_type": "stream",
     "text": [
      "1 loops, best of 3: 517 ms per loop\n",
      "The slowest run took 34.66 times longer than the fastest. This could mean that an intermediate result is being cached \n",
      "10000000 loops, best of 3: 115 ns per loop\n",
      "1 loops, best of 3: 2.79 s per loop\n"
     ]
    }
   ],
   "source": [
    "%timeit fa.xyz\n",
    "%timeit traj.xyz\n",
    "%timeit trajread.xyz\n",
    "\n",
    "# traj.xyz is numpy array, so it tooks only 115 ns to call (vs. 504 ms for FrameArray and 2.6 s for TrajReadOnly).\n",
    "# However iterating Trajectory (numpy) is much slower.\n",
    "# the best thing is to move numpy to Cython level so we can combine fast iterating in Cython + fast vectorizing in numpy"
   ]
  },
  {
   "cell_type": "markdown",
   "metadata": {},
   "source": [
    "## slicing"
   ]
  },
  {
   "cell_type": "code",
   "execution_count": 10,
   "metadata": {
    "collapsed": false
   },
   "outputs": [],
   "source": [
    "import mdtraj as md\n",
    "\n",
    "top_name = \"../tests/data/nogit/remd/myparm.parm7\"\n",
    "filename = \"../tests/data/nogit/remd/remd.x.000\"\n",
    "m_top = md.load_prmtop(top_name)\n",
    "m_traj = md.load_netcdf(filename, top=m_top)"
   ]
  },
  {
   "cell_type": "code",
   "execution_count": 16,
   "metadata": {
    "collapsed": false
   },
   "outputs": [
    {
     "name": "stdout",
     "output_type": "stream",
     "text": [
      "FrameArray\n",
      "1 loops, best of 3: 315 ms per loop\n",
      "api.Trajectory\n",
      "The slowest run took 4.41 times longer than the fastest. This could mean that an intermediate result is being cached \n",
      "100000 loops, best of 3: 17.9 µs per loop\n",
      "TrajReadOnly\n",
      "1 loops, best of 3: 486 ms per loop\n",
      "mdtraj\n",
      "10 loops, best of 3: 189 ms per loop\n",
      "<FrameArray with 200 frames, 17443 atoms/frame>\n",
      "           \n",
      "Trajectory with 200 frames, 17443 atoms\n",
      "<FrameArray with 200 frames, 17443 atoms/frame>\n",
      "           \n",
      "<mdtraj.Trajectory with 200 frames, 17443 atoms, 5666 residues, and unitcells>\n"
     ]
    }
   ],
   "source": [
    "## slicing\n",
    "\n",
    "s = slice(0, 1000, 5)\n",
    "print(\"FrameArray\")\n",
    "%timeit fa[s]\n",
    "\n",
    "print (\"api.Trajectory\")\n",
    "%timeit traj[s]\n",
    "\n",
    "print (\"TrajReadOnly\")\n",
    "%timeit trajread[s]\n",
    "\n",
    "print (\"mdtraj\")\n",
    "%timeit m_traj[s]\n",
    "\n",
    "# make sure we sliced the trajs correctly\n",
    "print (fa[s])\n",
    "print (traj[s])\n",
    "print (trajread[s])\n",
    "print (m_traj[s])"
   ]
  },
  {
   "cell_type": "markdown",
   "metadata": {},
   "source": [
    "## asignment"
   ]
  },
  {
   "cell_type": "code",
   "execution_count": 12,
   "metadata": {
    "collapsed": false
   },
   "outputs": [
    {
     "name": "stdout",
     "output_type": "stream",
     "text": [
      "FrameArray\n",
      "1 loops, best of 3: 284 ms per loop\n",
      "api.Trajectory: frame iteration\n",
      "1 loops, best of 3: 529 ms per loop\n",
      "api.Trajectory: numpy\n",
      "1 loops, best of 3: 236 ms per loop\n",
      "TrajReadOnly\n",
      "1 loops, best of 3: 1.3 s per loop\n",
      "mdtraj\n",
      "1 loops, best of 3: 213 ms per loop\n"
     ]
    }
   ],
   "source": [
    "xyz = traj.xyz.copy()\n",
    "\n",
    "print(\"FrameArray\")\n",
    "%timeit for i, frame in enumerate(fa): frame[:] = xyz[i]\n",
    "\n",
    "print (\"api.Trajectory: frame iteration\")\n",
    "%timeit for i, frame in enumerate(traj): frame[:] = xyz[i]\n",
    "    \n",
    "print (\"api.Trajectory: numpy\")\n",
    "%timeit traj.xyz[:] = xyz\n",
    "\n",
    "print (\"TrajReadOnly\") # note: just for testing, xyz assigment does not change this TrajReadOnly's coords\n",
    "%timeit for i, frame in enumerate(trajread): frame[:] = xyz[i]\n",
    "\n",
    "print (\"mdtraj\")\n",
    "%timeit m_traj.xyz[:] = xyz"
   ]
  },
  {
   "cell_type": "markdown",
   "metadata": {},
   "source": [
    "## calc_rmsd"
   ]
  },
  {
   "cell_type": "code",
   "execution_count": 13,
   "metadata": {
    "collapsed": false
   },
   "outputs": [
    {
     "name": "stdout",
     "output_type": "stream",
     "text": [
      "1 loops, best of 3: 1.09 s per loop\n",
      "1 loops, best of 3: 1.58 s per loop\n",
      "1 loops, best of 3: 2.1 s per loop\n",
      "1 loops, best of 3: 386 ms per loop\n"
     ]
    }
   ],
   "source": [
    "# save reference\n",
    "f0 = fa[0]\n",
    "%timeit for frame in fa: frame.rmsd(f0) \n",
    "%timeit for frame in traj: frame.rmsd(f0) \n",
    "%timeit for frame in trajread: frame.rmsd(f0)\n",
    "\n",
    "# we can use fast rmsd calculation in mdtraj for our Trajectory too. (make the rmsd calculation ~ 3 times faster)\n",
    "# for this calculation, mdtraj only cares about `xyz` attribute, and all of Trajectories in pytraj do have `xyz`\n",
    "%timeit md.rmsd(traj, traj, 0)"
   ]
  },
  {
   "cell_type": "markdown",
   "metadata": {},
   "source": [
    "## calc_radgyr"
   ]
  },
  {
   "cell_type": "code",
   "execution_count": 14,
   "metadata": {
    "collapsed": false
   },
   "outputs": [
    {
     "name": "stdout",
     "output_type": "stream",
     "text": [
      "1 loops, best of 3: 292 ms per loop\n",
      "1 loops, best of 3: 887 ms per loop\n",
      "1 loops, best of 3: 1.23 s per loop\n"
     ]
    }
   ],
   "source": [
    "%timeit fa.calc_radgyr()\n",
    "%timeit traj.calc_radgyr()\n",
    "%timeit trajread.calc_radgyr()\n",
    "\n",
    "# trajread is the slowest because it needs to load frames to memory"
   ]
  }
 ],
 "metadata": {
  "kernelspec": {
   "display_name": "Python 3",
   "language": "python",
   "name": "python3"
  },
  "language_info": {
   "codemirror_mode": {
    "name": "ipython",
    "version": 3
   },
   "file_extension": ".py",
   "mimetype": "text/x-python",
   "name": "python",
   "nbconvert_exporter": "python",
   "pygments_lexer": "ipython3",
   "version": "3.4.3"
  }
 },
 "nbformat": 4,
 "nbformat_minor": 0
}
