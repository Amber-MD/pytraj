{
 "cells": [
  {
   "cell_type": "markdown",
   "metadata": {},
   "source": [
    "### Efficiency of pytraj/cpptraj in doing multiple actions/analyses"
   ]
  },
  {
   "cell_type": "code",
   "execution_count": 1,
   "metadata": {
    "collapsed": false
   },
   "outputs": [
    {
     "name": "stdout",
     "output_type": "stream",
     "text": [
      "Help on method_descriptor:\n",
      "\n",
      "add_action(...)\n",
      "    ActionList.add_action(self, action='', command='', top=None, DataSetList dslist=<???>, DataFileList dflist=<???>, check_status=False)\n",
      "    \n",
      "    Add action to ActionList\n",
      "    \n",
      "    Parameters:\n",
      "    ==========\n",
      "    action : str or Action object\n",
      "    command : str or ArgList object\n",
      "    top : str | Topology | TopologyList\n",
      "    dslist : DataSetList \n",
      "    dflist : DataFileList\n",
      "    check_status : bool, default=False\n",
      "        return status of Action (0 or 1) if \"True\"\n",
      "\n"
     ]
    }
   ],
   "source": [
    "from __future__ import print_function # for python2 and 3 compat\n",
    "import pytraj.io as mdio # control all the IO of pytraj.\n",
    "from pytraj.ActionList import ActionList # ActionList class is not automcally loaded to pytraj's namespace (yet)\n",
    "from pytraj import adict # load action's dict. `adict['distance']. Try \"print (adict.keys())\n",
    "\n",
    "help(ActionList.add_action)"
   ]
  },
  {
   "cell_type": "code",
   "execution_count": 2,
   "metadata": {
    "collapsed": false
   },
   "outputs": [
    {
     "name": "stdout",
     "output_type": "stream",
     "text": [
      "<TrajReadOnly with 10 frames, 304 atoms/frame>\n",
      "           \n"
     ]
    }
   ],
   "source": [
    "# load traj\n",
    "traj = mdio.load(\"../tests/data/md1_prod.Tc5b.x\", \"../tests/data/Tc5b.top\")\n",
    "\n",
    "print (traj)\n",
    "\n",
    "# create DataSetList to hold data and DataFileList to write data to disk\n",
    "from pytraj import DataSetList, DataFileList\n",
    "dslist = DataSetList()\n",
    "dflist = DataFileList()\n",
    "\n",
    "# creat ActionList to hold actions\n",
    "alist = ActionList()\n",
    "\n",
    "# add two actions: Action_Dihedral and Action_Distance\n",
    "alist.add_action(adict['distance'], \":2@CA :10@CA out ./output/_dist.out\",\n",
    "                 traj.top, dslist, dflist)\n",
    "alist.add_action(adict['dihedral'], \":2@CA :3@CA :4@CA :5@CA out ./output/_dih.out\",\n",
    "                 traj.top, dslist, dflist)\n",
    "\n",
    "# using string for action 'dssp' (you can use either string or Action object)\n",
    "alist.add_action('dssp', \"out ./output/_dssp_alist.out\",\n",
    "                 traj.top, dslist=dslist, dflist=dflist)\n",
    "alist.add_action('matrix', \"@CA out ./output/_mat_alist.out\",\n",
    "                 traj.top, dslist, dflist)\n",
    "\n",
    "# try to save traj to CHARMM DCD too\n",
    "alist.add_action(\"outtraj\", \"./output/test_trajout.dcd\", traj.top)\n",
    "\n",
    "# let's creat a list of Frame, traj (pytraj can handle those too)\n",
    "# crazy_traj_list if a Python list of [Frame, Frame, TrajReadOnly, chunk_iter for traj, frame_iter for traj]\n",
    "crazy_traj_list = [traj[0], traj[1], traj,\n",
    "                  traj.chunk_iter(chunk=4, stop=8) , traj.frame_iter()]\n",
    "\n",
    "alist.do_actions(crazy_traj_list) # this workd too: alist.do_actions(traj)"
   ]
  },
  {
   "cell_type": "code",
   "execution_count": 3,
   "metadata": {
    "collapsed": false
   },
   "outputs": [
    {
     "name": "stdout",
     "output_type": "stream",
     "text": [
      "dslist.size 31\n",
      "\n",
      "dslist.get_lengends [u'Dis_00000', u'Dih_00001', u'DSSP_00002[None]', u'DSSP_00002[Para]', u'DSSP_00002[Anti]', u'DSSP_00002[3-10]', u'DSSP_00002[Alpha]', u'DSSP_00002[Pi]', u'DSSP_00002[Turn]', u'DSSP_00002[Bend]', u'Mat_00010', u'ASN:1', u'LEU:2', u'TYR:3', u'ILE:4', u'GLN:5', u'TRP:6', u'LEU:7', u'LYS:8', u'ASP:9', u'GLY:10', u'GLY:11', u'PRO:12', u'SER:13', u'SER:14', u'GLY:15', u'ARG:16', u'PRO:17', u'PRO:18', u'PRO:19', u'SER:20']\n"
     ]
    }
   ],
   "source": [
    "# let's look at the result\n",
    "print ('dslist.size', dslist.size)\n",
    "print(\"\")\n",
    "print ('dslist.get_lengends', dslist.get_legends())"
   ]
  },
  {
   "cell_type": "code",
   "execution_count": 4,
   "metadata": {
    "collapsed": false
   },
   "outputs": [
    {
     "name": "stdout",
     "output_type": "stream",
     "text": [
      "[ 158.66493195   57.60817098  158.66493195   57.60817098   99.18171694\n",
      "   74.54385107 -173.21259579 -171.74661774 -115.50913622 -154.70275411\n",
      " -107.73215035  103.53386267  158.66493195   57.60817098   99.18171694\n",
      "   74.54385107 -173.21259579 -171.74661774 -115.50913622 -154.70275411\n",
      " -107.73215035  158.66493195   57.60817098   99.18171694   74.54385107\n",
      " -173.21259579 -171.74661774 -115.50913622 -154.70275411 -107.73215035\n",
      "  103.53386267]\n"
     ]
    }
   ],
   "source": [
    "# want to get dihedral as specified previously?\n",
    "print (dslist.groupby(\"Dih\").to_ndarray())"
   ]
  },
  {
   "cell_type": "code",
   "execution_count": 5,
   "metadata": {
    "collapsed": false,
    "scrolled": true
   },
   "outputs": [
    {
     "name": "stdout",
     "output_type": "stream",
     "text": [
      "<pytraj.datasets.DataSet_MatrixDbl.DataSet_MatrixDbl object at 0x2aaacb445fc0> matrix_dbl\n"
     ]
    },
    {
     "data": {
      "text/plain": [
       "(<matplotlib.figure.Figure at 0x2aaac89515d0>,\n",
       " <matplotlib.axes._subplots.AxesSubplot at 0x2aaacb491290>,\n",
       " <matplotlib.image.AxesImage at 0x2aaacb79cad0>)"
      ]
     },
     "execution_count": 5,
     "metadata": {},
     "output_type": "execute_result"
    },
    {
     "data": {
      "image/png": "[encoded data removed]",
      "text/plain": [
       "<matplotlib.figure.Figure at 0x2aaac89515d0>"
      ]
     },
     "metadata": {},
     "output_type": "display_data"
    }
   ],
   "source": [
    "# want to get the matrix result and plot?\n",
    "# to show plot in ipython-notebook use \"%matplotlib inline\"\n",
    "%matplotlib inline \n",
    "\n",
    "mat = dslist.groupby(\"Mat_\")[0] #\n",
    "print (mat, mat.dtype)\n",
    "\n",
    "from pytraj.plots import plot_matrix # require matplotlib\n",
    "plot_matrix(mat)"
   ]
  },
  {
   "cell_type": "code",
   "execution_count": 6,
   "metadata": {
    "collapsed": false
   },
   "outputs": [
    {
     "name": "stdout",
     "output_type": "stream",
     "text": [
      "./output/test_trajout.dcd\r\n"
     ]
    }
   ],
   "source": [
    "# Did we save CHARMM DCD file yet? YES\n",
    "!ls ./output/test_trajout.dcd"
   ]
  },
  {
   "cell_type": "markdown",
   "metadata": {},
   "source": [
    "### Comparing speed"
   ]
  },
  {
   "cell_type": "code",
   "execution_count": 7,
   "metadata": {
    "collapsed": true
   },
   "outputs": [],
   "source": [
    "import pytraj.common_actions as pyca\n",
    "\n",
    "def use_actionlist(crazy_traj_list):\n",
    "    from pytraj import DataSetList, DataFileList\n",
    "    dslist = DataSetList()\n",
    "    dflist = DataFileList()\n",
    "\n",
    "    # creat ActionList to hold actions\n",
    "    alist = ActionList()\n",
    "\n",
    "    # add two actions: Action_Dihedral and Action_Distance\n",
    "    alist.add_action(adict['distance'], \":2@CA :10@CA out ./output/_dist.out\",\n",
    "                     traj.top, dslist, dflist)\n",
    "    alist.add_action(adict['dihedral'], \":2@CA :3@CA :4@CA :5@CA out ./output/_dih.out\",\n",
    "                     traj.top, dslist, dflist)\n",
    "    # using string for action 'dssp' (you can use either string or Action object)\n",
    "    alist.add_action('dssp', \"out ./output/_dssp_alist.out\",\n",
    "                     traj.top, dslist=dslist, dflist=dflist)\n",
    "    alist.add_action('matrix', \"@CA out ./output/_mat_alist.out\",\n",
    "                     traj.top, dslist, dflist)\n",
    "    alist.do_actions(crazy_traj_list) # this workd too: alist.do_actions(traj) \n",
    "    \n",
    "def use_tradional_calc(crazy_traj_list):\n",
    "    pyca.calc_distance(crazy_traj_list, \":2@CA :10@CA out ./output/_dist.out\", top=traj.top)\n",
    "    pyca.calc_dihedral(crazy_traj_list, \":2@CA :3@CA :4@CA :5@CA out ./output/_dih.out\", top=traj.top)\n",
    "    pyca.calc_dssp(crazy_traj_list, \"out ./output/_dssp_alist.out\", dtype='dataset', top=traj.top)\n",
    "    pyca.calc_matrix(crazy_traj_list, \"@CA out ./output/_mat_alist.out\", top=traj.top)"
   ]
  },
  {
   "cell_type": "code",
   "execution_count": 8,
   "metadata": {
    "collapsed": false
   },
   "outputs": [
    {
     "name": "stdout",
     "output_type": "stream",
     "text": [
      "100 loops, best of 3: 5.73 ms per loop\n",
      "100 loops, best of 3: 32.5 ms per loop\n"
     ]
    }
   ],
   "source": [
    "crazy_traj_list = [traj[0], traj[1], traj,\n",
    "                  traj.chunk_iter(chunk=4, stop=8) , traj.frame_iter()]\n",
    "\n",
    "%timeit use_actionlist(crazy_traj_list)\n",
    "%timeit use_tradional_calc(crazy_traj_list)"
   ]
  },
  {
   "cell_type": "code",
   "execution_count": 9,
   "metadata": {
    "collapsed": true
   },
   "outputs": [],
   "source": [
    "# `use_actionlist` is much more efficient than `use_tradional_calc` (about 6 times) when we need to use \n",
    "# multiple actions for frame/traj.\n",
    "# This is because we only need to iterate `crazy_traj_list` once in `use_actionlist` \n",
    "# while we need to iterate `crazy_traj_list` four times in `use_tradional_calc`"
   ]
  }
 ],
 "metadata": {
  "kernelspec": {
   "display_name": "Python 2",
   "language": "python",
   "name": "python2"
  },
  "language_info": {
   "codemirror_mode": {
    "name": "ipython",
    "version": 2
   },
   "file_extension": ".py",
   "mimetype": "text/x-python",
   "name": "python",
   "nbconvert_exporter": "python",
   "pygments_lexer": "ipython2",
   "version": "2.7.9"
  }
 },
 "nbformat": 4,
 "nbformat_minor": 0
}
