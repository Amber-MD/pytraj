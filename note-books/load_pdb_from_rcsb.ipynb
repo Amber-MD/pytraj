{
 "cells": [
  {
   "cell_type": "code",
   "execution_count": 2,
   "metadata": {
    "collapsed": false
   },
   "outputs": [
    {
     "name": "stdout",
     "output_type": "stream",
     "text": [
      "<Trajectory with 20 frames, 451 atoms/frame>\n",
      "           \n",
      "coords of firs 10 atoms of 1st frame from pytraj\n",
      "[[ -8.886  -5.163   9.647]\n",
      " [-10.305  -4.745  10.229]\n",
      " [-10.282  -3.296  10.528]\n",
      " [-10.676  -5.703  11.297]\n",
      " [-11.278  -4.981   8.995]\n",
      " [-11.721  -6.288   8.65 ]\n",
      " [-12.147  -6.326   7.203]\n",
      " [-12.908  -5.127   6.888]\n",
      " [-11.018  -6.335   6.182]\n",
      " [-10.515  -7.653   5.962]]\n",
      "\n",
      "calc_rmsd\n",
      "[ 0.          0.65319733  0.56878506  0.60325413  0.57471096  0.41797722\n",
      "  0.72308355  0.57538533  0.51830632  0.62975758  0.72632158  0.58013167\n",
      "  0.60087316  0.64927376  0.54006764  0.4875256   0.69478749  0.55856578\n",
      "  0.56655911  0.76107113]\n"
     ]
    }
   ],
   "source": [
    "# it's simple as long as you have internet and you're allowed to download\n",
    "\n",
    "import pytraj.io as io\n",
    "\n",
    "traj = io.loadpdb_rcsb(\"2KOC\")\n",
    "print (traj)\n",
    "\n",
    "print (\"coords of firs 10 atoms of 1st frame from pytraj\")\n",
    "print (traj[0, :10])\n",
    "\n",
    "print ()\n",
    "print (\"calc_rmsd\")\n",
    "# print (traj.calc_rmsd(ref=0)) # all atoms, ref=first_frame\n",
    "# use numpy to have prettier print\n",
    "import numpy as np\n",
    "import pytraj.common_actions as pyca\n",
    "arr0 = np.asarray(pyca.rmsd(traj, ref=traj[0]))\n",
    "print (arr0)"
   ]
  },
  {
   "cell_type": "markdown",
   "metadata": {},
   "source": [
    "# coords of firs 10 atoms of 1st frame from rbsb\n",
    "# http://www.rcsb.org/pdb/files/2KOC.pdb\n",
    "```\n",
    "ATOM      1  OP3   G A   1      -8.886  -5.163   9.647  1.00 10.00           O  \n",
    "ATOM      2  P     G A   1     -10.305  -4.745  10.229  1.00 10.00           P  \n",
    "ATOM      3  OP1   G A   1     -10.282  -3.296  10.528  1.00 10.00           O  \n",
    "ATOM      4  OP2   G A   1     -10.676  -5.703  11.297  1.00 10.00           O  \n",
    "ATOM      5  O5'   G A   1     -11.278  -4.981   8.995  1.00 10.00           O  \n",
    "ATOM      6  C5'   G A   1     -11.721  -6.288   8.650  1.00 10.00           C  \n",
    "ATOM      7  C4'   G A   1     -12.147  -6.326   7.203  1.00 10.00           C  \n",
    "ATOM      8  O4'   G A   1     -12.908  -5.127   6.888  1.00 10.00           O  \n",
    "ATOM      9  C3'   G A   1     -11.018  -6.335   6.182  1.00 10.00           C  \n",
    "ATOM     10  O3'   G A   1     -10.515  -7.653   5.962  1.00 10.00           O\n",
    "```"
   ]
  },
  {
   "cell_type": "markdown",
   "metadata": {
    "collapsed": true
   },
   "source": [
    "<img src='http://www.rcsb.org/pdb/images/2koc_asym_r_500.jpg'>"
   ]
  }
 ],
 "metadata": {
  "kernelspec": {
   "display_name": "Python 3",
   "language": "python",
   "name": "python3"
  },
  "language_info": {
   "codemirror_mode": {
    "name": "ipython",
    "version": 3
   },
   "file_extension": ".py",
   "mimetype": "text/x-python",
   "name": "python",
   "nbconvert_exporter": "python",
   "pygments_lexer": "ipython3",
   "version": "3.4.3"
  }
 },
 "nbformat": 4,
 "nbformat_minor": 0
}
