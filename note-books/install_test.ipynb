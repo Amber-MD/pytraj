{
 "cells": [
  {
   "cell_type": "code",
   "execution_count": 1,
   "metadata": {
    "collapsed": false
   },
   "outputs": [
    {
     "name": "stdout",
     "output_type": "stream",
     "text": [
      "all cpptraj actions\n",
      "angle\n",
      "areapermol\n",
      "atomiccorr\n",
      "atomicfluct\n",
      "atommap\n",
      "autoimage\n",
      "average\n",
      "bounds\n",
      "box\n",
      "center\n",
      "channel\n",
      "checkchirality\n",
      "checkstructure\n",
      "closest\n",
      "clusterdihedral\n",
      "contacts\n",
      "createcrd\n",
      "density\n",
      "diffusion\n",
      "dihedral\n",
      "dihedralscan\n",
      "dipole\n",
      "distance\n",
      "distrmsd\n",
      "dnaiontracker\n",
      "dssp\n",
      "energy\n",
      "filterbydata\n",
      "fixatomorder\n",
      "gist\n",
      "grid\n",
      "gridfreeenergy\n",
      "hbond\n",
      "image\n",
      "jcoupling\n",
      "lessplit\n",
      "lie\n",
      "makestructure\n",
      "mask\n",
      "matrix\n",
      "minimage\n",
      "molsurf\n",
      "multidihedral\n",
      "multivector\n",
      "nastruct\n",
      "nativecontacts\n",
      "nmrrst\n",
      "orderparameter\n",
      "outtraj\n",
      "pairdist\n",
      "pairwise\n",
      "principal\n",
      "projection\n",
      "pucker\n",
      "radgyr\n",
      "radial\n",
      "randomizeions\n",
      "replicatecell\n",
      "rmsd\n",
      "rotate\n",
      "runningavg\n",
      "scale\n",
      "secstruct\n",
      "setvelocity\n",
      "spam\n",
      "stfc_diffusion\n",
      "strip\n",
      "surf\n",
      "surf_LCPO\n",
      "surf_lcpo\n",
      "symmetricrmsd\n",
      "temperature\n",
      "translate\n",
      "unwrap\n",
      "vector\n",
      "velocityautocorr\n",
      "volmap\n",
      "volume\n",
      "watershell\n",
      "OK\n"
     ]
    }
   ],
   "source": [
    "from pytraj import run_tests\n",
    "run_tests()"
   ]
  },
  {
   "cell_type": "code",
   "execution_count": 2,
   "metadata": {
    "collapsed": false
   },
   "outputs": [
    {
     "name": "stdout",
     "output_type": "stream",
     "text": [
      "<Trajectory with 1 frames, 34 atoms/frame>\n",
      "           \n",
      "<Topology with 1 mols, 3 residues, 34 atoms, 33 bonds, non-PBC>\n",
      "[[  3.32577000e+00   1.54790900e+00  -1.60000000e-06]\n",
      " [  4.04615400e+00   8.39991000e-01  -2.90000000e-06]\n",
      " [  2.82309400e+00   1.49950800e+00  -8.74687000e-01]\n",
      " [  2.82309700e+00   1.49950700e+00   8.74685000e-01]\n",
      " [  3.97004800e+00   2.84579500e+00  -1.00000000e-07]\n",
      " [  3.67166300e+00   3.40012900e+00  -8.89820000e-01]\n",
      " [  3.57696500e+00   3.65383800e+00   1.23214300e+00]\n",
      " [  3.87748400e+00   3.11579500e+00   2.13119700e+00]\n",
      " [  4.07505900e+00   4.62301700e+00   1.20578600e+00]\n",
      " [  2.49699500e+00   3.80107500e+00   1.24137900e+00]]\n"
     ]
    }
   ],
   "source": [
    "from pytraj import load_sample_data\n",
    "traj = load_sample_data()[:]\n",
    "print (traj)\n",
    "print (traj.top)\n",
    "\n",
    "# coords of first 10 atoms\n",
    "print (traj[0, :10])"
   ]
  }
 ],
 "metadata": {
  "kernelspec": {
   "display_name": "Python 3",
   "language": "python",
   "name": "python3"
  },
  "language_info": {
   "codemirror_mode": {
    "name": "ipython",
    "version": 3
   },
   "file_extension": ".py",
   "mimetype": "text/x-python",
   "name": "python",
   "nbconvert_exporter": "python",
   "pygments_lexer": "ipython3",
   "version": "3.4.3"
  }
 },
 "nbformat": 4,
 "nbformat_minor": 0
}
