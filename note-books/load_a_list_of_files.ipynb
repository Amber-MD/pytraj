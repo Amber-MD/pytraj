{
 "cells": [
  {
   "cell_type": "markdown",
   "metadata": {},
   "source": [
    "# very simple example"
   ]
  },
  {
   "cell_type": "code",
   "execution_count": 1,
   "metadata": {
    "collapsed": true
   },
   "outputs": [],
   "source": [
    "# note: the method's name might be changed in the future (that's why it starts with _)\n",
    "\n",
    "import pytraj.io as io"
   ]
  },
  {
   "cell_type": "code",
   "execution_count": 2,
   "metadata": {
    "collapsed": false
   },
   "outputs": [
    {
     "name": "stdout",
     "output_type": "stream",
     "text": [
      "[<pytraj.TrajectoryIterator with 10 frames: <Topology with 1 mols, 3 residues, 22 atoms, 21 bonds, non-PBC>>\n",
      "           , <pytraj.TrajectoryIterator with 10 frames: <Topology with 1 mols, 3 residues, 22 atoms, 21 bonds, non-PBC>>\n",
      "           , <pytraj.TrajectoryIterator with 10 frames: <Topology with 1 mols, 3 residues, 22 atoms, 21 bonds, non-PBC>>\n",
      "           , <pytraj.TrajectoryIterator with 10 frames: <Topology with 1 mols, 3 residues, 22 atoms, 21 bonds, non-PBC>>\n",
      "           ]\n",
      "\n",
      "['../tests/data/Test_RemdTraj/rem.nc.000', '../tests/data/Test_RemdTraj/rem.nc.001', '../tests/data/Test_RemdTraj/rem.nc.002', '../tests/data/Test_RemdTraj/rem.nc.003']\n"
     ]
    }
   ],
   "source": [
    "tlist = io._iterload_from_filelist(\"../tests/data/Test_RemdTraj/rem.nc.*\", \"../tests/data/Test_RemdTraj/ala2.99sb.mbondi2.parm7\")\n",
    "\n",
    "print (tlist)\n",
    "\n",
    "print (\"\")\n",
    "\n",
    "filelist = [traj.filename for traj in tlist]\n",
    "print (filelist)"
   ]
  },
  {
   "cell_type": "code",
   "execution_count": 3,
   "metadata": {
    "collapsed": false
   },
   "outputs": [
    {
     "name": "stdout",
     "output_type": "stream",
     "text": [
      "[<pytraj.TrajectoryIterator with 10 frames: <Topology with 1 mols, 3 residues, 22 atoms, 21 bonds, non-PBC>>\n",
      "           , <pytraj.TrajectoryIterator with 10 frames: <Topology with 1 mols, 3 residues, 22 atoms, 21 bonds, non-PBC>>\n",
      "           , <pytraj.TrajectoryIterator with 10 frames: <Topology with 1 mols, 3 residues, 22 atoms, 21 bonds, non-PBC>>\n",
      "           , <pytraj.TrajectoryIterator with 10 frames: <Topology with 1 mols, 3 residues, 22 atoms, 21 bonds, non-PBC>>\n",
      "           ]\n"
     ]
    }
   ],
   "source": [
    "# we can load from a list of files too\n",
    "tlist2 = io._iterload_from_filelist(filelist, \"../tests/data/Test_RemdTraj/ala2.99sb.mbondi2.parm7\")\n",
    "print (tlist2)"
   ]
  },
  {
   "cell_type": "code",
   "execution_count": 4,
   "metadata": {
    "collapsed": false
   },
   "outputs": [
    {
     "name": "stdout",
     "output_type": "stream",
     "text": [
      "[<pytraj.TrajectoryIterator with 10 frames: <Topology with 1 mols, 3 residues, 22 atoms, 21 bonds, non-PBC>>\n",
      "           , <pytraj.TrajectoryIterator with 10 frames: <Topology with 1 mols, 3 residues, 22 atoms, 21 bonds, non-PBC>>\n",
      "           , <pytraj.TrajectoryIterator with 10 frames: <Topology with 1 mols, 3 residues, 22 atoms, 21 bonds, non-PBC>>\n",
      "           , <pytraj.TrajectoryIterator with 10 frames: <Topology with 1 mols, 3 residues, 22 atoms, 21 bonds, non-PBC>>\n",
      "           ]\n",
      "<pytraj.datasets.DataSet_Vector.DataSet_Vector object at 0x2ad575f4b900>\n",
      "number of vectors (expteced = 40) =  40\n",
      "<Vec3: 4.312386989593506 4.813084602355957 -0.13005274534225464>\n"
     ]
    }
   ],
   "source": [
    "# pytraj is smart enought to perform 'action' on a list of files too\n",
    "import pytraj.common_actions as pyca\n",
    "\n",
    "# calculate vector center of mass? (like vector between all CA atoms and all CB atoms)\n",
    "dset = pyca.calc_COM(tlist2, \"@CA @CB\", dtype='dataset')\n",
    "print (dset)\n",
    "print (\"number of vectors (expteced = 40) = \", dset.size)\n",
    "print (dset[0])"
   ]
  },
  {
   "cell_type": "code",
   "execution_count": 5,
   "metadata": {
    "collapsed": false,
    "scrolled": true
   },
   "outputs": [
    {
     "data": {
      "text/plain": [
       "array([[ 4.31238699,  4.8130846 , -0.13005275],\n",
       "       [ 4.70764303,  5.50276709, -0.14578578],\n",
       "       [ 4.77340126,  5.08861113, -0.82117581],\n",
       "       [ 4.24787378,  4.67501116, -0.68110001],\n",
       "       [ 4.74331141,  4.12898731, -1.65600121],\n",
       "       [ 4.6513381 ,  4.12851858, -1.41458416],\n",
       "       [ 5.34591913,  5.18222713, -1.85356557],\n",
       "       [ 4.95888329,  4.6319623 , -1.85287309],\n",
       "       [ 5.237041  ,  3.9452877 , -1.49205673],\n",
       "       [ 4.86035633,  3.81905341, -0.93039691]])"
      ]
     },
     "execution_count": 5,
     "metadata": {},
     "output_type": "execute_result"
    }
   ],
   "source": [
    "# you love numpy. no problem \n",
    "dset.to_ndarray()[:10] # only print first 10 arrays"
   ]
  },
  {
   "cell_type": "markdown",
   "metadata": {},
   "source": [
    "# more complicated example"
   ]
  },
  {
   "cell_type": "code",
   "execution_count": 6,
   "metadata": {
    "collapsed": false,
    "scrolled": true
   },
   "outputs": [
    {
     "name": "stdout",
     "output_type": "stream",
     "text": [
      "     40      40    1440\n",
      "200M\t../tests/data/nogit/remd/remd.x.000\n",
      "200M\t../tests/data/nogit/remd/remd.x.001\n",
      "200M\t../tests/data/nogit/remd/remd.x.002\n",
      "200M\t../tests/data/nogit/remd/remd.x.003\n",
      "200M\t../tests/data/nogit/remd/remd.x.004\n"
     ]
    }
   ],
   "source": [
    "import pytraj.io as io\n",
    "\n",
    "!ls ../tests/data/nogit/remd/remd.x.* |wc\n",
    "!du -sh ../tests/data/nogit/remd/remd.x.* |head -5"
   ]
  },
  {
   "cell_type": "code",
   "execution_count": 7,
   "metadata": {
    "collapsed": false
   },
   "outputs": [
    {
     "name": "stdout",
     "output_type": "stream",
     "text": [
      "../tests/data/nogit/remd/remd.x.000\r\n",
      "../tests/data/nogit/remd/remd.x.001\r\n",
      "../tests/data/nogit/remd/remd.x.002\r\n",
      "../tests/data/nogit/remd/remd.x.003\r\n",
      "../tests/data/nogit/remd/remd.x.004\r\n",
      "../tests/data/nogit/remd/remd.x.005\r\n",
      "../tests/data/nogit/remd/remd.x.006\r\n",
      "../tests/data/nogit/remd/remd.x.007\r\n",
      "../tests/data/nogit/remd/remd.x.008\r\n",
      "../tests/data/nogit/remd/remd.x.009\r\n"
     ]
    }
   ],
   "source": [
    "!ls ../tests/data/nogit/remd/remd.x* | head "
   ]
  },
  {
   "cell_type": "code",
   "execution_count": 8,
   "metadata": {
    "collapsed": false
   },
   "outputs": [
    {
     "name": "stdout",
     "output_type": "stream",
     "text": [
      "[<pytraj.TrajectoryIterator with 1000 frames: <Topology with 5634 mols, 5666 residues, 17443 atoms, 17452 bonds, PBC with box type = truncoct>>\n",
      "           , <pytraj.TrajectoryIterator with 1000 frames: <Topology with 5634 mols, 5666 residues, 17443 atoms, 17452 bonds, PBC with box type = truncoct>>\n",
      "           , <pytraj.TrajectoryIterator with 1000 frames: <Topology with 5634 mols, 5666 residues, 17443 atoms, 17452 bonds, PBC with box type = truncoct>>\n",
      "           , <pytraj.TrajectoryIterator with 1000 frames: <Topology with 5634 mols, 5666 residues, 17443 atoms, 17452 bonds, PBC with box type = truncoct>>\n",
      "           , <pytraj.TrajectoryIterator with 1000 frames: <Topology with 5634 mols, 5666 residues, 17443 atoms, 17452 bonds, PBC with box type = truncoct>>\n",
      "           , <pytraj.TrajectoryIterator with 1000 frames: <Topology with 5634 mols, 5666 residues, 17443 atoms, 17452 bonds, PBC with box type = truncoct>>\n",
      "           , <pytraj.TrajectoryIterator with 1000 frames: <Topology with 5634 mols, 5666 residues, 17443 atoms, 17452 bonds, PBC with box type = truncoct>>\n",
      "           , <pytraj.TrajectoryIterator with 1000 frames: <Topology with 5634 mols, 5666 residues, 17443 atoms, 17452 bonds, PBC with box type = truncoct>>\n",
      "           , <pytraj.TrajectoryIterator with 1000 frames: <Topology with 5634 mols, 5666 residues, 17443 atoms, 17452 bonds, PBC with box type = truncoct>>\n",
      "           , <pytraj.TrajectoryIterator with 1000 frames: <Topology with 5634 mols, 5666 residues, 17443 atoms, 17452 bonds, PBC with box type = truncoct>>\n",
      "           ]\n"
     ]
    }
   ],
   "source": [
    "# try to load a list of 40 replica trajectories, 200 Mb/each (8 Gb total). Since we have very large trajs, we need to use \n",
    "# iterload\n",
    "\n",
    "trajlist = io._iterload_from_filelist(\"../tests/data/nogit/remd/remd.x.*\", \"../tests/data/nogit/remd/myparm.parm7\")\n",
    "print (trajlist[:10]) # print only first 10 replicas"
   ]
  },
  {
   "cell_type": "code",
   "execution_count": 9,
   "metadata": {
    "collapsed": false
   },
   "outputs": [
    {
     "name": "stdout",
     "output_type": "stream",
     "text": [
      "[<generator object frame_iter at 0x2aaac8ad0b40>, <generator object frame_iter at 0x2aaac8ad0f30>, <generator object frame_iter at 0x2aaac8ad07e0>, <generator object frame_iter at 0x2aaac8ad0ee8>, <generator object frame_iter at 0x2aaac8ad0ea0>, <generator object frame_iter at 0x2aaac8ad0e58>, <generator object frame_iter at 0x2aaac8ad0e10>, <generator object frame_iter at 0x2aaac8ad0900>, <generator object frame_iter at 0x2aaac8ad0870>, <generator object frame_iter at 0x2aaac8ad0708>]\n"
     ]
    }
   ],
   "source": [
    "# but we are usually not interested in all frames, let's create a new list by skipping every 100 frames\n",
    "tlist2 = [traj(0, 999, 100) for traj in trajlist]\n",
    "\n",
    "print (tlist2[:10])"
   ]
  },
  {
   "cell_type": "code",
   "execution_count": 10,
   "metadata": {
    "collapsed": false
   },
   "outputs": [
    {
     "name": "stdout",
     "output_type": "stream",
     "text": [
      "<Frame with 17443 atoms>\n"
     ]
    }
   ],
   "source": [
    "# we can use `_frame_iter_master to asscess Frame from `tlist2`\n",
    "\n",
    "from pytraj import Frame\n",
    "from pytraj._shared_methods import _frame_iter_master\n",
    "\n",
    "for frame in _frame_iter_master(tlist2):\n",
    "    assert isinstance(frame, Frame) # make sure we get Frame object\n",
    "print (frame)"
   ]
  },
  {
   "cell_type": "code",
   "execution_count": 11,
   "metadata": {
    "collapsed": false
   },
   "outputs": [
    {
     "name": "stdout",
     "output_type": "stream",
     "text": [
      "<Topology with 5634 mols, 5666 residues, 17443 atoms, 17452 bonds, PBC with box type = truncoct>\n",
      "<generator object at 0x2aaac8a75f48>\n",
      "400\n",
      "[[-16.17566739   5.14547523   6.08436034]\n",
      " [ 15.65815553  26.40960922  15.48960314]\n",
      " [ 11.01263669  18.25198135  -2.60711711]\n",
      " ..., \n",
      " [ 28.34306431   8.78684195  14.80370186]\n",
      " [-14.69444676  26.15370248   2.35538592]\n",
      " [ 13.62363661 -26.57976847  -0.47856472]]\n"
     ]
    }
   ],
   "source": [
    "# we can perform Action for `tlist2` too. For example. calculate distance\n",
    "\n",
    "import pytraj.common_actions as pyca\n",
    "top = trajlist[0].top\n",
    "print (top) # \n",
    "\n",
    "# since we already iterated a list of frame iterators before, we need to \"rewind\" it.\n",
    "tlist2 = [traj(0, 999, 100) for traj in trajlist]\n",
    "\n",
    "d = pyca.calc_COM(_frame_iter_master(tlist2), \"@CB @CA\", top=top) \n",
    "# need to provide `top` since tlist2 is just a list of frame_iter, it does not have topology info\n",
    "print (d.size)\n",
    "print (d.to_ndarray())"
   ]
  }
 ],
 "metadata": {
  "kernelspec": {
   "display_name": "Python 3",
   "language": "python",
   "name": "python3"
  },
  "language_info": {
   "codemirror_mode": {
    "name": "ipython",
    "version": 3
   },
   "file_extension": ".py",
   "mimetype": "text/x-python",
   "name": "python",
   "nbconvert_exporter": "python",
   "pygments_lexer": "ipython3",
   "version": "3.4.3"
  }
 },
 "nbformat": 4,
 "nbformat_minor": 0
}
