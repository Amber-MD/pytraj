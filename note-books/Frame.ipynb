{
 "cells": [
  {
   "cell_type": "markdown",
   "metadata": {},
   "source": [
    "# Frame object"
   ]
  },
  {
   "cell_type": "markdown",
   "metadata": {},
   "source": [
    "Just like cpptraj, Frame object is work-horse of pytraj. "
   ]
  },
  {
   "cell_type": "code",
   "execution_count": 1,
   "metadata": {
    "collapsed": false
   },
   "outputs": [],
   "source": [
    "from __future__ import print_function\n",
    "from pytraj import io as mdio\n",
    "from pytraj import Frame"
   ]
  },
  {
   "cell_type": "code",
   "execution_count": 2,
   "metadata": {
    "collapsed": false
   },
   "outputs": [],
   "source": [
    "# loading traj file to FrameArray object\n",
    "traj = mdio.load(\"../tests/data/md1_prod.Tc5b.x\", \"../tests/data/Tc5b.top\")"
   ]
  },
  {
   "cell_type": "code",
   "execution_count": 3,
   "metadata": {
    "collapsed": false
   },
   "outputs": [
    {
     "name": "stdout",
     "output_type": "stream",
     "text": [
      "(304, 3)\n"
     ]
    }
   ],
   "source": [
    "# get frame object\n",
    "frame0 = traj[0]\n",
    "\n",
    "# frame0 behaves like 2D array with shape of (n_atoms, 3)\n",
    "print (frame0.shape)"
   ]
  },
  {
   "cell_type": "code",
   "execution_count": 4,
   "metadata": {
    "collapsed": false
   },
   "outputs": [
    {
     "data": {
      "text/plain": [
       "array([-16.492,  12.434, -11.018])"
      ]
     },
     "execution_count": 4,
     "metadata": {},
     "output_type": "execute_result"
    }
   ],
   "source": [
    "# fancy indexing\n",
    "# whole coords\n",
    "frame0[:][0]"
   ]
  },
  {
   "cell_type": "code",
   "execution_count": 5,
   "metadata": {
    "collapsed": false
   },
   "outputs": [
    {
     "data": {
      "text/plain": [
       "array([-16.492,  12.434, -11.018])"
      ]
     },
     "execution_count": 5,
     "metadata": {},
     "output_type": "execute_result"
    }
   ],
   "source": [
    "# or\n",
    "frame0[0, :]"
   ]
  },
  {
   "cell_type": "code",
   "execution_count": 6,
   "metadata": {
    "collapsed": false
   },
   "outputs": [
    {
     "ename": "SyntaxError",
     "evalue": "Missing parentheses in call to 'print' (<ipython-input-6-78b4d70f128a>, line 7)",
     "output_type": "error",
     "traceback": [
      "\u001b[1;36m  File \u001b[1;32m\"<ipython-input-6-78b4d70f128a>\"\u001b[1;36m, line \u001b[1;32m7\u001b[0m\n\u001b[1;33m    print frame0[0, 0]\u001b[0m\n\u001b[1;37m               ^\u001b[0m\n\u001b[1;31mSyntaxError\u001b[0m\u001b[1;31m:\u001b[0m Missing parentheses in call to 'print'\n"
     ]
    }
   ],
   "source": [
    "# use numpy array as memory view for Frame object\n",
    "import numpy as np\n",
    "\n",
    "arr0 = np.asarray(frame0[:])\n",
    "\n",
    "# update arr0 will update frame coords\n",
    "print frame0[0, 0]\n",
    "arr0[0, 0] = 1000.\n",
    "print (frame0[0, 0])"
   ]
  },
  {
   "cell_type": "code",
   "execution_count": null,
   "metadata": {
    "collapsed": false
   },
   "outputs": [],
   "source": [
    "# extracting Frame coords with given mask. \n",
    "# 1st way\n",
    "\n",
    "print (frame0[traj.top(\"@CA\")])"
   ]
  },
  {
   "cell_type": "code",
   "execution_count": null,
   "metadata": {
    "collapsed": false
   },
   "outputs": [],
   "source": [
    "# 2nd way\n",
    "# need to set Topology for frame to use AtomMask\n",
    "frame0.set_top(traj.top)\n",
    "frame0[\"@CA\"]"
   ]
  },
  {
   "cell_type": "code",
   "execution_count": null,
   "metadata": {
    "collapsed": false
   },
   "outputs": [],
   "source": [
    "# coords of 11-th residue (index starts from 0)\n",
    "frame0[\":10\"]"
   ]
  },
  {
   "cell_type": "code",
   "execution_count": null,
   "metadata": {
    "collapsed": false
   },
   "outputs": [],
   "source": [
    "# indices of atoms in 10-th residue\n",
    "traj.top(\":10\").selected_indices()"
   ]
  },
  {
   "cell_type": "code",
   "execution_count": null,
   "metadata": {
    "collapsed": false
   },
   "outputs": [],
   "source": [
    "# TODO : double-check\n",
    "print (traj.top[169].resnum)\n",
    "print (frame0[169, :])"
   ]
  },
  {
   "cell_type": "code",
   "execution_count": null,
   "metadata": {
    "collapsed": false
   },
   "outputs": [],
   "source": [
    "# do basic math with Frame object (you can use numpy memory (as demonstated before))\n",
    "\n",
    "print (frame0[12, :])\n",
    "frame0 += frame0\n",
    "print (frame0[12, :])"
   ]
  },
  {
   "cell_type": "code",
   "execution_count": null,
   "metadata": {
    "collapsed": false
   },
   "outputs": [],
   "source": [
    "# calculate rmsd between two frames (2-th frame and 9-th frame in traj object)\n",
    "\n",
    "print (traj[2].rmsd(traj[9]))"
   ]
  },
  {
   "cell_type": "code",
   "execution_count": null,
   "metadata": {
    "collapsed": false
   },
   "outputs": [],
   "source": [
    "# methods / properties\n",
    "print (dir(frame0))"
   ]
  },
  {
   "cell_type": "markdown",
   "metadata": {},
   "source": [
    "## Perform cpptraj Action on Frame object"
   ]
  },
  {
   "cell_type": "code",
   "execution_count": null,
   "metadata": {
    "collapsed": false
   },
   "outputs": [],
   "source": [
    "# this code shows how we're able control workflow of cpptraj.\n",
    "from pytraj import allactions\n",
    "radgyr = allactions.Action_Radgyr()"
   ]
  },
  {
   "cell_type": "code",
   "execution_count": null,
   "metadata": {
    "collapsed": false
   },
   "outputs": [],
   "source": [
    "# import DataSetList object to store radius of gyration data\n",
    "# there is much shorter way to do this but this is for demonstration\n",
    "from pytraj.DataSetList import DataSetList\n",
    "\n",
    "# store data file for writing output\n",
    "from pytraj.DataFileList import DataFileList"
   ]
  },
  {
   "cell_type": "code",
   "execution_count": null,
   "metadata": {
    "collapsed": false
   },
   "outputs": [],
   "source": [
    "dsetlist = DataSetList()\n",
    "dflist = DataFileList()\n",
    "# perform action on traj\n",
    "\n",
    "# calculate radgyr using CA, \n",
    "radgyr.read_input(\"radgyr @CA out test.out\", current_top=traj.top, dslist=dsetlist, dflist=dflist)"
   ]
  },
  {
   "cell_type": "code",
   "execution_count": null,
   "metadata": {
    "collapsed": false
   },
   "outputs": [],
   "source": [
    "# process Topology if needed\n",
    "radgyr.process(traj.top)"
   ]
  },
  {
   "cell_type": "code",
   "execution_count": null,
   "metadata": {
    "collapsed": false
   },
   "outputs": [],
   "source": [
    "# start looping all Frame objects"
   ]
  },
  {
   "cell_type": "code",
   "execution_count": null,
   "metadata": {
    "collapsed": false
   },
   "outputs": [],
   "source": [
    "for idx, frame in enumerate(traj):\n",
    "    radgyr.do_action(frame)"
   ]
  },
  {
   "cell_type": "code",
   "execution_count": null,
   "metadata": {
    "collapsed": false
   },
   "outputs": [],
   "source": [
    "# it's time to get the data\n",
    "import pytraj as pyc\n",
    "\n",
    "# currently we need to cast dataset since cpptraj has several kinds\n",
    "d0 = pyc.cast_dataset(dsetlist[0])\n",
    "print (d0[:])"
   ]
  },
  {
   "cell_type": "code",
   "execution_count": null,
   "metadata": {
    "collapsed": false
   },
   "outputs": [],
   "source": [
    "# saving to file\n",
    "dflist.write_all_datafiles()"
   ]
  },
  {
   "cell_type": "code",
   "execution_count": null,
   "metadata": {
    "collapsed": false
   },
   "outputs": [],
   "source": [
    "# make sure we already save it\n",
    "!ls test.out"
   ]
  },
  {
   "cell_type": "code",
   "execution_count": null,
   "metadata": {
    "collapsed": false
   },
   "outputs": [],
   "source": [
    "!head test.out"
   ]
  },
  {
   "cell_type": "code",
   "execution_count": null,
   "metadata": {
    "collapsed": false
   },
   "outputs": [],
   "source": [
    "# what's happen if we get lost?\n",
    "from pytraj import info\n",
    "info('rms2d')"
   ]
  }
 ],
 "metadata": {
  "kernelspec": {
   "display_name": "Python 3",
   "language": "python",
   "name": "python3"
  },
  "language_info": {
   "codemirror_mode": {
    "name": "ipython",
    "version": 3
   },
   "file_extension": ".py",
   "mimetype": "text/x-python",
   "name": "python",
   "nbconvert_exporter": "python",
   "pygments_lexer": "ipython3",
   "version": "3.4.3"
  }
 },
 "nbformat": 4,
 "nbformat_minor": 0
}
