{
 "cells": [
  {
   "cell_type": "markdown",
   "metadata": {},
   "source": [
    "There are two types of trajectory objects in pytraj: Trajectory (mutable) and TrajectoryIterator\n",
    "    \n",
    "    * Note: there is 3rd one but we are experimenting it (api.Trajectory)\n",
    "    "
   ]
  },
  {
   "cell_type": "code",
   "execution_count": 9,
   "metadata": {
    "collapsed": false
   },
   "outputs": [],
   "source": [
    "from __future__ import absolute_import\n",
    "from pytraj import load_sample_data\n",
    "# load sample Ala3 trajectory \n",
    "traj = load_sample_data()\n"
   ]
  },
  {
   "cell_type": "code",
   "execution_count": 10,
   "metadata": {
    "collapsed": false
   },
   "outputs": [
    {
     "name": "stdout",
     "output_type": "stream",
     "text": [
      "<TrajectoryIterator with 1 frames, 34 atoms/frame>\n",
      "           \n"
     ]
    }
   ],
   "source": [
    "print (traj)"
   ]
  },
  {
   "cell_type": "code",
   "execution_count": 11,
   "metadata": {
    "collapsed": false
   },
   "outputs": [
    {
     "name": "stdout",
     "output_type": "stream",
     "text": [
      "3.32577\n",
      "updating coords of 0-th frame\n",
      "3.32577\n"
     ]
    }
   ],
   "source": [
    "print (traj[0][0, 0])\n",
    "print (\"updating coords of 0-th frame\")\n",
    "\n",
    "traj[0][0, 0] = 1000.\n",
    "print (traj[0][0, 0])   "
   ]
  },
  {
   "cell_type": "code",
   "execution_count": 12,
   "metadata": {
    "collapsed": false
   },
   "outputs": [
    {
     "name": "stdout",
     "output_type": "stream",
     "text": [
      "3.32577\n",
      "updating coords of 0-th frame\n",
      "1000.0\n"
     ]
    }
   ],
   "source": [
    "# convert to FrameArray object\n",
    "farray = traj[:]\n",
    "print (farray[0][0, 0])\n",
    "print (\"updating coords of 0-th frame\")\n",
    "\n",
    "farray[0][0, 0] = 1000.\n",
    "print (farray[0][0, 0])  "
   ]
  },
  {
   "cell_type": "code",
   "execution_count": 13,
   "metadata": {
    "collapsed": false
   },
   "outputs": [
    {
     "name": "stdout",
     "output_type": "stream",
     "text": [
      "<Trajectory with 1 frames, 3 atoms/frame>\n",
      "           \n"
     ]
    }
   ],
   "source": [
    "# TrajReadOnly and FrameArray have similiar methods.\n",
    "\n",
    "# extract coords of CA atoms\n",
    "print (traj['@CA'])"
   ]
  },
  {
   "cell_type": "code",
   "execution_count": 14,
   "metadata": {
    "collapsed": false
   },
   "outputs": [
    {
     "name": "stdout",
     "output_type": "stream",
     "text": [
      "<Trajectory with 1 frames, 3 atoms/frame>\n",
      "           \n"
     ]
    }
   ],
   "source": [
    "print (farray['@CA'])"
   ]
  },
  {
   "cell_type": "markdown",
   "metadata": {},
   "source": [
    "## What should I expect when calling 'io.load' method?"
   ]
  },
  {
   "cell_type": "code",
   "execution_count": 15,
   "metadata": {
    "collapsed": false
   },
   "outputs": [
    {
     "name": "stdout",
     "output_type": "stream",
     "text": [
      "<Trajectory with 10 frames, 304 atoms/frame>\n",
      "           \n",
      "<Trajectory with 10 frames, 304 atoms/frame>\n",
      "           \n",
      "<Trajectory with 10 frames, 20 atoms/frame>\n",
      "           \n",
      "<Trajectory with 4 frames, 304 atoms/frame>\n",
      "           \n",
      "<Trajectory with 10 frames, 304 atoms/frame>\n",
      "           \n"
     ]
    }
   ],
   "source": [
    "# `pytraj` creat TrajReadOnly object when calling 'io.load' method for memory efficiency.\n",
    "\n",
    "import pytraj.io as mdio\n",
    "traj = mdio.load(\"../tests/data/md1_prod.Tc5b.x\", \"../tests/data/Tc5b.top\")\n",
    "print (traj)\n",
    "\n",
    "# you can convert to mutable FrameArray by slicing it (there is no way we can slice the traj and still make it unmutable)\n",
    "fa0 = traj[:]\n",
    "print (fa0)\n",
    "\n",
    "fa1 = traj['@CA']\n",
    "print (fa1)\n",
    "\n",
    "print (traj[0:10: 3])\n",
    "\n",
    "# shortcut for creating FrameArray\n",
    "# 1. `mdio.load(\"../tests/data/md1_prod.Tc5b.x\", \"../tests/data/Tc5b.top\")[:]` # add [:] or other slicing methods\n",
    "# 2. explicitly create FrameArray\n",
    "from pytraj import Trajectory\n",
    "fa = Trajectory(\"../tests/data/md1_prod.Tc5b.x\", \"../tests/data/Tc5b.top\")\n",
    "print (fa)"
   ]
  }
 ],
 "metadata": {
  "kernelspec": {
   "display_name": "Python 3",
   "language": "python",
   "name": "python3"
  },
  "language_info": {
   "codemirror_mode": {
    "name": "ipython",
    "version": 3
   },
   "file_extension": ".py",
   "mimetype": "text/x-python",
   "name": "python",
   "nbconvert_exporter": "python",
   "pygments_lexer": "ipython3",
   "version": "3.4.3"
  }
 },
 "nbformat": 4,
 "nbformat_minor": 0
}
