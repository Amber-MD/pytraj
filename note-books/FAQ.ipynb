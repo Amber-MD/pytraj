{
 "cells": [
  {
   "cell_type": "markdown",
   "metadata": {},
   "source": [
    "# FAQ"
   ]
  },
  {
   "cell_type": "markdown",
   "metadata": {},
   "source": [
    "#### * [pytraj is supposed to support more than 100 types of actions/analyses but I saw only a part of them in \"pyca.common_actions\", where is the rest?](#adict)\n",
    "#### * [why do \"pytraj\" has something like \"Action_Rmsd\", \"pytraj.common_actions.calc_rmsd\", then \"traj.calc_rmsd\"](#whysomanysamemethods)\n",
    "#### * [why are there so many dtype in calc_xyz (like, calc_dssp)? Why not using numpy only?](#notnumpy)\n",
    "#### * [What is the different between \"for frame in traj[1:11:2]\" and \"for frame in traj(1, 10, 2)\", where \"traj\" is \"TrajectoryIterator\"?](#frameiter_vs_slicing)"
   ]
  },
  {
   "cell_type": "markdown",
   "metadata": {},
   "source": [
    "<a name=\"adict\"></a>\n",
    "#### pytraj is supposed to support more than 100 types of actions/analyses but I saw only a part of them in pyca.common_actions, where is the rest?\n",
    "\n",
    "Yes, `pytraj` supports all of `cpptraj` actions and most of analyses. You can create Action or Analysis object like \n",
    "```python\n",
    "from pytraj.actions.Action_Rmsd import Action_Rmsd\n",
    "```"
   ]
  },
  {
   "cell_type": "code",
   "execution_count": 1,
   "metadata": {
    "collapsed": false
   },
   "outputs": [],
   "source": [
    "from __future__ import print_function\n",
    "from pytraj.actions.Action_Rmsd import Action_Rmsd\n",
    "act = Action_Rmsd()\n",
    "from pytraj import info\n",
    "info(act)"
   ]
  },
  {
   "cell_type": "markdown",
   "metadata": {},
   "source": [
    "this is what  you see when using `ipython` for python shell. This below text does appear in ipython-notebook since\n",
    "it is C++ stdout\n",
    "\n",
    "```\n",
    "        [<name>] <mask> [<refmask>] [out filename] [nofit | norotate]\n",
    "        [mass] [savematrices]\n",
    "        [ first | reference | ref <name> | refindex <#> |\n",
    "          reftraj <filename> [parm <parmname> | parmindex <#>] ]\n",
    "        [perres perresout <filename> [perresavg <avgfile>]\n",
    "         [range <resRange>] [refrange <refRange>]\n",
    "         [perresmask <additional mask>] [perrescenter] [perresinvert]\n",
    "  Calculate coordinate root-mean-squared deviation of atoms in <mask>\n",
    "```"
   ]
  },
  {
   "cell_type": "code",
   "execution_count": 2,
   "metadata": {
    "collapsed": false
   },
   "outputs": [
    {
     "name": "stdout",
     "output_type": "stream",
     "text": [
      "<pytraj.analyses.Analysis_Clustering.Analysis_Clustering object at 0x2b51e120d9f0>\n"
     ]
    }
   ],
   "source": [
    "from pytraj.analyses.Analysis_Clustering import Analysis_Clustering\n",
    "anal = Analysis_Clustering()\n",
    "print (anal)"
   ]
  },
  {
   "cell_type": "markdown",
   "metadata": {},
   "source": [
    "*** to make things easier, we created `adict` and `analdict` as a dictionary for actions and analyses***"
   ]
  },
  {
   "cell_type": "code",
   "execution_count": 3,
   "metadata": {
    "collapsed": false
   },
   "outputs": [
    {
     "name": "stdout",
     "output_type": "stream",
     "text": [
      "79\n",
      "29\n"
     ]
    }
   ],
   "source": [
    "from pytraj import adict\n",
    "from pytraj import analdict\n",
    "print (adict.keys().__len__()) # 80 actions\n",
    "print (analdict.keys().__len__()) # 29 analyses"
   ]
  },
  {
   "cell_type": "code",
   "execution_count": 4,
   "metadata": {
    "collapsed": false
   },
   "outputs": [
    {
     "name": "stdout",
     "output_type": "stream",
     "text": [
      "['angle', 'areapermol', 'atomiccorr', 'atomicfluct', 'atommap', 'autoimage', 'average', 'bounds', 'box', 'center']\n",
      "< Action_Distance object > < Action_AreaPerMol object >\n"
     ]
    }
   ],
   "source": [
    "# let's check them out\n",
    "print (adict.keys()[:10]) # only print first 10 actions\n",
    "# create Action object\n",
    "act_distance = adict['distance']\n",
    "act_areapermol = adict['areapermol']\n",
    "\n",
    "print (act_distance, act_areapermol)"
   ]
  },
  {
   "cell_type": "code",
   "execution_count": 5,
   "metadata": {
    "collapsed": false
   },
   "outputs": [
    {
     "name": "stdout",
     "output_type": "stream",
     "text": [
      "<pytraj.Trajectory with 10 frames: <Topology with 1 mols, 20 residues, 304 atoms, 310 bonds, non-PBC>>\n",
      "           \n",
      "1\n",
      "<pytraj.DataFileList.DataFileList object at 0x2aaac85b39b0>\n",
      "[[1.2267204700233851, 1.0243572171177613, 0.7818476589515111, 1.3358773966222444, 1.106514609942215, 1.518443624705914, 1.281059038401526, 1.5526792445935809, 1.5580474960362545, 1.53805236103223]]\n",
      "#Frame      Dis_00000\r\n",
      "       1       1.2267\r\n",
      "       2       1.0244\r\n",
      "       3       0.7818\r\n",
      "       4       1.3359\r\n"
     ]
    }
   ],
   "source": [
    "# what am I supposed to do with those actions objects (I will show you so much shorter way later but I also want to show how\n",
    "# `pytraj` work\n",
    "\n",
    "# first, you creat DataSetList object and DataFileList object to hold internal data and to write files respectively\n",
    "from pytraj import DataSetList, DataFileList\n",
    "\n",
    "dslist = DataSetList()\n",
    "dflist = DataFileList()\n",
    "\n",
    "# but you need to load trajectory to `pytraj` too\n",
    "import pytraj.io as io\n",
    "traj = io.load(\"../tests/data/md1_prod.Tc5b.x\", \"../tests/data/Tc5b.top\")\n",
    "print (traj)\n",
    "\n",
    "# let's make calculate\n",
    "# the format is: act(command, traj, traj.top=Topology(), dslist=DataSetList(), dflist=DataFileList())\n",
    "\n",
    "# let's make a dummy one to calculate distance for 3 atom maks: @CA @CB\n",
    "# we need to have a Trajectory-like object (in thise case, we use `TrajReadOnly` for iterating frame by frame from disk\n",
    "# we don't need to explicitly provide Topology since traj has this information\n",
    "# we need to provide `dslist` and `dflist` object to hold and save data\n",
    "# just like cpptraj, you need to specify `out` keyword to save to file (of course, you're not require to do so\n",
    "act_distance(\"@CA @CB out output/test_act_distance.txt\", traj, dslist=dslist, dflist=dflist)\n",
    "print (dslist.size)\n",
    "print (dflist)\n",
    "\n",
    "print (dslist.tolist())\n",
    "\n",
    "# explicitly call saving data\n",
    "dflist.write_all_datafiles()\n",
    "\n",
    "# check the result\n",
    "!head -5 ./output/test_act_distance.txt"
   ]
  },
  {
   "cell_type": "markdown",
   "metadata": {},
   "source": [
    "#### all of above steps can just be summarized in much simple way"
   ]
  },
  {
   "cell_type": "code",
   "execution_count": 6,
   "metadata": {
    "collapsed": false
   },
   "outputs": [
    {
     "name": "stdout",
     "output_type": "stream",
     "text": [
      "[1.2267204700233851, 1.0243572171177613, 0.7818476589515111, 1.3358773966222444, 1.106514609942215, 1.518443624705914, 1.281059038401526, 1.5526792445935809, 1.5580474960362545, 1.53805236103223]\n"
     ]
    }
   ],
   "source": [
    "import pytraj.common_actions as pyca\n",
    "\n",
    "dslist = pyca.calc_distance(traj, \"@CA @CB\")\n",
    "print (dslist.tolist())"
   ]
  },
  {
   "cell_type": "markdown",
   "metadata": {},
   "source": [
    "<a name=\"whysomanysamemethods\"></a>\n",
    "#### * why do `pytraj` has somethinge like `Action_Rmsd`, `pytraj.common_actions.calc_rmsd`, then `traj.calc_rmsd`"
   ]
  },
  {
   "cell_type": "markdown",
   "metadata": {},
   "source": [
    "First of all, always look at:\n",
    "```python\n",
    "import pytraj.commmon_actions as pyca\n",
    "```"
   ]
  },
  {
   "cell_type": "code",
   "execution_count": 7,
   "metadata": {
    "collapsed": false
   },
   "outputs": [
    {
     "name": "stdout",
     "output_type": "stream",
     "text": [
      "['calc_COG', 'calc_COM', 'calc_angle', 'calc_atomicfluct', 'calc_center_of_geometry', 'calc_center_of_mass', 'calc_dih', 'calc_dihedral', 'calc_distance', 'calc_distrmsd', 'calc_dssp', 'calc_energies', 'calc_jcoupling', 'calc_matrix', 'calc_mindist', 'calc_molsurf', 'calc_multidihedral', 'calc_multivector', 'calc_pairwise_rmsd', 'calc_protein_score', 'calc_radgyr', 'calc_radial', 'calc_rdf', 'calc_rmsd', 'calc_score', 'calc_temperatures', 'calc_vector', 'calc_volmap', 'calc_volume', 'calc_watershell', 'calculate']\n"
     ]
    }
   ],
   "source": [
    "import pytraj.common_actions as pyca\n",
    "from pytraj.misc import get_atts\n",
    "myatt = [d for d in get_atts(pyca) if d.startswith(\"calc\")]\n",
    "print (myatt)"
   ]
  },
  {
   "cell_type": "markdown",
   "metadata": {},
   "source": [
    "if there is nothing you need in `pyca`, look at\n",
    "```python\n",
    "from pytraj import adict\n",
    "from pytraj import analdict\n",
    "\n",
    "print (adict.keys())\n",
    "print (analdict.keys())\n",
    "\n",
    "# you can do something like\n",
    "act = adict['volmap']\n",
    "```\n",
    "\n",
    "`pytraj` doc is still terriblly organized and miss a lot. We try to keep the same keyword for actions and analyses as in\n",
    "`cpptraj`, so please read the Amber14 manual in [cpptraj section for detail](http://ambermd.org/doc12/Amber14.pdf). \n",
    "For example: you can search \"volmap\" keyword (page #549)\n",
    "For quickly access the usage, use\n",
    "```python\n",
    "from pytraj import info\n",
    "info(act) # act is either Action or Analysis object\n",
    "# or\n",
    "info('rmsd')\n",
    "info('volmap')\n",
    "```"
   ]
  },
  {
   "cell_type": "markdown",
   "metadata": {},
   "source": [
    "<a name=notnumpy> </a>\n",
    "\n",
    "#### why are there so many dtype in calc_xyz (like, calc_dssp)? Why not using numpy only?"
   ]
  },
  {
   "cell_type": "markdown",
   "metadata": {},
   "source": [
    "#### * What is the different between \"for frame in traj[1:11:2]\" and \"for frame in traj(1, 10, 2)\", where \"traj\" is \"TrajectoryIterator\"?  <a name=frameiter_vs_slicing>"
   ]
  },
  {
   "cell_type": "markdown",
   "metadata": {},
   "source": [
    "* Per result perspective, both of them are them same. Check below example"
   ]
  },
  {
   "cell_type": "code",
   "execution_count": 8,
   "metadata": {
    "collapsed": false
   },
   "outputs": [
    {
     "name": "stdout",
     "output_type": "stream",
     "text": [
      "<pytraj.TrajectoryIterator with 10 frames: <Topology with 1692 mols, 1704 residues, 5293 atoms, 5300 bonds, PBC with box type = ortho>>\n",
      "           \n",
      "1.148761176495239e-06\n",
      "1.4378647978776044e-06\n",
      "1.292888048049322e-06\n",
      "1.292888048049322e-06\n",
      "0.0\n"
     ]
    }
   ],
   "source": [
    "import pytraj.io as io\n",
    "from pytraj.six_2 import zip\n",
    "traj = io.load_sample_data(\"tz2\")\n",
    "print (traj)\n",
    "\n",
    "for frame0, frame in zip(traj[1:11:2], traj(1, 10, 2)): \n",
    "    # we use `11` for the former because Python does not count the last index.\n",
    "    print (frame0.rmsd(frame))  # two frames have the same coords\n",
    "    "
   ]
  },
  {
   "cell_type": "markdown",
   "metadata": {},
   "source": [
    "* Per memory efficiency, traj(1, 10, 2) is better. This is shortcut of traj.frame_iter(start=1, stop=10, stride=2) (which is also similiar to cpptraj's command: `trajin my_trajectory.nc 1 10 2`. When calling `traj(1, 10, 2)`, only one single Frame is loaded into memory. \n",
    "```python\n",
    "print (traj(1, 10, 2))\n",
    "<generator object frame_iter at 0x2aaac8f7daf8>\n",
    "```\n",
    "In constrast, calling `traj[1:11:2]`, `pytraj` does the slicing first to create `Trajectory` object in memory, and then iterate frame\n",
    "```python\n",
    "print (traj[1:11:2])\n",
    "<pytraj.Trajectory with 5 frames: <Topology with 1692 mols, 1704 residues, 5293 atoms, 5300 bonds, PBC with box type = ortho>>\n",
    "```"
   ]
  },
  {
   "cell_type": "code",
   "execution_count": 9,
   "metadata": {
    "collapsed": false
   },
   "outputs": [
    {
     "name": "stdout",
     "output_type": "stream",
     "text": [
      "100 loops, best of 3: 3.25 ms per loop\n",
      "100 loops, best of 3: 9.33 ms per loop\n"
     ]
    }
   ],
   "source": [
    "%timeit for frame in traj(1, 10, 2): pass # faster and more memory efficient for `TrajectoryIterator`\n",
    "%timeit for frame in traj[1:11:2]: pass"
   ]
  },
  {
   "cell_type": "markdown",
   "metadata": {},
   "source": [
    "* if using `Trajectory` object (already in memory) rather than using `TrajectoryIterator`, using `frame_iter` is more efficient in speed"
   ]
  },
  {
   "cell_type": "code",
   "execution_count": 10,
   "metadata": {
    "collapsed": false
   },
   "outputs": [
    {
     "name": "stdout",
     "output_type": "stream",
     "text": [
      "1000 loops, best of 3: 412 µs per loop\n",
      "100 loops, best of 3: 5.98 ms per loop\n"
     ]
    }
   ],
   "source": [
    "# convert to `TrajectoryIterator` (read only one single Frame from disk) to `Trajectory` (all frames are loaded into memory)\n",
    "fa = traj[:]\n",
    "\n",
    "%timeit for frame in fa(1, 10, 2): pass # about 20 times faster the later because we don't need to perform slicing.\n",
    "%timeit for frame in fa[1:11:2]: pass"
   ]
  }
 ],
 "metadata": {
  "kernelspec": {
   "display_name": "Python 3",
   "language": "python",
   "name": "python3"
  },
  "language_info": {
   "codemirror_mode": {
    "name": "ipython",
    "version": 3
   },
   "file_extension": ".py",
   "mimetype": "text/x-python",
   "name": "python",
   "nbconvert_exporter": "python",
   "pygments_lexer": "ipython3",
   "version": "3.4.3"
  }
 },
 "nbformat": 4,
 "nbformat_minor": 0
}
