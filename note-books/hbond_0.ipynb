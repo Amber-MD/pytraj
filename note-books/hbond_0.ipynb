{
 "cells": [
  {
   "cell_type": "code",
   "execution_count": 1,
   "metadata": {
    "collapsed": false
   },
   "outputs": [
    {
     "name": "stdout",
     "output_type": "stream",
     "text": [
      "<TrajReadOnly with 10 frames, 5293 atoms/frame>\n",
      "           \n",
      "<Box: ortho, (x, y, z, alpha, beta, gamma) = (35.2627796623, 41.8455476799, 36.168629529, 90.0, 90.0, 90.0)>\n"
     ]
    }
   ],
   "source": [
    "# https://github.com/mojyt/cpptraj/blob/master/test/Test_Hbond/RunTest.sh\n",
    "# hbond detail: http://ambermd.org/doc12/Amber15.pdf (page 572)\n",
    "import pytraj.io as io\n",
    "\n",
    "# system: tripzip2 peptide, explicit water with `ortho` box\n",
    "traj = io.load(\"../tests/data/tz2.ortho.nc\", \"../tests/data/tz2.ortho.parm7\")\n",
    "print (traj)\n",
    "print (traj[0].box)"
   ]
  },
  {
   "cell_type": "code",
   "execution_count": 2,
   "metadata": {
    "collapsed": false
   },
   "outputs": [
    {
     "name": "stdout",
     "output_type": "stream",
     "text": [
      "<pytraj.DataSetList.DataSetList object at 0x2abab1b4deb0>\n"
     ]
    }
   ],
   "source": [
    "command = r\"out solvhb.dat avgout solvavg.dat :1-13 solventacceptor :WAT@O solventdonor :WAT \\\n",
    "            solvout solvavg.dat bridgeout solvavg.dat\"\n",
    "\n",
    "# do hbond search\n",
    "dslist = traj.search_hbonds(command)\n",
    "print (dslist)"
   ]
  },
  {
   "cell_type": "code",
   "execution_count": 3,
   "metadata": {
    "collapsed": false,
    "scrolled": true
   },
   "outputs": [
    {
     "name": "stdout",
     "output_type": "stream",
     "text": [
      "[u'HB_00000[UU]', u'HB_00000[UV]', u'HB_00000[Bridge]', u'HB_00000[ID]', u'LYS_12@O-SER_1@N-H3', u'LYS_8@O-GLU_5@N-H', u'GLU_5@O-LYS_8@N-H', u'SER_1@O-LYS_12@N-H', u'GLU_5@OE2-LYS_12@NZ-HZ1', u'SER_1@H2-V', u'SER_1@HG-V', u'TRP_2@H-V', u'THR_3@HG1-V', u'ASN_6@H-V', u'ASN_6@HD22-V', u'LYS_8@HZ1-V', u'LYS_8@HZ2-V', u'TRP_9@HE1-V', u'THR_10@HG1-V', u'LYS_12@HZ2-V', u'TRP_11@O-V', u'THR_10@OG1-V', u'GLU_5@OE2-V', u'GLU_5@O-V', u'THR_3@OG1-V', u'TRP_2@O-V', u'GLU_5@OE1-V', u'TRP_9@O-V', u'GLY_7@O-V', u'ASN_6@O-V', u'ASN_6@OD1-V', u'TRP_4@O-V', u'GLU_5@OE1-LYS_12@NZ-HZ1', u'LYS_12@HZ3-V', u'NHE_13@HN1-V', u'THR_10@O-THR_3@N-H', u'TRP_2@HE1-V', u'TRP_4@H-V', u'ASN_6@HD21-V', u'GLY_7@H-V', u'LYS_8@HZ3-V', u'TRP_9@H-V', u'SER_1@OG-V', u'TRP_2@O-THR_3@OG1-HG1', u'SER_1@H1-V', u'TRP_4@HE1-V', u'TRP_11@HE1-V', u'THR_3@O-THR_10@N-H', u'TRP_11@H-V']\n"
     ]
    }
   ],
   "source": [
    "print (dslist.get_legends())"
   ]
  },
  {
   "cell_type": "code",
   "execution_count": 4,
   "metadata": {
    "collapsed": false
   },
   "outputs": [
    {
     "data": {
      "text/plain": [
       "{u'LYS_12@O-SER_1@N-H3': [1, 1, 1, 1, 0, 1, 0, 1, 0, 1],\n",
       " u'SER_1@H1-V': [0, 0, 0, 0, 1, 0, 0, 0, 0, 0],\n",
       " u'SER_1@H2-V': [1, 1, 1, 0, 0, 1, 1, 0, 1, 0],\n",
       " u'SER_1@HG-V': [1, 1, 1, 1, 1, 1, 1, 1, 1, 1],\n",
       " u'SER_1@O-LYS_12@N-H': [1, 1, 1, 1, 1, 1, 1, 1, 1, 1],\n",
       " u'SER_1@OG-V': [0, 0, 0, 1, 0, 1, 1, 0, 1, 1]}"
      ]
     },
     "execution_count": 4,
     "metadata": {},
     "output_type": "execute_result"
    }
   ],
   "source": [
    "dslist.groupby(\"SER_1\").to_dict()"
   ]
  },
  {
   "cell_type": "code",
   "execution_count": 5,
   "metadata": {
    "collapsed": false
   },
   "outputs": [
    {
     "name": "stdout",
     "output_type": "stream",
     "text": [
      ":12@O :1@N\n",
      "('hbond distance: ', [2.785477022697817, 2.8315799255658454, 2.7679902368377243, 2.867518628010597, 3.101924965773696, 2.8775658495960945, 2.7061607917287405, 2.9813771202941988, 3.14691744364174, 2.8054902050147694])\n",
      "\n",
      "('hbond angle: ', [12.366420503543578, 12.026350957751992, 23.086008841650138, 28.254980253025952, 31.58306803649342, 18.318812722365806, 30.68882165123469, 24.330592665923163, 20.627688022414265, 5.128303656447668])\n",
      "\n",
      "agv, min, max\n",
      "(2.8872002189161226, 2.7061607917287405, 3.14691744364174)\n"
     ]
    }
   ],
   "source": [
    "from pytraj.misc import to_amber_mask\n",
    "\n",
    "mask = to_amber_mask('LYS_12@O-SER_1@N-H3')\n",
    "print (mask)\n",
    "\n",
    "d0_dis = traj.calc_distance(mask)\n",
    "d1_angle = traj.calc_angle(mask + \" @H3\")\n",
    "print ('hbond distance: ',d0_dis.tolist())\n",
    "\n",
    "print (\"\")\n",
    "print ('hbond angle: ', d1_angle.tolist())\n",
    "\n",
    "print (\"\")\n",
    "print (\"agv, min, max\")\n",
    "print (d0_dis.avg(), d0_dis.min(), d0_dis.max())"
   ]
  },
  {
   "cell_type": "code",
   "execution_count": 6,
   "metadata": {
    "collapsed": false
   },
   "outputs": [
    {
     "name": "stdout",
     "output_type": "stream",
     "text": [
      "set([u'Bridge', u'UU', u'UV', u'solventhb', u'solutehb', u'ID'])\n",
      "[u'208(10+11+),494(2+3+),1409(3+5+),' u'208(10+11+),494(2+3+),1409(3+5+),'\n",
      " u'208(10+11+),496(5+12+),' u'208(10+11+),496(5+12+),' u'496(5+12+),'\n",
      " u'496(5+12+),' u'None' u'None' u'1384(5+10+),' u'266(10+11+),1384(5+10+),']\n"
     ]
    }
   ],
   "source": [
    "print (dslist.get_aspects())\n",
    "\n",
    "dstring = dslist.groupby('ID', mode='aspect')[0]\n",
    "from pytraj.misc import get_atts\n",
    "\n",
    "print (dstring.to_ndarray())\n",
    "# https://github.com/mojyt/cpptraj/blob/master/test/Test_Hbond/solvhb.dat.save"
   ]
  },
  {
   "cell_type": "code",
   "execution_count": 7,
   "metadata": {
    "collapsed": false
   },
   "outputs": [
    {
     "name": "stdout",
     "output_type": "stream",
     "text": [
      "('hb[UU]', [[5, 5, 5, 4, 4, 5, 6, 5, 5, 4]])\n",
      "('hb[UV]', [[27, 27, 31, 26, 30, 28, 21, 24, 24, 28]])\n",
      "('hb[Bridge]', [[3, 3, 2, 2, 1, 1, 0, 0, 1, 2]])\n"
     ]
    }
   ],
   "source": [
    "print (\"hb[UU]\", dslist.groupby(\"UU\").tolist())\n",
    "print (\"hb[UV]\", dslist.groupby(\"UV\").tolist())\n",
    "print (\"hb[Bridge]\", dslist.groupby(\"Bridge\").tolist())\n",
    "# https://github.com/mojyt/cpptraj/blob/master/test/Test_Hbond/solvhb.dat.save"
   ]
  },
  {
   "cell_type": "markdown",
   "metadata": {},
   "source": [
    "#### Raw output from cpptraj\n",
    "```\n",
    "#Frame         hb[UU]       hb[UV]   hb[Bridge]                            hb[ID]\n",
    "       1            5           27            3 208(10+11+),494(2+3+),1409(3+5+),\n",
    "       2            5           27            3 208(10+11+),494(2+3+),1409(3+5+),\n",
    "       3            5           31            2           208(10+11+),496(5+12+),\n",
    "       4            4           26            2           208(10+11+),496(5+12+),\n",
    "       5            4           30            1                       496(5+12+),\n",
    "       6            5           28            1                       496(5+12+),\n",
    "       7            6           21            0                              None\n",
    "       8            5           24            0                              None\n",
    "       9            5           24            1                      1384(5+10+),\n",
    "      10            4           28            2          266(10+11+),1384(5+10+),\n",
    "```"
   ]
  },
  {
   "cell_type": "code",
   "execution_count": 8,
   "metadata": {
    "collapsed": false
   },
   "outputs": [
    {
     "data": {
      "text/html": [
       "<div style=\"max-height:1000px;max-width:1500px;overflow:auto;\">\n",
       "<table border=\"1\" class=\"dataframe\">\n",
       "  <thead>\n",
       "    <tr style=\"text-align: right;\">\n",
       "      <th></th>\n",
       "      <th>LYS_12@O-SER_1@N-H3</th>\n",
       "      <th>SER_1@H1-V</th>\n",
       "      <th>SER_1@H2-V</th>\n",
       "      <th>SER_1@HG-V</th>\n",
       "      <th>SER_1@O-LYS_12@N-H</th>\n",
       "      <th>SER_1@OG-V</th>\n",
       "    </tr>\n",
       "  </thead>\n",
       "  <tbody>\n",
       "    <tr>\n",
       "      <th>0</th>\n",
       "      <td>1</td>\n",
       "      <td>0</td>\n",
       "      <td>1</td>\n",
       "      <td>1</td>\n",
       "      <td>1</td>\n",
       "      <td>0</td>\n",
       "    </tr>\n",
       "    <tr>\n",
       "      <th>1</th>\n",
       "      <td>1</td>\n",
       "      <td>0</td>\n",
       "      <td>1</td>\n",
       "      <td>1</td>\n",
       "      <td>1</td>\n",
       "      <td>0</td>\n",
       "    </tr>\n",
       "    <tr>\n",
       "      <th>2</th>\n",
       "      <td>1</td>\n",
       "      <td>0</td>\n",
       "      <td>1</td>\n",
       "      <td>1</td>\n",
       "      <td>1</td>\n",
       "      <td>0</td>\n",
       "    </tr>\n",
       "    <tr>\n",
       "      <th>3</th>\n",
       "      <td>1</td>\n",
       "      <td>0</td>\n",
       "      <td>0</td>\n",
       "      <td>1</td>\n",
       "      <td>1</td>\n",
       "      <td>1</td>\n",
       "    </tr>\n",
       "    <tr>\n",
       "      <th>4</th>\n",
       "      <td>0</td>\n",
       "      <td>1</td>\n",
       "      <td>0</td>\n",
       "      <td>1</td>\n",
       "      <td>1</td>\n",
       "      <td>0</td>\n",
       "    </tr>\n",
       "    <tr>\n",
       "      <th>5</th>\n",
       "      <td>1</td>\n",
       "      <td>0</td>\n",
       "      <td>1</td>\n",
       "      <td>1</td>\n",
       "      <td>1</td>\n",
       "      <td>1</td>\n",
       "    </tr>\n",
       "    <tr>\n",
       "      <th>6</th>\n",
       "      <td>0</td>\n",
       "      <td>0</td>\n",
       "      <td>1</td>\n",
       "      <td>1</td>\n",
       "      <td>1</td>\n",
       "      <td>1</td>\n",
       "    </tr>\n",
       "    <tr>\n",
       "      <th>7</th>\n",
       "      <td>1</td>\n",
       "      <td>0</td>\n",
       "      <td>0</td>\n",
       "      <td>1</td>\n",
       "      <td>1</td>\n",
       "      <td>0</td>\n",
       "    </tr>\n",
       "    <tr>\n",
       "      <th>8</th>\n",
       "      <td>0</td>\n",
       "      <td>0</td>\n",
       "      <td>1</td>\n",
       "      <td>1</td>\n",
       "      <td>1</td>\n",
       "      <td>1</td>\n",
       "    </tr>\n",
       "    <tr>\n",
       "      <th>9</th>\n",
       "      <td>1</td>\n",
       "      <td>0</td>\n",
       "      <td>0</td>\n",
       "      <td>1</td>\n",
       "      <td>1</td>\n",
       "      <td>1</td>\n",
       "    </tr>\n",
       "  </tbody>\n",
       "</table>\n",
       "</div>"
      ],
      "text/plain": [
       "   LYS_12@O-SER_1@N-H3  SER_1@H1-V  SER_1@H2-V  SER_1@HG-V  \\\n",
       "0                    1           0           1           1   \n",
       "1                    1           0           1           1   \n",
       "2                    1           0           1           1   \n",
       "3                    1           0           0           1   \n",
       "4                    0           1           0           1   \n",
       "5                    1           0           1           1   \n",
       "6                    0           0           1           1   \n",
       "7                    1           0           0           1   \n",
       "8                    0           0           1           1   \n",
       "9                    1           0           0           1   \n",
       "\n",
       "   SER_1@O-LYS_12@N-H  SER_1@OG-V  \n",
       "0                   1           0  \n",
       "1                   1           0  \n",
       "2                   1           0  \n",
       "3                   1           1  \n",
       "4                   1           0  \n",
       "5                   1           1  \n",
       "6                   1           1  \n",
       "7                   1           0  \n",
       "8                   1           1  \n",
       "9                   1           1  "
      ]
     },
     "execution_count": 8,
     "metadata": {},
     "output_type": "execute_result"
    }
   ],
   "source": [
    "dslist.groupby(\"SER\").to_dataframe()"
   ]
  }
 ],
 "metadata": {
  "kernelspec": {
   "display_name": "Python 2",
   "language": "python",
   "name": "python2"
  },
  "language_info": {
   "codemirror_mode": {
    "name": "ipython",
    "version": 2
   },
   "file_extension": ".py",
   "mimetype": "text/x-python",
   "name": "python",
   "nbconvert_exporter": "python",
   "pygments_lexer": "ipython2",
   "version": "2.7.9"
  }
 },
 "nbformat": 4,
 "nbformat_minor": 0
}
