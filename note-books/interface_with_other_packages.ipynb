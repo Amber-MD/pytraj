{
 "cells": [
  {
   "cell_type": "markdown",
   "metadata": {},
   "source": [
    "Since no package is perfect and pytraj does not want to be perfect, we are trying to have a 'smooth talk' between `pytraj`\n",
    "and other packages such as pysander (will be released in AmberTools15), ParmEd (package for editing Topology and many more),\n",
    "or mdtraj and MDAnalysis (2 Python packages for MD analysis).\n",
    "\n",
    "    * Note: (to be filled more)"
   ]
  },
  {
   "cell_type": "markdown",
   "metadata": {},
   "source": [
    "## ParmEd"
   ]
  },
  {
   "cell_type": "code",
   "execution_count": 1,
   "metadata": {
    "collapsed": false
   },
   "outputs": [
    {
     "name": "stdout",
     "output_type": "stream",
     "text": [
      "No module named 'pytz'\n",
      "from ParmEd\n",
      "<AmberParm 304 atoms; 20 residues; 310 bonds; parametrized>\n",
      "from pytraj\n",
      "<Topology with 1 mols, 20 residues, 304 atoms, 310 bonds, non-PBC>\n",
      "<Topology with 1 mols, 20 residues, 304 atoms, 310 bonds, non-PBC>\n"
     ]
    }
   ],
   "source": [
    "## ParmEd\n",
    "\n",
    "import chemistry\n",
    "from chemistry import load_file\n",
    "\n",
    "pname = \"../tests/data/Tc5b.top\"\n",
    "\n",
    "# load to ParmEd object\n",
    "parm = load_file(pname)\n",
    "print (\"from ParmEd\")\n",
    "print (parm.__repr__())\n",
    "\n",
    "# convert to pytraj's Topology object\n",
    "# This is only pseudoparm, which means there is only Atom mask, residues, ... with no bonds. \n",
    "from pytraj import io\n",
    "pseudo_top = io.load_pseudo_parm(parm)\n",
    "print (\"from pytraj\") # no bonds info.\n",
    "print (pseudo_top)\n",
    "\n",
    "# we can load full Topology information to (behind the scene: pytraj would save and reload file)\n",
    "full_parm = io.load_full_ParmEd(parm)\n",
    "print (full_parm) # having bond info (will be added if anyone thinks this should be)"
   ]
  },
  {
   "cell_type": "code",
   "execution_count": 2,
   "metadata": {
    "collapsed": false
   },
   "outputs": [
    {
     "name": "stdout",
     "output_type": "stream",
     "text": [
      "<TrajReadOnly with 10 frames, 304 atoms/frame>\n",
      "           \n",
      "dict_keys(['amd_boost', 'vdw_14', 'pb', 'bond', 'constraint', 'les', 'ct', 'scf', 'gb', 'imp', 'elec_14', 'cmap', 'dvdl', 'angle', 'angle_ub', 'surf', 'tot', 'dihedral', 'vdw', 'polar', 'disp', 'hbond', 'elec', 'emap', 'noe', 'rism'])\n"
     ]
    }
   ],
   "source": [
    "# the point of using ParmEd object in pytraj is to post-process energy in simulation\n",
    "\n",
    "# we can load new trajectory\n",
    "traj = io.load(\"../tests/data/md1_prod.Tc5b.x\", pname)\n",
    "print (traj)\n",
    "\n",
    "# to calculat energy, we need to use pysander (python wrapper of `sander` program in Amber). pysander will be released\n",
    "# next few months in AmberTools15. stay tuned.\n",
    "\n",
    "# pytraj has wrapper to call pysander internally\n",
    "from pytraj.common_actions import calc_energies\n",
    "\n",
    "# calculate bond, dihedral, ... and implicit solvent (igb=8) energies.\n",
    "e_dict = calc_energies(parm, traj, igb=8)\n",
    "print (e_dict.keys())"
   ]
  },
  {
   "cell_type": "code",
   "execution_count": 3,
   "metadata": {
    "collapsed": false
   },
   "outputs": [
    {
     "name": "stdout",
     "output_type": "stream",
     "text": [
      "[69.75085151282191, 67.32323037339502, 54.356569176241145, 58.91231967248614, 80.72025558530078, 66.27135515789608, 81.91683307174073, 77.62477894319248, 74.49078120246152, 76.49473283118374]\n"
     ]
    }
   ],
   "source": [
    "print (e_dict['bond'])"
   ]
  },
  {
   "cell_type": "markdown",
   "metadata": {},
   "source": [
    "## mdtraj"
   ]
  },
  {
   "cell_type": "code",
   "execution_count": 4,
   "metadata": {
    "collapsed": false
   },
   "outputs": [
    {
     "name": "stdout",
     "output_type": "stream",
     "text": [
      "<mdtraj.Trajectory with 10 frames, 304 atoms, 20 residues, without unitcells> <class 'mdtraj.core.trajectory.Trajectory'>\n"
     ]
    }
   ],
   "source": [
    "# pytraj can load and can be used (partially) in `mdtraj` package too\n",
    "\n",
    "import mdtraj as md\n",
    "\n",
    "# load mdtraj object\n",
    "m_top = md.load_prmtop(\"../tests/data/Tc5b.top\")\n",
    "m_traj = md.load_mdcrd(\"../tests/data/md1_prod.Tc5b.x\", m_top)\n",
    "print (m_traj, m_traj.__class__)"
   ]
  },
  {
   "cell_type": "code",
   "execution_count": 5,
   "metadata": {
    "collapsed": false
   },
   "outputs": [
    {
     "name": "stdout",
     "output_type": "stream",
     "text": [
      "<FrameArray with 10 frames, 304 atoms/frame>\n",
      "           \n",
      "<Topology with 1 mols, 20 residues, 304 atoms, 310 bonds, non-PBC>\n"
     ]
    }
   ],
   "source": [
    "# let's load mdtraj object\n",
    "from pytraj import io\n",
    "\n",
    "pm_traj = io.load_mdtraj(m_traj)\n",
    "print(pm_traj)\n",
    "print (pm_traj.top)"
   ]
  },
  {
   "cell_type": "code",
   "execution_count": 6,
   "metadata": {
    "collapsed": false
   },
   "outputs": [
    {
     "name": "stdout",
     "output_type": "stream",
     "text": [
      "[  0.          10.39640522  10.62932301  12.00149822  11.76797771\n",
      "  11.38467979  11.92891216  11.82026386  11.63853741  12.42151833]\n",
      "[  0.          10.39640617  10.62932356  12.00149779  11.7679772\n",
      "  11.38468113  11.92891233  11.82026324  11.63853706  12.42151831]\n"
     ]
    }
   ],
   "source": [
    "# pytraj's object can be partially used in `mdtraj` too (as long as mdtraj use `xyz` ndarray to perform calculation\n",
    "\n",
    "# `traj` is pytraj object in previous example\n",
    "\n",
    "# use mdtraj to calculate rmsd to 1st frame, all atoms\n",
    "arr0 = md.rmsd(traj, traj, 0) # used pytraj's traj object in mdtraj\n",
    "print (arr0)\n",
    "\n",
    "# calculate rmsd in pytraj\n",
    "import numpy as np # for nicer printing\n",
    "f0 = traj[0]\n",
    "print (np.asarray([frame.rmsd(f0) for frame in traj])) # the results from pytraj and mdtraj are the same"
   ]
  }
 ],
 "metadata": {
  "kernelspec": {
   "display_name": "Python 3",
   "language": "python",
   "name": "python3"
  },
  "language_info": {
   "codemirror_mode": {
    "name": "ipython",
    "version": 3
   },
   "file_extension": ".py",
   "mimetype": "text/x-python",
   "name": "python",
   "nbconvert_exporter": "python",
   "pygments_lexer": "ipython3",
   "version": "3.4.3"
  }
 },
 "nbformat": 4,
 "nbformat_minor": 0
}
