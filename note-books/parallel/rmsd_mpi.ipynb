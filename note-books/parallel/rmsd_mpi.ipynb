{
 "cells": [
  {
   "cell_type": "markdown",
   "metadata": {},
   "source": [
    "# embarrassingly parallel"
   ]
  },
  {
   "cell_type": "code",
   "execution_count": 1,
   "metadata": {
    "collapsed": false
   },
   "outputs": [],
   "source": [
    "# require: mpi4py, python2.7\n",
    "# mpi4py does not work with python3.4 yet (AFAIK: installed mpi4py from conda)"
   ]
  },
  {
   "cell_type": "code",
   "execution_count": 2,
   "metadata": {
    "collapsed": false
   },
   "outputs": [
    {
     "name": "stdout",
     "output_type": "stream",
     "text": [
      "\r\n",
      "real\t0m1.510s\r\n",
      "user\t0m9.670s\r\n",
      "sys\t0m2.299s\r\n"
     ]
    }
   ],
   "source": [
    "# mpi version\n",
    "!time mpirun -n 8 python ./rmsd_mpi_example.py"
   ]
  },
  {
   "cell_type": "code",
   "execution_count": 3,
   "metadata": {
    "collapsed": false,
    "scrolled": true
   },
   "outputs": [
    {
     "name": "stdout",
     "output_type": "stream",
     "text": [
      "\r\n",
      "real\t0m10.528s\r\n",
      "user\t0m7.455s\r\n",
      "sys\t0m3.069s\r\n"
     ]
    }
   ],
   "source": [
    "# serial version\n",
    "!time python ./rmsd_serial_example.py"
   ]
  },
  {
   "cell_type": "code",
   "execution_count": 4,
   "metadata": {
    "collapsed": false
   },
   "outputs": [
    {
     "name": "stdout",
     "output_type": "stream",
     "text": [
      "\r\n",
      "real\t0m18.311s\r\n",
      "user\t0m18.045s\r\n",
      "sys\t0m2.598s\r\n"
     ]
    }
   ],
   "source": [
    "# mdtraj openmp version\n",
    "\n",
    "! export OMP_NUM_THREADS=8 && time python ./rmsd_openmp_mdtraj.py"
   ]
  },
  {
   "cell_type": "code",
   "execution_count": 5,
   "metadata": {
    "collapsed": false
   },
   "outputs": [
    {
     "name": "stdout",
     "output_type": "stream",
     "text": [
      "True\n",
      "[  0.           2.7885276    3.54482596 ...,  10.25132034  10.10238168\n",
      "  10.12056193]\n",
      "[  0.           2.7885276    3.54482596 ...,  10.25132034  10.10238168\n",
      "  10.12056193]\n"
     ]
    }
   ],
   "source": [
    "# speed up = ~ 7 times (serial pytraj vs mpi pytraj)\n",
    "# speed up = ~ 10 time vs mdtraj openmp version\n",
    "# make sure to get the same rmsd values for both mpi \n",
    "import numpy as np\n",
    "rmsd_serial = np.loadtxt(\"serial_rmsd.txt\")\n",
    "rmsd_mpi = np.loadtxt(\"mpi_rmsd.txt\")\n",
    "rmsd_openmp_mdtraj = np.loadtxt(\"rmsd_mdtraj_openmp.txt\") * 10 # mdtraj use `nm` unit. need ot \"*10\"\n",
    "print (np.any(rmsd_serial == rmsd_mpi))\n",
    "np.testing.assert_almost_equal(rmsd_mpi, rmsd_openmp_mdtraj, decimal=2) # need to use this since mdtraj use f4 (pytraj: f8)\n",
    "print (rmsd_serial[:-10])\n",
    "print (rmsd_mpi[:-10])"
   ]
  },
  {
   "cell_type": "markdown",
   "metadata": {},
   "source": [
    "# Code: mpi"
   ]
  },
  {
   "cell_type": "markdown",
   "metadata": {},
   "source": [
    "# %load rmsd_mpi_example.py\n",
    "``` python\n",
    "\"\"\"calculat RMSD for 8 replica trajs using 8 cores.\n",
    "Reference frame is the 1st frame of remd.x.000\n",
    "(embarrassingly parallel)\n",
    "\n",
    "System: 17443 atoms, 1000 frames, netcdf, 8 replicas (000 to 007), 200Mb/replica\n",
    "mpirun -n 8 python rmsd_mpi_example.py\n",
    "\"\"\"\n",
    "\n",
    "import numpy as np\n",
    "from pytraj import io\n",
    "from pytraj import Frame\n",
    "import pytraj.common_actions as pyca\n",
    "from mpi4py import MPI\n",
    "\n",
    "comm = MPI.COMM_WORLD\n",
    "rank = comm.rank\n",
    "size = comm.size\n",
    "\n",
    "root_dir = \"../../tests/data/nogit/remd/\"\n",
    "fname = root_dir + \"/remd.x.00\" + str(rank) # 000, 001, 002, 003 ...\n",
    "top_name = root_dir + \"myparm.top\"\n",
    "\n",
    "traj = io.load(fname, top_name)\n",
    "n_atoms =  traj.top.n_atoms\n",
    "n_frames = traj.n_frames\n",
    "\n",
    "if rank == 0:\n",
    "    ref = traj[0]\n",
    "    ref_xyz = np.asarray(ref.xyz, dtype=np.float64)\n",
    "else:\n",
    "    ref = None\n",
    "    ref_xyz = np.empty((n_atoms, 3), dtype=np.float64)\n",
    "\n",
    "# broadcast ref_xyz to other cores from master\n",
    "comm.Bcast([ref_xyz, MPI.DOUBLE])\n",
    "\n",
    "if rank != 0:\n",
    "    # need to reconstruct ref\n",
    "    ref = Frame()\n",
    "    ref.append_xyz(ref_xyz)\n",
    "\n",
    "_ref = ref.copy()\n",
    "\n",
    "def rmsd_mpi(traj, _ref):\n",
    "    arr0 = pyca.calc_rmsd(\"@CA\", traj, traj.top, _ref)\n",
    "    return arr0\n",
    "\n",
    "arr0 = rmsd_mpi(traj, _ref)\n",
    "\n",
    "if rank == 0:\n",
    "    data = np.empty(size * traj.n_frames, dtype=np.float64)\n",
    "else:\n",
    "    data = None\n",
    "\n",
    "data = comm.gather(arr0, root=0)\n",
    "if rank == 0:\n",
    "    all_rmsd = np.asarray(data).flatten()\n",
    "    np.savetxt(\"mpi_rmsd.txt\", all_rmsd)\n",
    "\n",
    "    # make sure to reproduce serial version\n",
    "    # YES\n",
    "    #sarr = np.empty((size, traj.n_frames))\n",
    "    #REF = None\n",
    "    #for i in range(size):\n",
    "    #    fname = \"remd.x.00\" + str(i)\n",
    "    #    straj = io.load(fname, traj.top)\n",
    "    #    if i == 0:\n",
    "    #        REF = straj[0]\n",
    "    #    sarr[i] = straj.calc_rmsd(\"@CA\", REF)\n",
    "    #print(np.any(all_rmsd == sarr.flatten()))\n",
    "```"
   ]
  },
  {
   "cell_type": "markdown",
   "metadata": {},
   "source": [
    "# Code: serial"
   ]
  },
  {
   "cell_type": "markdown",
   "metadata": {},
   "source": [
    "# %load rmsd_serial_example.py\n",
    "```python\n",
    "\"\"\"calculat RMSD for 8 replica trajs using 1 cores.\n",
    "Reference frame is the 1st frame of remd.x.000\n",
    "\n",
    "System: 17443 atoms, 1000 frames, netcdf, 8 replicas (000 to 007), 200Mb/replica\n",
    "\n",
    "python rmsd_serial_example.py\n",
    "\"\"\"\n",
    "\n",
    "import numpy as np\n",
    "from pytraj import io\n",
    "import pytraj.common_actions as pyca\n",
    "\n",
    "root_dir = \"../../tests/data/nogit/remd/\"\n",
    "top_name = root_dir + \"myparm.top\"\n",
    "\n",
    "# 8 replicas, 1000 frames\n",
    "size = 8\n",
    "sarr = np.empty((size, 1000))\n",
    "REF = None\n",
    "for i in range(size):\n",
    "    fname = root_dir + \"/remd.x.00\" + str(i) # 000, 001, 002, 003 ...\n",
    "    straj = io.load(fname, root_dir + \"/myparm.parm7\")\n",
    "    if i == 0:\n",
    "        REF = straj[0]\n",
    "    sarr[i] = straj.calc_rmsd(\"@CA\", REF)\n",
    "np.savetxt(\"./serial_rmsd.txt\", sarr.flatten())\n",
    "```"
   ]
  },
  {
   "cell_type": "markdown",
   "metadata": {},
   "source": [
    "# code mdtraj openmd"
   ]
  },
  {
   "cell_type": "markdown",
   "metadata": {},
   "source": [
    "# %load rmsd_openmp_mdtraj.py\n",
    "\n",
    "```python\n",
    "\"\"\"calculat RMSD for 8 replica trajs using openmp with 8 cores\n",
    "Reference frame is the 1st frame of remd.x.000\n",
    "\n",
    "System: 17443 atoms, 1000 frames, netcdf, 8 replicas (000 to 007), 200Mb/replica\n",
    "\n",
    "python rmsd_openmp_mdtraj.py\n",
    "\"\"\"\n",
    "\n",
    "import numpy as np\n",
    "import mdtraj as md\n",
    "\n",
    "size = 8\n",
    "sarr = np.empty((size, 1000))\n",
    "REF = None\n",
    "\n",
    "root_dir = \"../../tests/data/nogit/remd/\"\n",
    "\n",
    "for i in range(size):\n",
    "    fname = root_dir + \"/remd.x.00\" + str(i)\n",
    "    straj = md.load_netcdf(fname, root_dir + \"/myparm.parm7\")\n",
    "    indices = straj.top.select(\"name CA\")\n",
    "    if i == 0:\n",
    "        REF = straj[0]\n",
    "    sarr[i] = md.rmsd(straj, REF, 0, indices)\n",
    "np.savetxt(\"rmsd_mdtraj_openmp.txt\", sarr.flatten())\n",
    "```"
   ]
  }
 ],
 "metadata": {
  "kernelspec": {
   "display_name": "Python 2",
   "language": "python",
   "name": "python2"
  },
  "language_info": {
   "codemirror_mode": {
    "name": "ipython",
    "version": 2
   },
   "file_extension": ".py",
   "mimetype": "text/x-python",
   "name": "python",
   "nbconvert_exporter": "python",
   "pygments_lexer": "ipython2",
   "version": "2.7.9"
  }
 },
 "nbformat": 4,
 "nbformat_minor": 0
}
