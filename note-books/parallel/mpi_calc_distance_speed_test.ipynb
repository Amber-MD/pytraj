{
 "cells": [
  {
   "cell_type": "markdown",
   "metadata": {},
   "source": [
    "# Timing for calculating distance of 10000 distances/frame * 1000 frames"
   ]
  },
  {
   "cell_type": "code",
   "execution_count": 1,
   "metadata": {
    "collapsed": false
   },
   "outputs": [
    {
     "name": "stdout",
     "output_type": "stream",
     "text": [
      "Overwriting mpi_calc_distance_0_single_traj.py\n"
     ]
    }
   ],
   "source": [
    "%%file mpi_calc_distance_0_single_traj.py\n",
    "# (require: mpi4py, numpy)\n",
    "\n",
    "# always add those lines to your code\n",
    "import numpy as np\n",
    "from mpi4py import MPI\n",
    "from pytraj.parallel import map as pymap\n",
    "from pytraj import io\n",
    "import pytraj.common_actions as pyca\n",
    "from time import time\n",
    "\n",
    "comm = MPI.COMM_WORLD\n",
    "# end. you are free to update anything below here\n",
    "\n",
    "# split remd.x.000 to N cores and do calc_surf in parallel\n",
    "root_dir = \"../../tests/data/nogit/remd/\"\n",
    "traj_name = root_dir + \"/remd.x.000\"\n",
    "parm_name = root_dir + \"myparm.top\"\n",
    "Nsize = 10**4\n",
    "indices = np.random.randint(0, 999, size=Nsize*2).reshape(Nsize, 2)\n",
    "\n",
    "# load to TrajectoryIterator\n",
    "traj = io.iterload(traj_name, parm_name)\n",
    "\n",
    "# mapping different chunk of `traj` in N cores\n",
    "# need to provide `comm`\n",
    "# save `total_arr` to rank=0\n",
    "# others: total_arr = None\n",
    "t0 = time()\n",
    "total_arr = pymap(comm, pyca.calc_distance, traj, indices, top=traj.top, dtype='ndarray',\n",
    "                 root=0, n_frames=traj.n_frames/comm.size)\n",
    "if comm.rank == 0:\n",
    "    print (\"time to calculate 1000 distances/frame * 1000 frames = %2.2f (s) \"  % (time() - t0))\n",
    "\n",
    "if comm.rank != 0:\n",
    "    assert total_arr is None\n",
    "\n",
    "if comm.rank == 0:\n",
    "    # skip final array since its shape might be different from the rest\n",
    "    t0 = np.asarray(total_arr[:-1]).flatten()\n",
    "    t1 = np.asarray(total_arr[-1]).flatten()\n",
    "    t = np.append(t0, t1)\n",
    "    t_final = t.reshape(traj.n_frames, t.shape[0]/traj.n_frames)\n",
    "    print ('total array len: ', t_final.shape[0])\n",
    "    print ('total array len, 1st array: ', t_final[0].shape[0])\n",
    "\n",
    "    # assert to serial values\n",
    "    #t2 = pyca.calc_molsurf(traj, \"@CA\", dtype='ndarray')\n",
    "    #assert t.shape == t2.shape\n",
    "    #assert np.any(t == t2) == True\n"
   ]
  },
  {
   "cell_type": "code",
   "execution_count": 2,
   "metadata": {
    "collapsed": true
   },
   "outputs": [],
   "source": [
    "## 1 core"
   ]
  },
  {
   "cell_type": "code",
   "execution_count": 3,
   "metadata": {
    "collapsed": false
   },
   "outputs": [
    {
     "name": "stdout",
     "output_type": "stream",
     "text": [
      "time to calculate 1000 distances/frame * 1000 frames = 4.72 (s) \n",
      "('total array len: ', 1000)\n",
      "('total array len, 1st array: ', 10000)\n"
     ]
    }
   ],
   "source": [
    "!mpirun -n 1 python mpi_calc_distance_0_single_traj.py"
   ]
  },
  {
   "cell_type": "markdown",
   "metadata": {},
   "source": [
    "## 2 cores"
   ]
  },
  {
   "cell_type": "code",
   "execution_count": 4,
   "metadata": {
    "collapsed": false
   },
   "outputs": [
    {
     "name": "stdout",
     "output_type": "stream",
     "text": [
      "time to calculate 1000 distances/frame * 1000 frames = 2.47 (s) \n",
      "('total array len: ', 1000)\n",
      "('total array len, 1st array: ', 10000)\n"
     ]
    }
   ],
   "source": [
    "!mpirun -n 2 python mpi_calc_distance_0_single_traj.py"
   ]
  },
  {
   "cell_type": "markdown",
   "metadata": {},
   "source": [
    "## 4 cores"
   ]
  },
  {
   "cell_type": "code",
   "execution_count": 5,
   "metadata": {
    "collapsed": false
   },
   "outputs": [
    {
     "name": "stdout",
     "output_type": "stream",
     "text": [
      "time to calculate 1000 distances/frame * 1000 frames = 1.36 (s) \n",
      "('total array len: ', 1000)\n",
      "('total array len, 1st array: ', 10000)\n"
     ]
    }
   ],
   "source": [
    "!mpirun -n 4 python mpi_calc_distance_0_single_traj.py"
   ]
  },
  {
   "cell_type": "markdown",
   "metadata": {},
   "source": [
    "## 8 cores"
   ]
  },
  {
   "cell_type": "code",
   "execution_count": 6,
   "metadata": {
    "collapsed": false
   },
   "outputs": [
    {
     "name": "stdout",
     "output_type": "stream",
     "text": [
      "time to calculate 1000 distances/frame * 1000 frames = 0.86 (s) \n",
      "('total array len: ', 1000)\n",
      "('total array len, 1st array: ', 10000)\n"
     ]
    }
   ],
   "source": [
    "!mpirun -n 8 python mpi_calc_distance_0_single_traj.py"
   ]
  },
  {
   "cell_type": "markdown",
   "metadata": {},
   "source": [
    "# Efficiency"
   ]
  },
  {
   "cell_type": "code",
   "execution_count": 17,
   "metadata": {
    "collapsed": false,
    "scrolled": true
   },
   "outputs": [
    {
     "name": "stdout",
     "output_type": "stream",
     "text": [
      "2 cores =  95.55\n",
      "4 cores =  86.76\n",
      "8 cores =  68.60\n"
     ]
    }
   ],
   "source": [
    "print ('2 cores =  %2.2f' % (100 * 4.72/2.47/2))\n",
    "print ('4 cores =  %2.2f' % (100 * 4.72/1.36/4))\n",
    "print ('8 cores =  %2.2f' % (100 * 4.72/0.86/8))"
   ]
  },
  {
   "cell_type": "markdown",
   "metadata": {},
   "source": [
    "# Use in-memory Trajectory"
   ]
  },
  {
   "cell_type": "code",
   "execution_count": 5,
   "metadata": {
    "collapsed": false
   },
   "outputs": [
    {
     "name": "stdout",
     "output_type": "stream",
     "text": [
      "Overwriting mpi_calc_distance_1_single_traj.py\n"
     ]
    }
   ],
   "source": [
    "%%file mpi_calc_distance_1_single_traj.py\n",
    "# (require: mpi4py, numpy)\n",
    "\n",
    "# always add those lines to your code\n",
    "import numpy as np\n",
    "from mpi4py import MPI\n",
    "from pytraj.parallel import map as pymap\n",
    "from pytraj import io\n",
    "import pytraj.common_actions as pyca\n",
    "from time import time\n",
    "\n",
    "comm = MPI.COMM_WORLD\n",
    "# end. you are free to update anything below here\n",
    "\n",
    "# split remd.x.000 to N cores and do calc_surf in parallel\n",
    "root_dir = \"../../tests/data/nogit/remd/\"\n",
    "traj_name = root_dir + \"/remd.x.000\"\n",
    "parm_name = root_dir + \"myparm.top\"\n",
    "Nsize = 10**4\n",
    "indices = np.random.randint(0, 999, size=Nsize*2).reshape(Nsize, 2)\n",
    "\n",
    "# load to Trajectory\n",
    "traj = io.iterload(traj_name, parm_name)[:]\n",
    "\n",
    "# mapping different chunk of `traj` in N cores\n",
    "# need to provide `comm`\n",
    "# save `total_arr` to rank=0\n",
    "# others: total_arr = None\n",
    "t0 = time()\n",
    "total_arr = pymap(comm, pyca.calc_distance, traj, indices, top=traj.top, dtype='ndarray',\n",
    "                 root=0, n_frames=traj.n_frames/comm.size)\n",
    "if comm.rank == 0:\n",
    "    print (\"time to calculate 1000 distances/frame * 1000 frames = %2.2f (s) \"  % (time() - t0))\n",
    "\n",
    "if comm.rank != 0:\n",
    "    assert total_arr is None\n",
    "\n",
    "if comm.rank == 0:\n",
    "    # skip final array since its shape might be different from the rest\n",
    "    t0 = np.asarray(total_arr[:-1]).flatten()\n",
    "    t1 = np.asarray(total_arr[-1]).flatten()\n",
    "    t = np.append(t0, t1)\n",
    "    t_final = t.reshape(traj.n_frames, t.shape[0]/traj.n_frames)\n",
    "    print ('total array len: ', t_final.shape[0])\n",
    "    print ('total array len, 1st array: ', t_final[0].shape[0])\n",
    "\n",
    "    # assert to serial values\n",
    "    #t2 = pyca.calc_molsurf(traj, \"@CA\", dtype='ndarray')\n",
    "    #assert t.shape == t2.shape\n",
    "    #assert np.any(t == t2) == True"
   ]
  },
  {
   "cell_type": "code",
   "execution_count": 4,
   "metadata": {
    "collapsed": false
   },
   "outputs": [
    {
     "name": "stdout",
     "output_type": "stream",
     "text": [
      "time to calculate 1000 distances/frame * 1000 frames = 3.62 (s) \n",
      "('total array len: ', 1000)\n",
      "('total array len, 1st array: ', 10000)\n",
      "time to calculate 1000 distances/frame * 1000 frames = 0.99 (s) \n",
      "('total array len: ', 1000)\n",
      "('total array len, 1st array: ', 10000)\n",
      "time to calculate 1000 distances/frame * 1000 frames = 0.66 (s) \n",
      "('total array len: ', 1000)\n",
      "('total array len, 1st array: ', 10000)\n"
     ]
    }
   ],
   "source": [
    "!mpirun -n 1 python mpi_calc_distance_1_single_traj.py\n",
    "!mpirun -n 4 python mpi_calc_distance_1_single_traj.py\n",
    "!mpirun -n 8 python mpi_calc_distance_1_single_traj.py"
   ]
  }
 ],
 "metadata": {
  "kernelspec": {
   "display_name": "Python 2",
   "language": "python",
   "name": "python2"
  },
  "language_info": {
   "codemirror_mode": {
    "name": "ipython",
    "version": 2
   },
   "file_extension": ".py",
   "mimetype": "text/x-python",
   "name": "python",
   "nbconvert_exporter": "python",
   "pygments_lexer": "ipython2",
   "version": "2.7.9"
  }
 },
 "nbformat": 4,
 "nbformat_minor": 0
}
