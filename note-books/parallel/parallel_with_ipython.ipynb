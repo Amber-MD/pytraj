{
 "cells": [
  {
   "cell_type": "markdown",
   "metadata": {},
   "source": [
    "#### Note\n",
    "\n",
    "In order to use 4 cores, you need to install `ipython` and run below command in seperate terminal. \n",
    "\n",
    "```sh\n",
    "ipcluster start -n 4 --engines=MPIEngineSetLauncher\n",
    "```"
   ]
  },
  {
   "cell_type": "code",
   "execution_count": 1,
   "metadata": {
    "collapsed": false,
    "scrolled": true
   },
   "outputs": [
    {
     "data": {
      "text/plain": [
       "[0, 1, 2, 3]"
      ]
     },
     "execution_count": 1,
     "metadata": {},
     "output_type": "execute_result"
    }
   ],
   "source": [
    "# start ipython client\n",
    "from IPython.parallel import Client\n",
    "clients = Client()\n",
    "# make sure that we DO use 4 cores\n",
    "clients.ids"
   ]
  },
  {
   "cell_type": "code",
   "execution_count": 2,
   "metadata": {
    "collapsed": false
   },
   "outputs": [
    {
     "name": "stdout",
     "output_type": "stream",
     "text": [
      "%autopx enabled\n"
     ]
    }
   ],
   "source": [
    "# enter parallel mode. From now, we execute commands in all 4 nodes\n",
    "%autopx"
   ]
  },
  {
   "cell_type": "code",
   "execution_count": 3,
   "metadata": {
    "collapsed": false,
    "scrolled": true
   },
   "outputs": [
    {
     "name": "stdout",
     "output_type": "stream",
     "text": [
      "[stdout:0] 1\n",
      "[stdout:1] 2\n",
      "[stdout:2] 0\n",
      "[stdout:3] 3\n"
     ]
    }
   ],
   "source": [
    "# import mpi4py to get rank (I dont know how to get rank from ipython yet).\n",
    "from mpi4py import MPI\n",
    "rank = MPI.COMM_WORLD.rank\n",
    "print (rank)"
   ]
  },
  {
   "cell_type": "code",
   "execution_count": 4,
   "metadata": {
    "collapsed": false
   },
   "outputs": [
    {
     "name": "stdout",
     "output_type": "stream",
     "text": [
      "[stdout:0] \n",
      "<pytraj.TrajectoryIterator with 4000 frames: <Topology with 17443 atoms, 5666 residues, 5634 mols, 17452 bonds, PBC with box type = truncoct>>\n",
      "           \n",
      "[stdout:1] \n",
      "<pytraj.TrajectoryIterator with 4000 frames: <Topology with 17443 atoms, 5666 residues, 5634 mols, 17452 bonds, PBC with box type = truncoct>>\n",
      "           \n",
      "[stdout:2] \n",
      "<pytraj.TrajectoryIterator with 4000 frames: <Topology with 17443 atoms, 5666 residues, 5634 mols, 17452 bonds, PBC with box type = truncoct>>\n",
      "           \n",
      "[stdout:3] \n",
      "<pytraj.TrajectoryIterator with 4000 frames: <Topology with 17443 atoms, 5666 residues, 5634 mols, 17452 bonds, PBC with box type = truncoct>>\n",
      "           \n"
     ]
    }
   ],
   "source": [
    "# load `TrajectoryIterator` to each node\n",
    "# we are loading 4 replica trajs, 200 M each.\n",
    "\n",
    "import pytraj as pt\n",
    "traj = pt.iterload([\"./data/nogit/remd/remd.x.000\",\n",
    "                    \"./data/nogit/remd/remd.x.001\",\n",
    "                    \"./data/nogit/remd/remd.x.002\",\n",
    "                    \"./data/nogit/remd/remd.x.004\"], \"./data/nogit/remd/myparm.parm7\")\n",
    "print (traj)"
   ]
  },
  {
   "cell_type": "code",
   "execution_count": 5,
   "metadata": {
    "collapsed": false
   },
   "outputs": [
    {
     "name": "stdout",
     "output_type": "stream",
     "text": [
      "[stdout:0] \n",
      "<pytraj.core.frameiter.FrameIter with start=1000, stop=2000, stride=200 \n",
      "autoimage=True, rmsfit=(<Frame with 17443 atoms>, '@CA')> \n",
      "\n",
      "[stdout:1] \n",
      "<pytraj.core.frameiter.FrameIter with start=2000, stop=3000, stride=200 \n",
      "autoimage=True, rmsfit=(<Frame with 17443 atoms>, '@CA')> \n",
      "\n",
      "[stdout:2] \n",
      "<pytraj.core.frameiter.FrameIter with start=0, stop=1000, stride=200 \n",
      "autoimage=True, rmsfit=(<Frame with 17443 atoms>, '@CA')> \n",
      "\n",
      "[stdout:3] \n",
      "<pytraj.core.frameiter.FrameIter with start=3000, stop=4000, stride=200 \n",
      "autoimage=True, rmsfit=(<Frame with 17443 atoms>, '@CA')> \n",
      "\n"
     ]
    }
   ],
   "source": [
    "# since we want to use 4 cores to speed up our calculation. We need to split `traj` into 4 chunks\n",
    "# saying we want to do `autoimage`, then `rmsfit` to first frame, then calculate phi values for residue 4 and 5, then\n",
    "# we just need to create 4 independent iterators in each node with different (start, stop, stride)\n",
    "# NOTE: to make this notebook look nice, I used stride=200 to get less data.\n",
    "print (traj.split_iterators(n_chunks=4, stride=200, rank=rank, autoimage=True, rmsfit=(traj[0], '@CA')))"
   ]
  },
  {
   "cell_type": "code",
   "execution_count": 6,
   "metadata": {
    "collapsed": false
   },
   "outputs": [
    {
     "data": {
      "text/plain": [
       "\u001b[0;31mOut[0:4]: \u001b[0m\n",
       "OrderedDict([(u'phi:4', array([-47.35086751, -66.74990664, -57.28938819, -55.2935864 , -65.96906479])), (u'phi:5', array([  87.14510798,  125.22372104,  -67.75719088,  -76.00990448,\n",
       "         63.81106866]))])"
      ]
     },
     "metadata": {},
     "output_type": "display_data"
    },
    {
     "data": {
      "text/plain": [
       "\u001b[0;31mOut[1:4]: \u001b[0mOrderedDict([(u'phi:4', array([-48.5240012 , -67.52593951, -48.66738046, -64.49397896, -47.37284612])), (u'phi:5', array([-66.23860371, -72.52066004,  68.06294711, -71.22785313, -85.01771935]))])"
      ]
     },
     "metadata": {},
     "output_type": "display_data"
    },
    {
     "data": {
      "text/plain": [
       "\u001b[0;31mOut[2:4]: \u001b[0m\n",
       "OrderedDict([(u'phi:4', array([-76.54410603, -82.41555541, -72.73910819, -32.18948005, -60.7393818 ])), (u'phi:5', array([  68.45212642, -115.87636793,   88.48026246,  -65.84427223,\n",
       "        -75.06110822]))])"
      ]
     },
     "metadata": {},
     "output_type": "display_data"
    },
    {
     "data": {
      "text/plain": [
       "\u001b[0;31mOut[3:4]: \u001b[0m\n",
       "OrderedDict([(u'phi:4', array([-68.97014011, -57.75613538, -56.87883718, -68.34210047, -66.88863395])), (u'phi:5', array([ 165.9800418 , -178.27815588,  179.87481015,  -65.04365968,\n",
       "        120.21027024]))])"
      ]
     },
     "metadata": {},
     "output_type": "display_data"
    }
   ],
   "source": [
    "# now try to calc_phi for residue 4 and 5 (index starts from 1 if using string)\n",
    "# we use dtype='dict' to keep track the data\n",
    "pt.calc_phi(traj.split_iterators(n_chunks=4, stride=200, rank=rank, autoimage=True, rmsfit=(traj[0], '@CA')), \n",
    "           'resrange 4-5',\n",
    "           dtype='dict')"
   ]
  },
  {
   "cell_type": "code",
   "execution_count": 7,
   "metadata": {
    "collapsed": false
   },
   "outputs": [
    {
     "name": "stdout",
     "output_type": "stream",
     "text": [
      "[stdout:0] \n",
      "OrderedDict([(u'phi:4', array([-47.35086751, -66.74990664, -57.28938819, -55.2935864 , -65.96906479])), (u'phi:5', array([  87.14510798,  125.22372104,  -67.75719088,  -76.00990448,\n",
      "         63.81106866]))])\n",
      "[stdout:1] OrderedDict([(u'phi:4', array([-48.5240012 , -67.52593951, -48.66738046, -64.49397896, -47.37284612])), (u'phi:5', array([-66.23860371, -72.52066004,  68.06294711, -71.22785313, -85.01771935]))])\n",
      "[stdout:2] \n",
      "OrderedDict([(u'phi:4', array([-76.54410603, -82.41555541, -72.73910819, -32.18948005, -60.7393818 ])), (u'phi:5', array([  68.45212642, -115.87636793,   88.48026246,  -65.84427223,\n",
      "        -75.06110822]))])\n",
      "[stdout:3] \n",
      "OrderedDict([(u'phi:4', array([-68.97014011, -57.75613538, -56.87883718, -68.34210047, -66.88863395])), (u'phi:5', array([ 165.9800418 , -178.27815588,  179.87481015,  -65.04365968,\n",
      "        120.21027024]))])\n"
     ]
    }
   ],
   "source": [
    "# scattering data is not really easy to manipulate, so just `gather` them. In this case, we create a variable, like `data`\n",
    "# to hold the results\n",
    "# (we just re-do the caculation)\n",
    "data = pt.calc_phi(traj.split_iterators(n_chunks=4, stride=200, rank=rank, autoimage=True, rmsfit=(traj[0], '@CA')), \n",
    "                   'resrange 4-5', \n",
    "                   dtype='dict')\n",
    "print (data) # for each node"
   ]
  },
  {
   "cell_type": "code",
   "execution_count": 8,
   "metadata": {
    "collapsed": false
   },
   "outputs": [
    {
     "name": "stdout",
     "output_type": "stream",
     "text": [
      "%autopx disabled\n"
     ]
    }
   ],
   "source": [
    "# we need to exit from `parallel` mode to go to local node so we can gather data\n",
    "%autopx"
   ]
  },
  {
   "cell_type": "code",
   "execution_count": 9,
   "metadata": {
    "collapsed": false
   },
   "outputs": [
    {
     "name": "stdout",
     "output_type": "stream",
     "text": [
      "{u'phi:4': array([-47.35086751, -66.74990664, -57.28938819, -55.2935864 ,\n",
      "       -65.96906479, -48.5240012 , -67.52593951, -48.66738046,\n",
      "       -64.49397896, -47.37284612, -76.54410603, -82.41555541,\n",
      "       -72.73910819, -32.18948005, -60.7393818 , -68.97014011,\n",
      "       -57.75613538, -56.87883718, -68.34210047, -66.88863395]), u'phi:5': array([  87.14510798,  125.22372104,  -67.75719088,  -76.00990448,\n",
      "         63.81106866,  -66.23860371,  -72.52066004,   68.06294711,\n",
      "        -71.22785313,  -85.01771935,   68.45212642, -115.87636793,\n",
      "         88.48026246,  -65.84427223,  -75.06110822,  165.9800418 ,\n",
      "       -178.27815588,  179.87481015,  -65.04365968,  120.21027024])}\n"
     ]
    }
   ],
   "source": [
    "from pytraj.parallel import gather\n",
    "all_data = gather('data', clients, restype='dict')\n",
    "print (all_data)"
   ]
  },
  {
   "cell_type": "code",
   "execution_count": 11,
   "metadata": {
    "collapsed": false
   },
   "outputs": [
    {
     "name": "stdout",
     "output_type": "stream",
     "text": [
      "        phi:4       phi:5\n",
      "0  -47.350868   87.145108\n",
      "1  -66.749907  125.223721\n",
      "2  -57.289388  -67.757191\n",
      "3  -55.293586  -76.009904\n",
      "4  -65.969065   63.811069\n",
      "5  -48.524001  -66.238604\n",
      "6  -67.525940  -72.520660\n",
      "7  -48.667380   68.062947\n",
      "8  -64.493979  -71.227853\n",
      "9  -47.372846  -85.017719\n",
      "10 -76.544106   68.452126\n",
      "11 -82.415555 -115.876368\n",
      "12 -72.739108   88.480262\n",
      "13 -32.189480  -65.844272\n",
      "14 -60.739382  -75.061108\n",
      "15 -68.970140  165.980042\n",
      "16 -57.756135 -178.278156\n",
      "17 -56.878837  179.874810\n",
      "18 -68.342100  -65.043660\n",
      "19 -66.888634  120.210270\n",
      "<class 'pandas.core.frame.DataFrame'>\n"
     ]
    }
   ],
   "source": [
    "# if we like pandas and want to convert to pandas.DataFrame, just\n",
    "import pandas as pd\n",
    "df = pd.DataFrame(all_data)\n",
    "print (df)\n",
    "print (type(df))"
   ]
  },
  {
   "cell_type": "markdown",
   "metadata": {},
   "source": [
    "### See also\n",
    "\n",
    "[Using IPython for parallel computing](http://ipython.org/ipython-doc/2/parallel/magics.html)"
   ]
  }
 ],
 "metadata": {
  "kernelspec": {
   "display_name": "Python 2",
   "language": "python",
   "name": "python2"
  },
  "language_info": {
   "codemirror_mode": {
    "name": "ipython",
    "version": 2
   },
   "file_extension": ".py",
   "mimetype": "text/x-python",
   "name": "python",
   "nbconvert_exporter": "python",
   "pygments_lexer": "ipython2",
   "version": "2.7.10"
  }
 },
 "nbformat": 4,
 "nbformat_minor": 0
}
