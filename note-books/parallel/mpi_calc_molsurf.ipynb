{
 "cells": [
  {
   "cell_type": "markdown",
   "metadata": {},
   "source": [
    "# Run MPI"
   ]
  },
  {
   "cell_type": "code",
   "execution_count": 1,
   "metadata": {
    "collapsed": false,
    "scrolled": true
   },
   "outputs": [
    {
     "name": "stdout",
     "output_type": "stream",
     "text": [
      "('total array len: ', 1000)\r\n"
     ]
    }
   ],
   "source": [
    "!mpirun -n 4 python ../../examples/mpi_examples/mpi_calc_molsurf_0_single_traj.py"
   ]
  },
  {
   "cell_type": "code",
   "execution_count": 2,
   "metadata": {
    "collapsed": false,
    "scrolled": true
   },
   "outputs": [
    {
     "name": "stdout",
     "output_type": "stream",
     "text": [
      "('total array len: ', 5000)\r\n"
     ]
    }
   ],
   "source": [
    "!mpirun -n 5 python ../../examples/mpi_examples/mpi_calc_molsurf_0_list_of_trajs.py"
   ]
  },
  {
   "cell_type": "code",
   "execution_count": 3,
   "metadata": {
    "collapsed": false
   },
   "outputs": [
    {
     "name": "stdout",
     "output_type": "stream",
     "text": [
      "1.3\n",
      "0.1.2.dev4\n"
     ]
    }
   ],
   "source": [
    "import mpi4py\n",
    "from pytraj.__version__ import __version__ as pytraj_version\n",
    "print (mpi4py.__version__)\n",
    "print (pytraj_version)"
   ]
  },
  {
   "cell_type": "markdown",
   "metadata": {},
   "source": [
    "# Code example: Single trajectory"
   ]
  },
  {
   "cell_type": "code",
   "execution_count": null,
   "metadata": {
    "collapsed": true
   },
   "outputs": [],
   "source": [
    "# %load ../../examples/mpi_examples/mpi_calc_molsurf_0_single_traj.py\n",
    "# (require: mpi4py, numpy)\n",
    "# mpirun -n 4 python mpi_cal_molsurf_0.py\n",
    "\n",
    "# always add those lines to your code\n",
    "import numpy as np\n",
    "from mpi4py import MPI\n",
    "from pytraj.parallel import map as pymap\n",
    "from pytraj import io\n",
    "import pytraj.common_actions as pyca\n",
    "\n",
    "comm = MPI.COMM_WORLD\n",
    "# end. you are free to update anything below here\n",
    "\n",
    "# split remd.x.000 to N cores and do calc_surf in parallel\n",
    "root_dir = \"../../tests/data/nogit/remd/\"\n",
    "traj_name = root_dir + \"/remd.x.000\"\n",
    "parm_name = root_dir + \"myparm.top\"\n",
    "\n",
    "# load to TrajReadOnly\n",
    "traj = io.load(traj_name, parm_name)\n",
    "\n",
    "# mapping different chunk of `traj` in N cores\n",
    "# need to provide `comm`\n",
    "# save `total_arr` to rank=0\n",
    "# others: total_arr = None\n",
    "total_arr = pymap(comm, pyca.calc_molsurf, traj, \"@CA\", top=traj.top, root=0)\n",
    "\n",
    "if comm.rank != 0:\n",
    "    assert total_arr is None\n",
    "\n",
    "if comm.rank == 0:\n",
    "    # skip final array since its shape might be different from the rest\n",
    "    t0 = np.asarray(total_arr[:-1]).flatten()\n",
    "    t1 = np.asarray(total_arr[-1]).flatten()\n",
    "    t = np.append(t0, t1)\n",
    "    print ('total array len: ', t.shape[0])\n",
    "\n",
    "    # assert to serial values\n",
    "    #t2 = pyca.calc_molsurf(traj, \"@CA\", dtype='ndarray')\n",
    "    #assert t.shape == t2.shape\n",
    "    #assert np.any(t == t2) == True\n"
   ]
  },
  {
   "cell_type": "markdown",
   "metadata": {},
   "source": [
    "# Code example: a list of trajectory"
   ]
  },
  {
   "cell_type": "code",
   "execution_count": null,
   "metadata": {
    "collapsed": true
   },
   "outputs": [],
   "source": [
    "# %load ../../examples/mpi_examples/mpi_calc_molsurf_0_list_of_trajs.py\n",
    "# (require: mpi4py, numpy)\n",
    "# mpirun -n 4 python mpi_cal_molsurf_0.py\n",
    "\n",
    "# always add those lines to your code\n",
    "import numpy as np\n",
    "from mpi4py import MPI\n",
    "from pytraj.parallel import map as pymap\n",
    "from pytraj import io\n",
    "import pytraj.common_actions as pyca\n",
    "\n",
    "comm = MPI.COMM_WORLD\n",
    "# end. you are free to update anything below here\n",
    "\n",
    "# split remd.x.000 to N cores and do calc_molsurf in parallel\n",
    "root_dir = \"../../tests/data/nogit/remd/\"\n",
    "parm_name = root_dir + \"myparm.top\"\n",
    "top = io.load(parm_name)\n",
    "\n",
    "# load to TrajReadOnly\n",
    "trajlist = []\n",
    "for i in range(comm.size):\n",
    "    ext = \"00\" + str(i)\n",
    "    traj_name = root_dir + \"/remd.x.\" + ext # 000, 001, 002\n",
    "    trajlist.append(io.load(traj_name, top))\n",
    "\n",
    "# mapping different traj to N cores\n",
    "# need to provide `comm`\n",
    "total_arr = pymap(comm, pyca.calc_molsurf, trajlist, \"@CA\", top=top)\n",
    "\n",
    "# gathering the data to root=0\n",
    "#if comm.rank == 0:\n",
    "#    total_arr =  np.empty(comm.size)\n",
    "#else:\n",
    "#    total_arr = None\n",
    "#total_arr = comm.gather(arr, root=0)\n",
    "\n",
    "if comm.rank == 0:\n",
    "    # skip final array since its shape might be different from the rest\n",
    "    t0 = np.asarray(total_arr[:-1]).flatten()\n",
    "    t1 = np.asarray(total_arr[-1]).flatten()\n",
    "    t = np.append(t0, t1)\n",
    "    print ('total array len: ', t.shape[0])\n",
    "\n",
    "    # assert to serial values\n",
    "    #t2 = pyca.calc_molsurf(trajlist, \"@CA\", dtype='ndarray')\n",
    "    #assert t.shape == t2.shape\n",
    "    #assert np.any(t == t2) == True\n"
   ]
  }
 ],
 "metadata": {
  "kernelspec": {
   "display_name": "Python 2",
   "language": "python",
   "name": "python2"
  },
  "language_info": {
   "codemirror_mode": {
    "name": "ipython",
    "version": 2
   },
   "file_extension": ".py",
   "mimetype": "text/x-python",
   "name": "python",
   "nbconvert_exporter": "python",
   "pygments_lexer": "ipython2",
   "version": "2.7.9"
  }
 },
 "nbformat": 4,
 "nbformat_minor": 0
}
