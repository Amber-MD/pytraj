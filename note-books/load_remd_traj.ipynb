{
 "cells": [
  {
   "cell_type": "code",
   "execution_count": 10,
   "metadata": {
    "collapsed": true
   },
   "outputs": [],
   "source": [
    "import pytraj.io as io"
   ]
  },
  {
   "cell_type": "code",
   "execution_count": 11,
   "metadata": {
    "collapsed": false
   },
   "outputs": [
    {
     "name": "stdout",
     "output_type": "stream",
     "text": [
      "<pytraj.TrajectoryREMDIterator with 10 frames: <Topology with 1 mols, 3 residues, 22 atoms, 21 bonds, non-PBC>>\n",
      "           \n"
     ]
    }
   ],
   "source": [
    "lowest_replica_file = \"../tests/data/Test_RemdTraj/rem.nc.000\"\n",
    "top_name = \"../tests/data/Test_RemdTraj/ala2.99sb.mbondi2.parm7\"\n",
    "\n",
    "# need to specify temperature `T`. `cpptraj` will go over all replica trajs and find frames with specified `T`\n",
    "# return `TrajectoryREMDIterator` class. Don't `push hard` on this object if you have so mayny replica trajs (like the ones from\n",
    "# explicite water remd)\n",
    "\n",
    "remd_traj = io.iterload_remd(lowest_replica_file, top_name, T=300.0)\n",
    "print (remd_traj)"
   ]
  },
  {
   "cell_type": "code",
   "execution_count": 12,
   "metadata": {
    "collapsed": false
   },
   "outputs": [
    {
     "name": "stdout",
     "output_type": "stream",
     "text": [
      "[300.0, 300.0, 300.0, 300.0, 300.0, 300.0, 300.0, 300.0, 300.0, 300.0]\n"
     ]
    }
   ],
   "source": [
    "tset = [frame.temperature for frame in remd_traj] # note: if you have 64 replicas, cpptraj will have really really hard job to \n",
    "# extract temperature\n",
    "print (tset) # get all frames with 300.0K"
   ]
  },
  {
   "cell_type": "code",
   "execution_count": 13,
   "metadata": {
    "collapsed": false
   },
   "outputs": [
    {
     "name": "stdout",
     "output_type": "stream",
     "text": [
      "<pytraj.TrajectoryIterator with 10 frames: <Topology with 1 mols, 3 residues, 22 atoms, 21 bonds, non-PBC>>\n",
      "           \n",
      "\n",
      "normal: [300.0, 630.5, 630.5, 630.5, 630.5, 630.5, 630.5, 630.5, 492.2, 384.3]\n"
     ]
    }
   ],
   "source": [
    "# let see the normal method without REMD\n",
    "# this time, we use `iterload` instead of `iterload_remd`, and we don't need to specify temperature\n",
    "normal_traj = io.iterload(lowest_replica_file, top_name)\n",
    "print (normal_traj)\n",
    "\n",
    "# let's see the temperatures\n",
    "print(\"\")\n",
    "tset = [frame.temperature for frame in normal_traj] \n",
    "print (\"normal:\", tset) # you will see different temperatures"
   ]
  },
  {
   "cell_type": "code",
   "execution_count": 14,
   "metadata": {
    "collapsed": false
   },
   "outputs": [
    {
     "name": "stdout",
     "output_type": "stream",
     "text": [
      "<pytraj.Trajectory with 10 frames: <Topology with 1 mols, 3 residues, 22 atoms, 21 bonds, non-PBC>>\n",
      "           \n"
     ]
    }
   ],
   "source": [
    "# we can use `load_remd` method to load all frames with given temperatures too disk too\n",
    "# Warning: only do this if you REALLY know what's going on\n",
    "\n",
    "remd_traj_mutable = io.load_remd(lowest_replica_file, top_name, T=300.0)\n",
    "print (remd_traj_mutable) # Trajectory object"
   ]
  },
  {
   "cell_type": "code",
   "execution_count": 26,
   "metadata": {
    "collapsed": false,
    "scrolled": true
   },
   "outputs": [
    {
     "name": "stdout",
     "output_type": "stream",
     "text": [
      "\n",
      "vector center of mass\n",
      "[[ 4.02486516  4.66107113 -0.57875982]\n",
      " [ 4.2990383   4.7391308  -0.6885253 ]\n",
      " [ 4.27489421  4.65683514 -0.41559405]\n",
      " [ 4.27505492  4.7642537  -0.54624093]\n",
      " [ 4.3164321   5.14020217 -0.93607934]\n",
      " [ 4.28474755  5.19232322 -0.81862928]\n",
      " [ 4.10281725  5.10218675 -0.80240338]\n",
      " [ 4.34661053  4.49710147 -0.6523677 ]\n",
      " [ 4.42110788  4.94994872 -0.69819321]\n",
      " [ 4.69328941  5.14156512 -0.81232491]]\n"
     ]
    }
   ],
   "source": [
    "# Can we apply `action` with TrajectoryREMDIterator? Yes, of course\n",
    "\n",
    "import pytraj.common_actions as pyca\n",
    "\n",
    "print (\"\")\n",
    "print (\"vector center of mass\")\n",
    "print (pyca.calc_COM(remd_traj).to_ndarray())"
   ]
  }
 ],
 "metadata": {
  "kernelspec": {
   "display_name": "Python 3",
   "language": "python",
   "name": "python3"
  },
  "language_info": {
   "codemirror_mode": {
    "name": "ipython",
    "version": 3
   },
   "file_extension": ".py",
   "mimetype": "text/x-python",
   "name": "python",
   "nbconvert_exporter": "python",
   "pygments_lexer": "ipython3",
   "version": "3.4.3"
  }
 },
 "nbformat": 4,
 "nbformat_minor": 0
}
