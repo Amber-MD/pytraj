{
 "cells": [
  {
   "cell_type": "code",
   "execution_count": 1,
   "metadata": {
    "collapsed": false,
    "scrolled": true
   },
   "outputs": [
    {
     "name": "stdout",
     "output_type": "stream",
     "text": [
      "<pytraj.Trajectory with 1000 frames: <Topology with 5634 mols, 5666 residues, 17443 atoms, 17452 bonds, PBC with box type = truncoct>>\n",
      "           \n",
      "<mdtraj.Trajectory with 1000 frames, 17443 atoms, 5666 residues, and unitcells>\n"
     ]
    }
   ],
   "source": [
    "from pytraj import io\n",
    "import mdtraj as md\n",
    "\n",
    "fname = \"../../tests/data/nogit/remd/remd.000.nc\"\n",
    "topname = \"../../tests/data/nogit/remd/myparm.parm7\"\n",
    "\n",
    "fa = io.load(fname, topname)\n",
    "m_traj = md.load_netcdf(fname, top=topname)\n",
    "\n",
    "print (fa)\n",
    "print (m_traj)"
   ]
  },
  {
   "cell_type": "markdown",
   "metadata": {},
   "source": [
    "### calculate distances for 1000 frames with 10*4 atompairs"
   ]
  },
  {
   "cell_type": "code",
   "execution_count": 2,
   "metadata": {
    "collapsed": false
   },
   "outputs": [
    {
     "name": "stdout",
     "output_type": "stream",
     "text": [
      "\n",
      " pytraj\n",
      "1 loops, best of 3: 901 ms per loop\n",
      "\n",
      " mdtraj: periodic=True, opt=True\n",
      "1 loops, best of 3: 525 ms per loop\n",
      "\n",
      " mdtraj: periodic=False, opt=True: fastest, using SSE\n",
      "1 loops, best of 3: 253 ms per loop\n",
      "\n",
      " mdtraj: periodic=False, opt=False (numpy version?)\n",
      "1 loops, best of 3: 3.96 s per loop\n"
     ]
    }
   ],
   "source": [
    "import numpy as np\n",
    "Nsize = 10**4\n",
    "indices = np.random.randint(0, fa.size-1, size=Nsize*2).reshape(Nsize, 2)\n",
    "\n",
    "print (\"\\n pytraj\")\n",
    "%timeit fa.calc_distance(indices)\n",
    "\n",
    "print (\"\\n mdtraj: periodic=True, opt=True\")\n",
    "%timeit md.compute_distances(m_traj, indices)\n",
    "\n",
    "print (\"\\n mdtraj: periodic=False, opt=True: fastest, using SSE\")\n",
    "%timeit md.compute_distances(m_traj, indices, periodic=False)\n",
    "\n",
    "print (\"\\n mdtraj: periodic=False, opt=False (numpy version?)\")\n",
    "%timeit md.compute_distances(m_traj, indices, periodic=False, opt=False)\n",
    "\n",
    "# mdtraj is much faster for single calculation (62 times faster, openmp?). \n",
    "# Not sure about including mask like :2-100@CB,CA ..."
   ]
  },
  {
   "cell_type": "markdown",
   "metadata": {},
   "source": [
    "### calculate distances for single frames with 10*4 atompairs"
   ]
  },
  {
   "cell_type": "code",
   "execution_count": 3,
   "metadata": {
    "collapsed": false,
    "scrolled": true
   },
   "outputs": [
    {
     "name": "stdout",
     "output_type": "stream",
     "text": [
      "\n",
      " pytraj\n",
      "1000 loops, best of 3: 774 µs per loop\n",
      "\n",
      " mdtraj: periodic=True, opt=True\n",
      "1000 loops, best of 3: 908 µs per loop\n",
      "\n",
      " mdtraj: periodic=False, opt=True: fastest, using SSE\n",
      "1000 loops, best of 3: 339 µs per loop\n",
      "\n",
      " mdtraj: periodic=False, opt=False (numpy version?)\n",
      "100 loops, best of 3: 2.14 ms per loop\n"
     ]
    }
   ],
   "source": [
    "import numpy as np\n",
    "Nsize = 10**4\n",
    "indices = np.random.randint(0, fa.size-1, size=Nsize*2).reshape(Nsize, 2)\n",
    "frame = fa[0]\n",
    "m_frame = m_traj[0]\n",
    "\n",
    "print (\"\\n pytraj\")\n",
    "%timeit frame.calc_distance(indices)\n",
    "\n",
    "print (\"\\n mdtraj: periodic=True, opt=True\")\n",
    "%timeit md.compute_distances(m_frame, indices)\n",
    "\n",
    "print (\"\\n mdtraj: periodic=False, opt=True: fastest, using SSE\")\n",
    "%timeit md.compute_distances(m_frame, indices, periodic=False)\n",
    "\n",
    "print (\"\\n mdtraj: periodic=False, opt=False (numpy version?)\")\n",
    "%timeit md.compute_distances(m_frame, indices, periodic=False, opt=False)\n",
    "\n",
    "# mdtraj is much faster for single calculation (62 times faster, openmp?). \n",
    "# Not sure about including mask like :2-100@CB,CA ..."
   ]
  },
  {
   "cell_type": "markdown",
   "metadata": {},
   "source": [
    "### calculate distances for 1000 frames with 10*4 atompairs, using `iterload`"
   ]
  },
  {
   "cell_type": "code",
   "execution_count": 1,
   "metadata": {
    "collapsed": false
   },
   "outputs": [
    {
     "name": "stdout",
     "output_type": "stream",
     "text": [
      "\n",
      " pytraj: frame_iter\n",
      "1 loops, best of 3: 2.15 s per loop\n",
      "\n",
      " pytraj: frame_iter: openmp\n",
      "1 loops, best of 3: 1.23 s per loop\n",
      "\n",
      " pytraj: chunk_iter\n",
      "1 loops, best of 3: 2.86 s per loop\n",
      "\n",
      " mdtraj: periodic=False, opt=True: fastest, using SSE\n",
      "1 loops, best of 3: 3.45 s per loop\n"
     ]
    }
   ],
   "source": [
    "import numpy as np\n",
    "import mdtraj as md\n",
    "import pytraj.io as io\n",
    "\n",
    "\n",
    "def calc_pytraj_iterload_frame_iter():\n",
    "    Nsize = 10**4\n",
    "    indices = np.random.randint(0, 999, size=Nsize*2).reshape(Nsize, 2)\n",
    "    fname = \"../../tests/data/nogit/remd/remd.000.nc\"\n",
    "    topname = \"../../tests/data/nogit/remd/myparm.parm7\"\n",
    "    fa = io.iterload(fname, topname)\n",
    "    fa.calc_distance(indices)\n",
    "    \n",
    "def calc_pytraj_iterload_frame_iter_openmp():\n",
    "    Nsize = 10**4\n",
    "    indices = np.random.randint(0, 999, size=Nsize*2).reshape(Nsize, 2)\n",
    "    fname = \"../../tests/data/nogit/remd/remd.000.nc\"\n",
    "    topname = \"../../tests/data/nogit/remd/myparm.parm7\"\n",
    "    fa = io.iterload(fname, topname)\n",
    "    for frame in fa:\n",
    "        frame.calc_distance(indices, parallel=True)\n",
    "\n",
    "def calc_pytraj_iterload_chunk_iter():\n",
    "    Nsize = 10**4\n",
    "    indices = np.random.randint(0, 999, size=Nsize*2).reshape(Nsize, 2)\n",
    "    fname = \"../../tests/data/nogit/remd/remd.000.nc\"\n",
    "    topname = \"../../tests/data/nogit/remd/myparm.parm7\"\n",
    "    fa = io.iterload(fname, topname)\n",
    "    for chunk in fa.chunk_iter(chunk=100):\n",
    "        chunk.calc_distance(indices)\n",
    "    \n",
    "def calc_mdtraj_iterload():\n",
    "    Nsize = 10**4\n",
    "    indices = np.random.randint(0, 999, size=Nsize*2).reshape(Nsize, 2)\n",
    "    fname = \"../../tests/data/nogit/remd/remd.000.nc\"\n",
    "    topname = \"../../tests/data/nogit/remd/myparm.parm7\"\n",
    "    for chunk in md.iterload(fname, top=topname):\n",
    "        md.compute_distances(chunk, indices, periodic=False, opt=True)\n",
    "\n",
    "print (\"\\n pytraj: frame_iter\")\n",
    "%timeit calc_pytraj_iterload_frame_iter()\n",
    "\n",
    "print (\"\\n pytraj: frame_iter: openmp\") # poor scaling.\n",
    "%timeit calc_pytraj_iterload_frame_iter_openmp()\n",
    "\n",
    "print (\"\\n pytraj: chunk_iter\")\n",
    "%timeit calc_pytraj_iterload_chunk_iter()\n",
    "\n",
    "print (\"\\n mdtraj: periodic=False, opt=True: fastest, using SSE\")\n",
    "%timeit calc_mdtraj_iterload()"
   ]
  }
 ],
 "metadata": {
  "kernelspec": {
   "display_name": "Python 3",
   "language": "python",
   "name": "python3"
  },
  "language_info": {
   "codemirror_mode": {
    "name": "ipython",
    "version": 3
   },
   "file_extension": ".py",
   "mimetype": "text/x-python",
   "name": "python",
   "nbconvert_exporter": "python",
   "pygments_lexer": "ipython3",
   "version": "3.4.3"
  }
 },
 "nbformat": 4,
 "nbformat_minor": 0
}
