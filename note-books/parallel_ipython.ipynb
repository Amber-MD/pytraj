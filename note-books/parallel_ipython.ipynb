{
 "cells": [
  {
   "cell_type": "code",
   "execution_count": 11,
   "metadata": {
    "collapsed": true
   },
   "outputs": [],
   "source": [
    "# please read this one first about ipython and parallel in ipyton\n",
    "# http://www.astro.washington.edu/users/vanderplas/Astr599/notebooks/21_IPythonParallel"
   ]
  },
  {
   "cell_type": "code",
   "execution_count": 12,
   "metadata": {
    "collapsed": false
   },
   "outputs": [
    {
     "name": "stdout",
     "output_type": "stream",
     "text": [
      "[0, 1, 2, 3]\n"
     ]
    }
   ],
   "source": [
    "from IPython.parallel import Client\n",
    "\n",
    "# create client\n",
    "c = Client()\n",
    "\n",
    "# check if we successfully use 4 cores\n",
    "print (c.ids)"
   ]
  },
  {
   "cell_type": "markdown",
   "metadata": {},
   "source": [
    "## Aim: use 4 cores at the same time to process 4 remd trajs from REMD run"
   ]
  },
  {
   "cell_type": "code",
   "execution_count": 13,
   "metadata": {
    "collapsed": false
   },
   "outputs": [
    {
     "name": "stdout",
     "output_type": "stream",
     "text": [
      "../tests/data/Test_RemdTraj/rem.nc.000\t../tests/data/Test_RemdTraj/rem.nc.002\r\n",
      "../tests/data/Test_RemdTraj/rem.nc.001\t../tests/data/Test_RemdTraj/rem.nc.003\r\n"
     ]
    }
   ],
   "source": [
    "!ls ../tests/data/Test_RemdTraj/rem.nc.*\n",
    "\n",
    "# github link: https://github.com/mojyt/cpptraj/tree/master/test/Test_RemdTraj"
   ]
  },
  {
   "cell_type": "code",
   "execution_count": 29,
   "metadata": {
    "collapsed": true
   },
   "outputs": [],
   "source": [
    "# creat function to load file\n",
    "\n",
    "def load_file(myid):\n",
    "    from pytraj import io\n",
    "    fname = \"../tests/data/Test_RemdTraj/rem.nc.00%s\" % myid\n",
    "    return io.load(fname, \"../tests/data/Test_RemdTraj/ala2.99sb.mbondi2.parm7\")"
   ]
  },
  {
   "cell_type": "code",
   "execution_count": 30,
   "metadata": {
    "collapsed": false
   },
   "outputs": [
    {
     "name": "stdout",
     "output_type": "stream",
     "text": [
      "<DirectView [0, 1, 2, 3]>\n"
     ]
    }
   ],
   "source": [
    "dview = c[:]\n",
    "print (dview)"
   ]
  },
  {
   "cell_type": "code",
   "execution_count": null,
   "metadata": {
    "collapsed": true
   },
   "outputs": [],
   "source": [
    "!cat ../tests/data/Test_RemdTraj/rem.nc.000"
   ]
  }
 ],
 "metadata": {
  "kernelspec": {
   "display_name": "Python 3",
   "language": "python",
   "name": "python3"
  },
  "language_info": {
   "codemirror_mode": {
    "name": "ipython",
    "version": 3
   },
   "file_extension": ".py",
   "mimetype": "text/x-python",
   "name": "python",
   "nbconvert_exporter": "python",
   "pygments_lexer": "ipython3",
   "version": "3.4.3"
  }
 },
 "nbformat": 4,
 "nbformat_minor": 0
}
