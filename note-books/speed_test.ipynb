{
 "cells": [
  {
   "cell_type": "markdown",
   "metadata": {},
   "source": [
    "## `pytraj` vs `mdtraj`.\n",
    "\n",
    "I just want to test how slow and how fast `pytraj` is to further optimize the speed. \n",
    "This comparison won't be fair since I have limited knowdlege about `mdtraj`. And there is different in designing two packages (`cpptraj` used double precision while `mdtraj` use (mostly?) float32)\n",
    "\n",
    "### Note 1: The speed comparison might be very different in your computer since mdtraj use openmp for some calculations (rmsd, ...) and I did not set the number of cores to be used.\n",
    "    * sometimes mdtraj.rmsd is extremly fast (>10 times faster than pytraj)\n",
    "### Note 2: I updated `pytraj` vs `MDAnalysis` at the end of this page too\n",
    "### See also \n",
    "   *     [multiple_analysises.ipynb](multiple_analysises.ipynb)\n",
    "   *     [speed_test_2_trajs.ipynb](speed_test_2_trajs.ipynb)\n",
    "   *     [performance_tips.ipynb](performance_tips.ipynb)\n",
    "   *     [parallel/rmsd_mpi.ipynb](parallel/rmsd_mpi.ipynb)"
   ]
  },
  {
   "cell_type": "code",
   "execution_count": 1,
   "metadata": {
    "collapsed": false
   },
   "outputs": [
    {
     "name": "stdout",
     "output_type": "stream",
     "text": [
      "0.1.2.dev3\n",
      "1.4.0.dev0.dev-bb6923f\n"
     ]
    }
   ],
   "source": [
    "from pytraj.__version__ import __version__ as p_version\n",
    "print (p_version)\n",
    "from mdtraj.version import version as m_version\n",
    "print (m_version)"
   ]
  },
  {
   "cell_type": "markdown",
   "metadata": {},
   "source": [
    "## loading data"
   ]
  },
  {
   "cell_type": "code",
   "execution_count": 2,
   "metadata": {
    "collapsed": false
   },
   "outputs": [
    {
     "name": "stdout",
     "output_type": "stream",
     "text": [
      "200M\t../tests/data/nogit/remd/remd.x.000\n",
      "\n",
      "%VERSION  VERSION_STAMP = V0001.000  DATE = 03/13/14  02:23:52                  \n",
      "%FLAG TITLE                                                                     \n",
      "%FORMAT(20a4)                                                                   \n",
      "default_name                                                                    \n",
      "%FLAG POINTERS                                                                  \n",
      "%FORMAT(10I8)                                                                   \n",
      "   17443      16   17165     287     603     386    1257    1129       0       0\n",
      "   25521    5666     287     386    1129      61     139     179      32       1\n",
      "       0       0       0       0       0       0       0       2      24       0\n",
      "       0\n"
     ]
    }
   ],
   "source": [
    "# data is stored in local disk, generated from TIP3P REMD, netcdf\n",
    "\n",
    "from pytraj import io\n",
    "import mdtraj as md\n",
    "\n",
    "top_name = \"../tests/data/nogit/remd/myparm.parm7\"\n",
    "filename = \"../tests/data/nogit/remd/remd.x.000\"\n",
    "\n",
    "!du -sh \"../tests/data/nogit/remd/remd.x.000\"\n",
    "print ()\n",
    "!head \"../tests/data/nogit/remd/myparm.parm7\""
   ]
  },
  {
   "cell_type": "code",
   "execution_count": 3,
   "metadata": {
    "collapsed": false,
    "scrolled": true
   },
   "outputs": [
    {
     "name": "stdout",
     "output_type": "stream",
     "text": [
      "CPU times: user 2.09 s, sys: 449 ms, total: 2.54 s\n",
      "Wall time: 2.54 s\n",
      "CPU times: user 191 ms, sys: 14 ms, total: 205 ms\n",
      "Wall time: 205 ms\n",
      "CPU times: user 1.71 s, sys: 330 ms, total: 2.04 s\n",
      "Wall time: 2.24 s\n"
     ]
    },
    {
     "data": {
      "text/plain": [
       "<mdtraj.Trajectory with 1000 frames, 17443 atoms, 5666 residues, and unitcells at 0x2aaad0477e10>"
      ]
     },
     "execution_count": 3,
     "metadata": {},
     "output_type": "execute_result"
    }
   ],
   "source": [
    "# load whole traj into memory by FrameArray in pytraj\n",
    "# I don't use %timeit because it's terriblly slow in my computer\n",
    "\n",
    "%time io.load(filename, top_name)[:]\n",
    "# using cpptraj's class (Trajin_Single)\n",
    "%time io.load(filename, top_name) # the data is actually still in disk :D\n",
    "\n",
    "%time md.load_netcdf(filename, top=top_name)\n",
    "\n",
    "# pytraj fa: -1 (but not that slow)"
   ]
  },
  {
   "cell_type": "code",
   "execution_count": 4,
   "metadata": {
    "collapsed": false
   },
   "outputs": [],
   "source": [
    "fa = io.load(filename, top_name)[:10]\n",
    "m_traj = md.load_netcdf(filename, top=top_name)[:10]\n",
    "assert fa.n_frames == m_traj.n_frames"
   ]
  },
  {
   "cell_type": "markdown",
   "metadata": {},
   "source": [
    "## indexing"
   ]
  },
  {
   "cell_type": "code",
   "execution_count": 5,
   "metadata": {
    "collapsed": false
   },
   "outputs": [
    {
     "name": "stdout",
     "output_type": "stream",
     "text": [
      "single frame\n",
      "10000 loops, best of 3: 165 µs per loop\n",
      "10 loops, best of 3: 137 ms per loop\n",
      "\n",
      "slice\n",
      "10 loops, best of 3: 25 ms per loop\n",
      "10 loops, best of 3: 137 ms per loop\n"
     ]
    }
   ],
   "source": [
    "print(\"single frame\")\n",
    "%timeit fa[5]\n",
    "%timeit m_traj[5]\n",
    "\n",
    "print (\"\")\n",
    "print (\"slice\")\n",
    "%timeit fa[0:10:2]\n",
    "%timeit m_traj[0:10:2]"
   ]
  },
  {
   "cell_type": "markdown",
   "metadata": {},
   "source": [
    "## iterating"
   ]
  },
  {
   "cell_type": "code",
   "execution_count": 6,
   "metadata": {
    "collapsed": false
   },
   "outputs": [
    {
     "name": "stdout",
     "output_type": "stream",
     "text": [
      "The slowest run took 4.37 times longer than the fastest. This could mean that an intermediate result is being cached \n",
      "100000 loops, best of 3: 11.4 µs per loop\n",
      "1 loops, best of 3: 1.34 s per loop\n"
     ]
    }
   ],
   "source": [
    "%timeit for frame in fa: pass\n",
    "\n",
    "# mdtraj does not have Frame object, they have Trajecotory object with single frame\n",
    "%timeit for traj in m_traj: pass\n",
    "\n",
    "# iterating over Frame in pytraj is supper fast because we use C++ vector and we just moving the Frame pointer\n",
    "# mdtraj is quite slow (because iterating over numpy array?), however their strenth is in numpy array. When a chunk\n",
    "# of traj is loaded to numpy array, everything is very fast"
   ]
  },
  {
   "cell_type": "markdown",
   "metadata": {},
   "source": [
    "## iterload"
   ]
  },
  {
   "cell_type": "code",
   "execution_count": 6,
   "metadata": {
    "collapsed": false
   },
   "outputs": [
    {
     "name": "stdout",
     "output_type": "stream",
     "text": [
      "1 loops, best of 3: 2.53 s per loop\n",
      "1 loops, best of 3: 3.21 s per loop\n"
     ]
    }
   ],
   "source": [
    "# reimport files so I don't need to re-run this notebook\n",
    "fname = \"../tests/data/nogit/remd/remd.000.nc\" # I need to to rename the file ext from \".x.000\" to \".000.nc\" so mdtraj can load\n",
    "topname = \"../tests/data/nogit/remd/myparm.parm7\" # I need to rename the file from \".top\" to \"parm7\" so mdtraj can load\n",
    "import mdtraj as md\n",
    "import pytraj.io as io\n",
    "\n",
    "def iterload_pytraj():\n",
    "    traj = io.load(fname, topname) # we use TrajReadOnly, which does not load any frame to disk when we call \"io.load\"\n",
    "    for chunk in traj.chunk_iter(start=0, chunk=100):\n",
    "        pass\n",
    "    \n",
    "def iterload_mdtraj():\n",
    "    for chunk in md.iterload(fname, chunk=100, top=topname):\n",
    "        pass\n",
    "    \n",
    "%timeit iterload_pytraj()\n",
    "%timeit iterload_mdtraj()"
   ]
  },
  {
   "cell_type": "markdown",
   "metadata": {},
   "source": [
    "## calc_rmsd"
   ]
  },
  {
   "cell_type": "code",
   "execution_count": 7,
   "metadata": {
    "collapsed": false
   },
   "outputs": [
    {
     "name": "stdout",
     "output_type": "stream",
     "text": [
      "\n",
      "rmsd from pytraj, no parallel\n",
      "100 loops, best of 3: 16.9 ms per loop\n",
      "\n",
      "rmsd from mdtraj, no parallel\n",
      "10 loops, best of 3: 131 ms per loop\n",
      "\n",
      "rmsd from pytraj, with parallel\n",
      "1 loops, best of 3: 276 ms per loop\n",
      "\n",
      "compare speed between float32 and float64 for FakeTraj, no parallel\n",
      "10 loops, best of 3: 129 ms per loop\n",
      "10 loops, best of 3: 131 ms per loop\n",
      "\n",
      "compare speed between float32 and float64 for FakeTraj, with parallel\n",
      "1 loops, best of 3: 329 ms per loop\n",
      "1 loops, best of 3: 262 ms per loop\n",
      "\n",
      "rmsd for single frame, pytraj, no parallel\n",
      "1000 loops, best of 3: 1.59 ms per loop\n",
      "rmsd for single frame, mdtraj, no parallel\n",
      "10 loops, best of 3: 132 ms per loop\n",
      "rmsd for single frame, mdtraj, with parallel\n",
      "1 loops, best of 3: 306 ms per loop\n"
     ]
    }
   ],
   "source": [
    "f0 = fa[0]\n",
    "\n",
    "print (\"\")\n",
    "print (\"rmsd from pytraj, no parallel\")\n",
    "%timeit [frame.rmsd(f0) for frame in fa]\n",
    "\n",
    "print (\"\")\n",
    "print (\"rmsd from mdtraj, no parallel\")\n",
    "%timeit md.rmsd(m_traj, m_traj, 0, parallel=False)\n",
    "\n",
    "print (\"\")\n",
    "print (\"rmsd from pytraj, with parallel\")\n",
    "%timeit md.rmsd(m_traj, m_traj, 0, parallel=True)\n",
    "\n",
    "# mdtraj has very fast rmsd calculation (about >10 times faster). they use \"openmp\" (?) and float32 while we used float64\n",
    "\n",
    "# let's try convert pytraj's double precision traj to float32\n",
    "class FakeTraj:\n",
    "    def __init__(self, traj, astype='float64'):\n",
    "        import numpy as np\n",
    "        \n",
    "        self.top = traj.top.copy()\n",
    "        if astype == 'float64':\n",
    "            self.xyz = traj.xyz\n",
    "        elif astype == 'float32':\n",
    "            self.xyz = traj.xyz.astype(np.float32)\n",
    "        \n",
    "ftraj32 = FakeTraj(fa, astype='float32')\n",
    "ftraj64 = FakeTraj(fa)\n",
    "\n",
    "print (\"\")\n",
    "print (\"compare speed between float32 and float64 for FakeTraj, no parallel\")\n",
    "%timeit md.rmsd(ftraj32, ftraj32, 0, parallel=False)\n",
    "%timeit md.rmsd(ftraj64, ftraj64, 0, parallel=False)\n",
    "\n",
    "# using float32 make rms calculation >= 3 times faster\n",
    "\n",
    "print (\"\")\n",
    "print (\"compare speed between float32 and float64 for FakeTraj, with parallel\")\n",
    "%timeit md.rmsd(ftraj32, ftraj32, 0)\n",
    "%timeit md.rmsd(ftraj64, ftraj64, 0)\n",
    "\n",
    "# conclusion: use float32 + openmp to improve calculation in pytraj\n",
    "\n",
    "# rmsd for single frame\n",
    "f1 = fa[1]\n",
    "m_traj1 = m_traj[0]\n",
    "\n",
    "print (\"\")\n",
    "print (\"rmsd for single frame, pytraj, no parallel\")\n",
    "%timeit f1.rmsd(f0)\n",
    "print (\"rmsd for single frame, mdtraj, no parallel\")\n",
    "%timeit md.rmsd(m_traj1, m_traj1, 0, parallel=False)\n",
    "print (\"rmsd for single frame, mdtraj, with parallel\")\n",
    "%timeit md.rmsd(m_traj1, m_traj1, 0, parallel=True)"
   ]
  },
  {
   "cell_type": "markdown",
   "metadata": {},
   "source": [
    "## calc_radgyr"
   ]
  },
  {
   "cell_type": "code",
   "execution_count": 8,
   "metadata": {
    "collapsed": false
   },
   "outputs": [
    {
     "name": "stdout",
     "output_type": "stream",
     "text": [
      "10 loops, best of 3: 21.7 ms per loop\n",
      "10 loops, best of 3: 25.6 ms per loop\n"
     ]
    }
   ],
   "source": [
    "%timeit fa.calc_radgyr()\n",
    "%timeit md.compute_rg(m_traj)\n",
    "\n",
    "# pytraj/cpptraj is about 5 times faster"
   ]
  },
  {
   "cell_type": "markdown",
   "metadata": {},
   "source": [
    "## calc_dssp"
   ]
  },
  {
   "cell_type": "code",
   "execution_count": 9,
   "metadata": {
    "collapsed": false
   },
   "outputs": [
    {
     "name": "stdout",
     "output_type": "stream",
     "text": [
      "10 loops, best of 3: 21.3 ms per loop\n"
     ]
    }
   ],
   "source": [
    "## calc_dssp\n",
    "import numpy as np\n",
    "%timeit fa.calc_dssp(dtype='ndarray')"
   ]
  },
  {
   "cell_type": "code",
   "execution_count": 10,
   "metadata": {
    "collapsed": false
   },
   "outputs": [
    {
     "name": "stdout",
     "output_type": "stream",
     "text": [
      "1 loops, best of 3: 1.65 s per loop\n"
     ]
    }
   ],
   "source": [
    "%timeit md.compute_dssp(m_traj)"
   ]
  },
  {
   "cell_type": "raw",
   "metadata": {},
   "source": [
    "# cpptraj/pytraj is super fast (~350 times faster) (but I need to check the result)."
   ]
  },
  {
   "cell_type": "markdown",
   "metadata": {},
   "source": [
    "## calc_COM"
   ]
  },
  {
   "cell_type": "code",
   "execution_count": 11,
   "metadata": {
    "collapsed": false
   },
   "outputs": [
    {
     "name": "stdout",
     "output_type": "stream",
     "text": [
      "10 loops, best of 3: 21.2 ms per loop\n",
      "10 loops, best of 3: 29.7 ms per loop\n"
     ]
    }
   ],
   "source": [
    "%timeit fa.calc_COM()\n",
    "%timeit md.compute_center_of_mass(m_traj)\n",
    "\n",
    "# almost the same"
   ]
  },
  {
   "cell_type": "markdown",
   "metadata": {},
   "source": [
    "## calc_distance"
   ]
  },
  {
   "cell_type": "code",
   "execution_count": 12,
   "metadata": {
    "collapsed": false
   },
   "outputs": [
    {
     "name": "stdout",
     "output_type": "stream",
     "text": [
      "100 loops, best of 3: 24.9 ms per loop\n",
      "1000 loops, best of 3: 359 µs per loop\n"
     ]
    }
   ],
   "source": [
    "%timeit fa.calc_distance(\"@1 @300\")\n",
    "\n",
    "indices = np.array([[0, 299],])\n",
    "%timeit md.compute_distances(m_traj, indices)\n",
    "\n",
    "# mdtraj is much faster for single calculation (62 times faster, openmp?). \n",
    "# Not sure about including mask like :2-100@CB,CA ..."
   ]
  },
  {
   "cell_type": "markdown",
   "metadata": {},
   "source": [
    "## calc_psi"
   ]
  },
  {
   "cell_type": "code",
   "execution_count": 13,
   "metadata": {
    "collapsed": false
   },
   "outputs": [
    {
     "name": "stdout",
     "output_type": "stream",
     "text": [
      "10 loops, best of 3: 64.7 ms per loop\n",
      "10 loops, best of 3: 54.6 ms per loop\n"
     ]
    }
   ],
   "source": [
    "%timeit fa.calc_multidihedral(\"psi\")\n",
    "%timeit md.compute_psi(m_traj)\n",
    "\n",
    "# mdtraj is about 10 times faster. Not sure about mask selection"
   ]
  },
  {
   "cell_type": "markdown",
   "metadata": {},
   "source": [
    "## calc_phi"
   ]
  },
  {
   "cell_type": "code",
   "execution_count": 14,
   "metadata": {
    "collapsed": false
   },
   "outputs": [
    {
     "name": "stdout",
     "output_type": "stream",
     "text": [
      "10 loops, best of 3: 65.6 ms per loop\n",
      "10 loops, best of 3: 54.6 ms per loop\n"
     ]
    }
   ],
   "source": [
    "%timeit fa.calc_multidihedral(\"phi\")\n",
    "%timeit md.compute_phi(m_traj)\n",
    "\n",
    "# same result as calc_psi"
   ]
  },
  {
   "cell_type": "code",
   "execution_count": 15,
   "metadata": {
    "collapsed": false
   },
   "outputs": [
    {
     "name": "stdout",
     "output_type": "stream",
     "text": [
      "10 loops, best of 3: 184 ms per loop\n",
      "1 loops, best of 3: 270 ms per loop\n",
      "1 loops, best of 3: 328 ms per loop\n",
      "1 loops, best of 3: 216 ms per loop\n",
      "10 loops, best of 3: 108 ms per loop\n",
      "10 loops, best of 3: 55.2 ms per loop\n",
      "10 loops, best of 3: 55.5 ms per loop\n"
     ]
    }
   ],
   "source": [
    "# search all dihedral?\n",
    "\n",
    "%timeit fa.calc_multidihedral() # search all in pytraj/cpptraj\n",
    "\n",
    "%timeit md.compute_chi1(m_traj)\n",
    "%timeit md.compute_chi2(m_traj)\n",
    "%timeit md.compute_chi3(m_traj)\n",
    "%timeit md.compute_chi4(m_traj) \n",
    "%timeit md.compute_phi(m_traj)\n",
    "%timeit md.compute_psi(m_traj)"
   ]
  },
  {
   "cell_type": "markdown",
   "metadata": {},
   "source": [
    "## saving files"
   ]
  },
  {
   "cell_type": "code",
   "execution_count": 16,
   "metadata": {
    "collapsed": false
   },
   "outputs": [
    {
     "name": "stdout",
     "output_type": "stream",
     "text": [
      "10 loops, best of 3: 21.2 ms per loop\n",
      "100 loops, best of 3: 14.9 ms per loop\n"
     ]
    }
   ],
   "source": [
    "# netcdf\n",
    "\n",
    "%timeit fa.save(\"fa.nc\", overwrite=True)\n",
    "%timeit m_traj.save(\"m_traj.nc\")"
   ]
  },
  {
   "cell_type": "code",
   "execution_count": 17,
   "metadata": {
    "collapsed": false
   },
   "outputs": [
    {
     "name": "stdout",
     "output_type": "stream",
     "text": [
      "100 loops, best of 3: 6.66 ms per loop\n",
      "100 loops, best of 3: 9.23 ms per loop\n"
     ]
    }
   ],
   "source": [
    "# dcd\n",
    "\n",
    "%timeit fa.save(\"fa.dcd\", overwrite=True)\n",
    "%timeit m_traj.save(\"m_traj.dcd\")"
   ]
  },
  {
   "cell_type": "code",
   "execution_count": 18,
   "metadata": {
    "collapsed": false
   },
   "outputs": [
    {
     "name": "stdout",
     "output_type": "stream",
     "text": [
      "100 loops, best of 3: 6.75 ms per loop\n",
      "10 loops, best of 3: 34.5 ms per loop\n"
     ]
    }
   ],
   "source": [
    "# binpos\n",
    "\n",
    "%timeit fa.save(\"fa.binpos\", overwrite=True)\n",
    "%timeit m_traj.save(\"m_traj.binpos\")"
   ]
  },
  {
   "cell_type": "code",
   "execution_count": 19,
   "metadata": {
    "collapsed": false
   },
   "outputs": [
    {
     "name": "stdout",
     "output_type": "stream",
     "text": [
      "1 loops, best of 3: 396 ms per loop\n",
      "10 loops, best of 3: 20.6 ms per loop\n"
     ]
    }
   ],
   "source": [
    "# xtc # not sure cpptraj supports\n",
    "\n",
    "%timeit fa.save(\"fa.xtc\", overwrite=True)\n",
    "%timeit m_traj.save(\"m_traj.xtc\")"
   ]
  },
  {
   "cell_type": "markdown",
   "metadata": {},
   "source": [
    "# `pytraj` vs `MDAnalysis`"
   ]
  },
  {
   "cell_type": "code",
   "execution_count": 2,
   "metadata": {
    "collapsed": true
   },
   "outputs": [],
   "source": [
    "# I need to rename my files because `MDAanlysis` need correct extension to read file\n",
    "# since `MDAnalysis` uses frame-iterating fashion, I will use TrajReadOnly in `pytraj` to have more fair comparison becuase\n",
    "# `TrajReadOnly` does not load all frames into memory and user need to iterate to get the frame\n",
    "import netCDF4 as netcdf\n",
    "top_name = \"../tests/data/nogit/remd/myparm.top\"\n",
    "filename = \"../tests/data/nogit/remd/remd.000.ncdf\""
   ]
  },
  {
   "cell_type": "code",
   "execution_count": 3,
   "metadata": {
    "collapsed": true
   },
   "outputs": [],
   "source": [
    "# need to repload module to I don't need to run this notebook from the begining (which is really slow)\n",
    "from pytraj import io\n",
    "from MDAnalysis import Universe"
   ]
  },
  {
   "cell_type": "code",
   "execution_count": 4,
   "metadata": {
    "collapsed": false
   },
   "outputs": [
    {
     "name": "stdout",
     "output_type": "stream",
     "text": [
      "1 loops, best of 3: 208 ms per loop\n",
      "1 loops, best of 3: 773 ms per loop\n"
     ]
    }
   ],
   "source": [
    "%timeit traj = io.load(filename, top_name)\n",
    "%timeit u = Universe(top_name, filename) # we use opposite file order\n",
    "\n",
    "# `pytraj` load file 3 times faster"
   ]
  },
  {
   "cell_type": "code",
   "execution_count": 5,
   "metadata": {
    "collapsed": true
   },
   "outputs": [],
   "source": [
    "# reload files since we used timeit\n",
    "traj = io.load(filename, top_name)\n",
    "u = Universe(top_name, filename) # we use opposite file order"
   ]
  },
  {
   "cell_type": "code",
   "execution_count": 6,
   "metadata": {
    "collapsed": false
   },
   "outputs": [
    {
     "name": "stdout",
     "output_type": "stream",
     "text": [
      "1 loops, best of 3: 985 ms per loop\n",
      "1 loops, best of 3: 2.93 s per loop\n"
     ]
    }
   ],
   "source": [
    "## iterating\n",
    "\n",
    "%timeit for frame in traj: pass\n",
    "%timeit for frame in u.trajectory: pass\n",
    "\n",
    "# pytraj is about 3 times faster. If using FrameArray, iterating happens in <1 ms."
   ]
  },
  {
   "cell_type": "code",
   "execution_count": 8,
   "metadata": {
    "collapsed": false
   },
   "outputs": [
    {
     "name": "stdout",
     "output_type": "stream",
     "text": [
      "10 loops, best of 3: 130 ms per loop\n",
      "1 loops, best of 3: 308 ms per loop\n"
     ]
    }
   ],
   "source": [
    "## iterating for a chunk\n",
    "%timeit for frame in traj(10, 999, 10): pass # twice faster\n",
    "%timeit for frame in u.trajectory[10:999:10]: pass"
   ]
  },
  {
   "cell_type": "markdown",
   "metadata": {},
   "source": [
    "## Note: I still need to check how MDanalysis does the calculation (rmsd, ...) to update this comparison"
   ]
  }
 ],
 "metadata": {
  "kernelspec": {
   "display_name": "Python 2",
   "language": "python",
   "name": "python2"
  },
  "language_info": {
   "codemirror_mode": {
    "name": "ipython",
    "version": 2
   },
   "file_extension": ".py",
   "mimetype": "text/x-python",
   "name": "python",
   "nbconvert_exporter": "python",
   "pygments_lexer": "ipython2",
   "version": "2.7.9"
  }
 },
 "nbformat": 4,
 "nbformat_minor": 0
}
