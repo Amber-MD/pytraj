{
 "cells": [
  {
   "cell_type": "code",
   "execution_count": 1,
   "metadata": {
    "collapsed": true
   },
   "outputs": [],
   "source": [
    "import pytraj as pt\n",
    "\n",
    "traj = pt.load('traj.nc', top='prmtop')\n",
    "\n",
    "# superpose to first frame, using CA atom\n",
    "traj.superpose(mask='@CA', ref=0)\n",
    "\n",
    "# create trajectory viewer in Jupyter notebook (using nglview)\n",
    "view = traj.view()\n",
    "view"
   ]
  }
 ],
 "metadata": {
  "kernelspec": {
   "display_name": "Python 3",
   "language": "python",
   "name": "python3"
  },
  "language_info": {
   "codemirror_mode": {
    "name": "ipython",
    "version": 3
   },
   "file_extension": ".py",
   "mimetype": "text/x-python",
   "name": "python",
   "nbconvert_exporter": "python",
   "pygments_lexer": "ipython3",
   "version": "3.5.1"
  }
 },
 "nbformat": 4,
 "nbformat_minor": 0
}
